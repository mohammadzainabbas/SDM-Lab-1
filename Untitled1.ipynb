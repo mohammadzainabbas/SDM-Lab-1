{
 "cells": [
  {
   "cell_type": "code",
   "execution_count": 2,
   "id": "8f567260-d4e2-4e9d-80de-177d16e0043f",
   "metadata": {},
   "outputs": [],
   "source": [
    "from neo4j import (GraphDatabase, basic_auth,)\n",
    "\n",
    "driver = GraphDatabase.driver('bolt://localhost:7687', auth=basic_auth('neo4j', 1234))"
   ]
  },
  {
   "cell_type": "code",
   "execution_count": 7,
   "id": "b914f2cc-146c-407b-a0f9-29602eafd812",
   "metadata": {},
   "outputs": [
    {
     "ename": "SyntaxError",
     "evalue": "invalid syntax (Temp/ipykernel_13504/3990995096.py, line 1)",
     "output_type": "error",
     "traceback": [
      "\u001b[1;36m  File \u001b[1;32m\"C:\\Users\\User\\AppData\\Local\\Temp/ipykernel_13504/3990995096.py\"\u001b[1;36m, line \u001b[1;32m1\u001b[0m\n\u001b[1;33m    create database netflix IF NOT EXISTS\u001b[0m\n\u001b[1;37m           ^\u001b[0m\n\u001b[1;31mSyntaxError\u001b[0m\u001b[1;31m:\u001b[0m invalid syntax\n"
     ]
    }
   ],
   "source": [
    "create database netflix IF NOT EXISTS\n"
   ]
  },
  {
   "cell_type": "code",
   "execution_count": null,
   "id": "4ddd6ca0-b67b-41e4-b2f2-9a72f60556b5",
   "metadata": {},
   "outputs": [],
   "source": []
  }
 ],
 "metadata": {
  "kernelspec": {
   "display_name": "Py SDM",
   "language": "python",
   "name": "sdm"
  },
  "language_info": {
   "codemirror_mode": {
    "name": "ipython",
    "version": 3
   },
   "file_extension": ".py",
   "mimetype": "text/x-python",
   "name": "python",
   "nbconvert_exporter": "python",
   "pygments_lexer": "ipython3",
   "version": "3.9.7"
  }
 },
 "nbformat": 4,
 "nbformat_minor": 5
}
