{
 "cells": [
  {
   "cell_type": "code",
   "execution_count": 1,
   "id": "d0e99e77-826c-4873-b43b-8fa69c3e6260",
   "metadata": {},
   "outputs": [],
   "source": [
    "from connect import Neo4jConnection"
   ]
  },
  {
   "cell_type": "code",
   "execution_count": 2,
   "id": "9a8b9c1b-f8d8-4410-97bc-e5ac80844721",
   "metadata": {},
   "outputs": [],
   "source": [
    "database = \"minigraphweb\""
   ]
  },
  {
   "cell_type": "code",
   "execution_count": 3,
   "id": "83bf2854-fbc6-4842-8a2f-27b9fcb76746",
   "metadata": {},
   "outputs": [],
   "source": [
    "driver = Neo4jConnection(uri=\"bolt://localhost:7687\", user=None, pwd=None, database=database)"
   ]
  },
  {
   "cell_type": "code",
   "execution_count": 4,
   "id": "f60b0326-dda5-4ff5-b96d-abd95f859534",
   "metadata": {},
   "outputs": [],
   "source": [
    "r = driver.query(\"\"\"\n",
    "Match(n) return n\n",
    "\"\"\")"
   ]
  },
  {
   "cell_type": "code",
   "execution_count": 5,
   "id": "14e4f9b6-2e06-41f5-9409-29d2d304788e",
   "metadata": {},
   "outputs": [
    {
     "data": {
      "text/plain": [
       "[<Record n=<Node id=0 labels=frozenset({'URL'}) properties={'name': 0}>>,\n",
       " <Record n=<Node id=1 labels=frozenset({'URL'}) properties={'name': 1}>>,\n",
       " <Record n=<Node id=2 labels=frozenset({'URL'}) properties={'name': 2}>>,\n",
       " <Record n=<Node id=3 labels=frozenset({'URL'}) properties={'name': 3}>>,\n",
       " <Record n=<Node id=4 labels=frozenset({'URL'}) properties={'name': 4}>>,\n",
       " <Record n=<Node id=5 labels=frozenset({'URL'}) properties={'name': 5}>>,\n",
       " <Record n=<Node id=6 labels=frozenset({'URL'}) properties={'name': 6}>>,\n",
       " <Record n=<Node id=7 labels=frozenset({'URL'}) properties={'name': 7}>>,\n",
       " <Record n=<Node id=8 labels=frozenset({'URL'}) properties={'name': 8}>>,\n",
       " <Record n=<Node id=9 labels=frozenset({'URL'}) properties={'name': 9}>>]"
      ]
     },
     "execution_count": 5,
     "metadata": {},
     "output_type": "execute_result"
    }
   ],
   "source": [
    "list(r)"
   ]
  },
  {
   "cell_type": "code",
   "execution_count": 6,
   "id": "875ecbf5-5d5f-4f1a-ba83-c9437a352009",
   "metadata": {},
   "outputs": [
    {
     "ename": "TypeError",
     "evalue": "'Result' object is not subscriptable",
     "output_type": "error",
     "traceback": [
      "\u001b[0;31m---------------------------------------------------------------------------\u001b[0m",
      "\u001b[0;31mTypeError\u001b[0m                                 Traceback (most recent call last)",
      "Input \u001b[0;32mIn [6]\u001b[0m, in \u001b[0;36m<cell line: 1>\u001b[0;34m()\u001b[0m\n\u001b[0;32m----> 1\u001b[0m \u001b[38;5;28mlist\u001b[39m(\u001b[43mr\u001b[49m\u001b[43m[\u001b[49m\u001b[38;5;241;43m0\u001b[39;49m\u001b[43m]\u001b[49m)\n",
      "\u001b[0;31mTypeError\u001b[0m: 'Result' object is not subscriptable"
     ]
    }
   ],
   "source": [
    "list(r[0])"
   ]
  },
  {
   "cell_type": "code",
   "execution_count": 7,
   "id": "64350fc1-0090-4f77-aee8-7f85ac54082b",
   "metadata": {},
   "outputs": [
    {
     "ename": "NameError",
     "evalue": "name 'db' is not defined",
     "output_type": "error",
     "traceback": [
      "\u001b[0;31m---------------------------------------------------------------------------\u001b[0m",
      "\u001b[0;31mNameError\u001b[0m                                 Traceback (most recent call last)",
      "Input \u001b[0;32mIn [7]\u001b[0m, in \u001b[0;36m<cell line: 1>\u001b[0;34m()\u001b[0m\n\u001b[0;32m----> 1\u001b[0m result \u001b[38;5;241m=\u001b[39m \u001b[43mdb\u001b[49m\u001b[38;5;241m.\u001b[39mrun(\u001b[38;5;124m\"\"\"\u001b[39m\n\u001b[1;32m      2\u001b[0m \u001b[38;5;124mMatch(n) RETURN n\u001b[39m\n\u001b[1;32m      3\u001b[0m \u001b[38;5;124m\"\"\"\u001b[39m)\n",
      "\u001b[0;31mNameError\u001b[0m: name 'db' is not defined"
     ]
    }
   ],
   "source": [
    "result = db.run(\"\"\"\n",
    "Match(n) RETURN n\n",
    "\"\"\")"
   ]
  },
  {
   "cell_type": "code",
   "execution_count": 15,
   "id": "05b1c08a-a83f-48c6-b2e1-563894ac5b27",
   "metadata": {},
   "outputs": [
    {
     "data": {
      "text/plain": [
       "list"
      ]
     },
     "execution_count": 15,
     "metadata": {},
     "output_type": "execute_result"
    }
   ],
   "source": [
    "type(result.keys())"
   ]
  },
  {
   "cell_type": "code",
   "execution_count": 17,
   "id": "31758b38-de3c-456b-b20e-9ef41297125e",
   "metadata": {},
   "outputs": [
    {
     "data": {
      "text/plain": [
       "[]"
      ]
     },
     "execution_count": 17,
     "metadata": {},
     "output_type": "execute_result"
    }
   ],
   "source": [
    "result.value()"
   ]
  },
  {
   "cell_type": "code",
   "execution_count": null,
   "id": "5af03943-4ea4-4d66-ac2a-f33e03d46dfa",
   "metadata": {},
   "outputs": [],
   "source": []
  }
 ],
 "metadata": {
  "kernelspec": {
   "display_name": "Py SDM",
   "language": "python",
   "name": "sdm"
  },
  "language_info": {
   "codemirror_mode": {
    "name": "ipython",
    "version": 3
   },
   "file_extension": ".py",
   "mimetype": "text/x-python",
   "name": "python",
   "nbconvert_exporter": "python",
   "pygments_lexer": "ipython3",
   "version": "3.8.12"
  }
 },
 "nbformat": 4,
 "nbformat_minor": 5
}
