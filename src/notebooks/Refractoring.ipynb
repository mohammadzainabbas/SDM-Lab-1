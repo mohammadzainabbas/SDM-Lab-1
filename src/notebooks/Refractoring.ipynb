{
 "cells": [
  {
   "cell_type": "code",
   "execution_count": 1,
   "id": "4ce0a78e-234a-4ab8-901f-8d3d478301e9",
   "metadata": {},
   "outputs": [],
   "source": [
    "import pandas as pd\n",
    "from os import getcwd, listdir, makedirs\n",
    "from os.path import join, isfile, exists, abspath, pardir\n",
    "from sys import path\n",
    "import re"
   ]
  },
  {
   "cell_type": "code",
   "execution_count": 4,
   "id": "64fa572d-c610-4801-90f4-ede2794d05e2",
   "metadata": {},
   "outputs": [],
   "source": [
    "parent_dir = abspath(join(join(getcwd(), pardir), pardir))\n",
    "data_dir = join(parent_dir, \"data\")\n",
    "scripts_dir = join(parent_dir, \"src\", \"scripts\")"
   ]
  },
  {
   "cell_type": "code",
   "execution_count": 3,
   "id": "41dc1a78-69b2-4c6d-b6b8-d5330919e117",
   "metadata": {},
   "outputs": [
    {
     "data": {
      "text/plain": [
       "['keywords_df.csv',\n",
       " 'publications.csv',\n",
       " 'publication_db.dump',\n",
       " 'journals.csv',\n",
       " 'affiliations_df.csv',\n",
       " 'documents_df.csv',\n",
       " '.ipynb_checkpoints',\n",
       " 'keywords.csv']"
      ]
     },
     "execution_count": 3,
     "metadata": {},
     "output_type": "execute_result"
    }
   ],
   "source": [
    "listdir(data_dir)"
   ]
  },
  {
   "cell_type": "code",
   "execution_count": 5,
   "id": "d04baba3-1c1f-4deb-9c54-920e12f76a22",
   "metadata": {},
   "outputs": [],
   "source": [
    "data_file = join(data_dir, \"documents_df.csv\")"
   ]
  },
  {
   "cell_type": "code",
   "execution_count": 7,
   "id": "71e121e2-6fdf-4632-bb01-f6875c4950dc",
   "metadata": {},
   "outputs": [],
   "source": [
    "df = pd.read_csv(data_file)"
   ]
  },
  {
   "cell_type": "code",
   "execution_count": 13,
   "id": "af2c6ace-4ac4-407a-aac4-cbbbdfd1c6b3",
   "metadata": {},
   "outputs": [
    {
     "data": {
      "text/html": [
       "<div>\n",
       "<style scoped>\n",
       "    .dataframe tbody tr th:only-of-type {\n",
       "        vertical-align: middle;\n",
       "    }\n",
       "\n",
       "    .dataframe tbody tr th {\n",
       "        vertical-align: top;\n",
       "    }\n",
       "\n",
       "    .dataframe thead th {\n",
       "        text-align: right;\n",
       "    }\n",
       "</style>\n",
       "<table border=\"1\" class=\"dataframe\">\n",
       "  <thead>\n",
       "    <tr style=\"text-align: right;\">\n",
       "      <th></th>\n",
       "      <th>Unnamed: 0</th>\n",
       "      <th>author_id</th>\n",
       "      <th>doi</th>\n",
       "      <th>title</th>\n",
       "      <th>abstract</th>\n",
       "      <th>author_keywords</th>\n",
       "      <th>index_keywords</th>\n",
       "      <th>document_type</th>\n",
       "      <th>cited_count</th>\n",
       "      <th>source_title</th>\n",
       "      <th>keywords</th>\n",
       "    </tr>\n",
       "  </thead>\n",
       "  <tbody>\n",
       "    <tr>\n",
       "      <th>0</th>\n",
       "      <td>0</td>\n",
       "      <td>5.721820e+10</td>\n",
       "      <td>10.1007/978-3-030-51758-8_15</td>\n",
       "      <td>Self-assessment of Proficiency of Intelligent ...</td>\n",
       "      <td>Autonomous systems, although capable of perfor...</td>\n",
       "      <td>Environment; Goal(s); Intelligent agents; Prof...</td>\n",
       "      <td>Drones; Human engineering; Intelligent systems...</td>\n",
       "      <td>Conference Paper</td>\n",
       "      <td>NaN</td>\n",
       "      <td>Advances in Intelligent Systems and Computing</td>\n",
       "      <td>[Environment,  Goal(s),  Intelligent agents,  ...</td>\n",
       "    </tr>\n",
       "    <tr>\n",
       "      <th>1</th>\n",
       "      <td>0</td>\n",
       "      <td>7.004904e+09</td>\n",
       "      <td>10.1007/978-3-030-51758-8_15</td>\n",
       "      <td>Self-assessment of Proficiency of Intelligent ...</td>\n",
       "      <td>Autonomous systems, although capable of perfor...</td>\n",
       "      <td>Environment; Goal(s); Intelligent agents; Prof...</td>\n",
       "      <td>Drones; Human engineering; Intelligent systems...</td>\n",
       "      <td>Conference Paper</td>\n",
       "      <td>NaN</td>\n",
       "      <td>Advances in Intelligent Systems and Computing</td>\n",
       "      <td>[Environment,  Goal(s),  Intelligent agents,  ...</td>\n",
       "    </tr>\n",
       "    <tr>\n",
       "      <th>2</th>\n",
       "      <td>0</td>\n",
       "      <td>7.005513e+09</td>\n",
       "      <td>10.1007/978-3-030-51758-8_15</td>\n",
       "      <td>Self-assessment of Proficiency of Intelligent ...</td>\n",
       "      <td>Autonomous systems, although capable of perfor...</td>\n",
       "      <td>Environment; Goal(s); Intelligent agents; Prof...</td>\n",
       "      <td>Drones; Human engineering; Intelligent systems...</td>\n",
       "      <td>Conference Paper</td>\n",
       "      <td>NaN</td>\n",
       "      <td>Advances in Intelligent Systems and Computing</td>\n",
       "      <td>[Environment,  Goal(s),  Intelligent agents,  ...</td>\n",
       "    </tr>\n",
       "    <tr>\n",
       "      <th>3</th>\n",
       "      <td>0</td>\n",
       "      <td>NaN</td>\n",
       "      <td>10.1007/978-3-030-51758-8_15</td>\n",
       "      <td>Self-assessment of Proficiency of Intelligent ...</td>\n",
       "      <td>Autonomous systems, although capable of perfor...</td>\n",
       "      <td>Environment; Goal(s); Intelligent agents; Prof...</td>\n",
       "      <td>Drones; Human engineering; Intelligent systems...</td>\n",
       "      <td>Conference Paper</td>\n",
       "      <td>NaN</td>\n",
       "      <td>Advances in Intelligent Systems and Computing</td>\n",
       "      <td>[Environment,  Goal(s),  Intelligent agents,  ...</td>\n",
       "    </tr>\n",
       "    <tr>\n",
       "      <th>4</th>\n",
       "      <td>1</td>\n",
       "      <td>6.508306e+09</td>\n",
       "      <td>10.1007/978-3-030-58653-9_3</td>\n",
       "      <td>Bridging theory to practice: Feedforward and c...</td>\n",
       "      <td>Practice is of the essence in Engineering cour...</td>\n",
       "      <td>NaN</td>\n",
       "      <td>Automation; Cascade control systems; Computati...</td>\n",
       "      <td>Conference Paper</td>\n",
       "      <td>NaN</td>\n",
       "      <td>Lecture Notes in Electrical Engineering</td>\n",
       "      <td>NaN</td>\n",
       "    </tr>\n",
       "  </tbody>\n",
       "</table>\n",
       "</div>"
      ],
      "text/plain": [
       "   Unnamed: 0     author_id                           doi  \\\n",
       "0           0  5.721820e+10  10.1007/978-3-030-51758-8_15   \n",
       "1           0  7.004904e+09  10.1007/978-3-030-51758-8_15   \n",
       "2           0  7.005513e+09  10.1007/978-3-030-51758-8_15   \n",
       "3           0           NaN  10.1007/978-3-030-51758-8_15   \n",
       "4           1  6.508306e+09   10.1007/978-3-030-58653-9_3   \n",
       "\n",
       "                                               title  \\\n",
       "0  Self-assessment of Proficiency of Intelligent ...   \n",
       "1  Self-assessment of Proficiency of Intelligent ...   \n",
       "2  Self-assessment of Proficiency of Intelligent ...   \n",
       "3  Self-assessment of Proficiency of Intelligent ...   \n",
       "4  Bridging theory to practice: Feedforward and c...   \n",
       "\n",
       "                                            abstract  \\\n",
       "0  Autonomous systems, although capable of perfor...   \n",
       "1  Autonomous systems, although capable of perfor...   \n",
       "2  Autonomous systems, although capable of perfor...   \n",
       "3  Autonomous systems, although capable of perfor...   \n",
       "4  Practice is of the essence in Engineering cour...   \n",
       "\n",
       "                                     author_keywords  \\\n",
       "0  Environment; Goal(s); Intelligent agents; Prof...   \n",
       "1  Environment; Goal(s); Intelligent agents; Prof...   \n",
       "2  Environment; Goal(s); Intelligent agents; Prof...   \n",
       "3  Environment; Goal(s); Intelligent agents; Prof...   \n",
       "4                                                NaN   \n",
       "\n",
       "                                      index_keywords     document_type  \\\n",
       "0  Drones; Human engineering; Intelligent systems...  Conference Paper   \n",
       "1  Drones; Human engineering; Intelligent systems...  Conference Paper   \n",
       "2  Drones; Human engineering; Intelligent systems...  Conference Paper   \n",
       "3  Drones; Human engineering; Intelligent systems...  Conference Paper   \n",
       "4  Automation; Cascade control systems; Computati...  Conference Paper   \n",
       "\n",
       "   cited_count                                   source_title  \\\n",
       "0          NaN  Advances in Intelligent Systems and Computing   \n",
       "1          NaN  Advances in Intelligent Systems and Computing   \n",
       "2          NaN  Advances in Intelligent Systems and Computing   \n",
       "3          NaN  Advances in Intelligent Systems and Computing   \n",
       "4          NaN        Lecture Notes in Electrical Engineering   \n",
       "\n",
       "                                            keywords  \n",
       "0  [Environment,  Goal(s),  Intelligent agents,  ...  \n",
       "1  [Environment,  Goal(s),  Intelligent agents,  ...  \n",
       "2  [Environment,  Goal(s),  Intelligent agents,  ...  \n",
       "3  [Environment,  Goal(s),  Intelligent agents,  ...  \n",
       "4                                                NaN  "
      ]
     },
     "execution_count": 13,
     "metadata": {},
     "output_type": "execute_result"
    }
   ],
   "source": [
    "df.head()"
   ]
  },
  {
   "cell_type": "code",
   "execution_count": 9,
   "id": "fd546547-cabd-4a7d-93c4-3eb688b0e570",
   "metadata": {},
   "outputs": [],
   "source": [
    "df['keywords']= df['author_keywords'] + df['index_keywords']"
   ]
  },
  {
   "cell_type": "code",
   "execution_count": 12,
   "id": "cdc2ed3d-096a-4acd-b05d-ce8f7da3d8de",
   "metadata": {},
   "outputs": [],
   "source": [
    "df['keywords'] = df['keywords'].str.split(\";\")"
   ]
  },
  {
   "cell_type": "code",
   "execution_count": 22,
   "id": "1ae1a844-fe64-4fb5-bc8f-257f84ffadc8",
   "metadata": {},
   "outputs": [],
   "source": [
    "df.drop(columns=[df.columns[0], 'author_keywords', 'index_keywords'], axis=1, inplace=True)"
   ]
  },
  {
   "cell_type": "code",
   "execution_count": 25,
   "id": "f9a8cefe-36e9-4ca0-bbbe-308caa8822e4",
   "metadata": {},
   "outputs": [],
   "source": [
    "df.to_csv(join(data_dir, \"documents.csv\"), index=False)"
   ]
  },
  {
   "cell_type": "code",
   "execution_count": null,
   "id": "498b224c-6170-4a5b-80c4-17dfa4624c73",
   "metadata": {},
   "outputs": [],
   "source": []
  }
 ],
 "metadata": {
  "kernelspec": {
   "display_name": "Py SDM",
   "language": "python",
   "name": "sdm"
  },
  "language_info": {
   "codemirror_mode": {
    "name": "ipython",
    "version": 3
   },
   "file_extension": ".py",
   "mimetype": "text/x-python",
   "name": "python",
   "nbconvert_exporter": "python",
   "pygments_lexer": "ipython3",
   "version": "3.8.12"
  }
 },
 "nbformat": 4,
 "nbformat_minor": 5
}
