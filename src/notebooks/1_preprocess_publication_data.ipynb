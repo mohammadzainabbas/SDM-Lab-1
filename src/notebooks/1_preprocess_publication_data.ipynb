{
 "cells": [
  {
   "cell_type": "code",
   "execution_count": 1,
   "id": "77aa5f9e-ca15-44e1-85c7-5159a0b420e9",
   "metadata": {},
   "outputs": [],
   "source": [
    "import pandas as pd\n",
    "from os import getcwd\n",
    "from os.path import join, abspath, pardir\n",
    "import re"
   ]
  },
  {
   "cell_type": "markdown",
   "id": "58fc2470-e684-4ff9-a9db-3c7dea9b4c4e",
   "metadata": {},
   "source": [
    "##### Configs"
   ]
  },
  {
   "cell_type": "code",
   "execution_count": 2,
   "id": "e3ea4991-7a09-4bd7-8de9-0722eaa0ae82",
   "metadata": {},
   "outputs": [],
   "source": [
    "parent_dir = abspath(join(join(getcwd(), pardir), pardir))\n",
    "data_dir = join(parent_dir, \"data\")\n",
    "scripts_dir = join(parent_dir, \"src\", \"scripts\")\n",
    "data_file = join(data_dir, \"publications.csv\")"
   ]
  },
  {
   "cell_type": "markdown",
   "id": "3d220047-dfec-4517-8994-3725e441c515",
   "metadata": {},
   "source": [
    "##### Load data"
   ]
  },
  {
   "cell_type": "code",
   "execution_count": 3,
   "id": "4c303e80-ad7d-46a2-b7a5-3f4514d0774f",
   "metadata": {},
   "outputs": [
    {
     "data": {
      "text/html": [
       "<div>\n",
       "<style scoped>\n",
       "    .dataframe tbody tr th:only-of-type {\n",
       "        vertical-align: middle;\n",
       "    }\n",
       "\n",
       "    .dataframe tbody tr th {\n",
       "        vertical-align: top;\n",
       "    }\n",
       "\n",
       "    .dataframe thead th {\n",
       "        text-align: right;\n",
       "    }\n",
       "</style>\n",
       "<table border=\"1\" class=\"dataframe\">\n",
       "  <thead>\n",
       "    <tr style=\"text-align: right;\">\n",
       "      <th></th>\n",
       "      <th>Authors</th>\n",
       "      <th>Author(s) ID</th>\n",
       "      <th>Title</th>\n",
       "      <th>Year</th>\n",
       "      <th>Source title</th>\n",
       "      <th>Volume</th>\n",
       "      <th>Issue</th>\n",
       "      <th>Art. No.</th>\n",
       "      <th>Page start</th>\n",
       "      <th>Page end</th>\n",
       "      <th>...</th>\n",
       "      <th>Affiliations</th>\n",
       "      <th>Authors with affiliations</th>\n",
       "      <th>Abstract</th>\n",
       "      <th>Author Keywords</th>\n",
       "      <th>Index Keywords</th>\n",
       "      <th>Document Type</th>\n",
       "      <th>Publication Stage</th>\n",
       "      <th>Access Type</th>\n",
       "      <th>Source</th>\n",
       "      <th>EID</th>\n",
       "    </tr>\n",
       "  </thead>\n",
       "  <tbody>\n",
       "    <tr>\n",
       "      <th>0</th>\n",
       "      <td>Gautam A., Crandall J.W., Goodrich M.A.</td>\n",
       "      <td>57218202833;7004904337;7005513246;</td>\n",
       "      <td>Self-assessment of Proficiency of Intelligent ...</td>\n",
       "      <td>2021</td>\n",
       "      <td>Advances in Intelligent Systems and Computing</td>\n",
       "      <td>1210 AISC</td>\n",
       "      <td>NaN</td>\n",
       "      <td>NaN</td>\n",
       "      <td>108</td>\n",
       "      <td>113</td>\n",
       "      <td>...</td>\n",
       "      <td>Computer Science Department, Brigham Young Uni...</td>\n",
       "      <td>Gautam, A., Computer Science Department, Brigh...</td>\n",
       "      <td>Autonomous systems, although capable of perfor...</td>\n",
       "      <td>Environment; Goal(s); Intelligent agents; Prof...</td>\n",
       "      <td>Drones; Human engineering; Intelligent systems...</td>\n",
       "      <td>Conference Paper</td>\n",
       "      <td>Final</td>\n",
       "      <td>NaN</td>\n",
       "      <td>Scopus</td>\n",
       "      <td>2-s2.0-85088238482</td>\n",
       "    </tr>\n",
       "    <tr>\n",
       "      <th>1</th>\n",
       "      <td>de Moura Oliveira P.B., Hedengren J.D., Boaven...</td>\n",
       "      <td>6508306234;9277159100;6507358470;</td>\n",
       "      <td>Bridging theory to practice: Feedforward and c...</td>\n",
       "      <td>2021</td>\n",
       "      <td>Lecture Notes in Electrical Engineering</td>\n",
       "      <td>695 LNEE</td>\n",
       "      <td>NaN</td>\n",
       "      <td>NaN</td>\n",
       "      <td>23</td>\n",
       "      <td>32</td>\n",
       "      <td>...</td>\n",
       "      <td>INESC-TEC Technology and Science, Campus da FE...</td>\n",
       "      <td>de Moura Oliveira, P.B., INESC-TEC Technology ...</td>\n",
       "      <td>Practice is of the essence in Engineering cour...</td>\n",
       "      <td>NaN</td>\n",
       "      <td>Automation; Cascade control systems; Computati...</td>\n",
       "      <td>Conference Paper</td>\n",
       "      <td>Final</td>\n",
       "      <td>NaN</td>\n",
       "      <td>Scopus</td>\n",
       "      <td>2-s2.0-85091306533</td>\n",
       "    </tr>\n",
       "    <tr>\n",
       "      <th>2</th>\n",
       "      <td>Hajimirzaie S.M., Hotchkiss R.H.</td>\n",
       "      <td>53879700900;26642910500;</td>\n",
       "      <td>Development of sediment management guidelines ...</td>\n",
       "      <td>2020</td>\n",
       "      <td>Journal of Hydraulic Engineering</td>\n",
       "      <td>146</td>\n",
       "      <td>12</td>\n",
       "      <td>02520004</td>\n",
       "      <td>NaN</td>\n",
       "      <td>NaN</td>\n",
       "      <td>...</td>\n",
       "      <td>Task Committee Secretary and Lead Engineer, Op...</td>\n",
       "      <td>Hajimirzaie, S.M., Task Committee Secretary an...</td>\n",
       "      <td>Forum papers are thought-provoking opinion pie...</td>\n",
       "      <td>NaN</td>\n",
       "      <td>Hydraulics; Editorial board; Sediment manageme...</td>\n",
       "      <td>Review</td>\n",
       "      <td>Final</td>\n",
       "      <td>NaN</td>\n",
       "      <td>Scopus</td>\n",
       "      <td>2-s2.0-85091917202</td>\n",
       "    </tr>\n",
       "  </tbody>\n",
       "</table>\n",
       "<p>3 rows × 24 columns</p>\n",
       "</div>"
      ],
      "text/plain": [
       "                                             Authors  \\\n",
       "0            Gautam A., Crandall J.W., Goodrich M.A.   \n",
       "1  de Moura Oliveira P.B., Hedengren J.D., Boaven...   \n",
       "2                   Hajimirzaie S.M., Hotchkiss R.H.   \n",
       "\n",
       "                         Author(s) ID  \\\n",
       "0  57218202833;7004904337;7005513246;   \n",
       "1   6508306234;9277159100;6507358470;   \n",
       "2            53879700900;26642910500;   \n",
       "\n",
       "                                               Title  Year  \\\n",
       "0  Self-assessment of Proficiency of Intelligent ...  2021   \n",
       "1  Bridging theory to practice: Feedforward and c...  2021   \n",
       "2  Development of sediment management guidelines ...  2020   \n",
       "\n",
       "                                    Source title     Volume Issue   Art. No.  \\\n",
       "0  Advances in Intelligent Systems and Computing  1210 AISC   NaN        NaN   \n",
       "1        Lecture Notes in Electrical Engineering   695 LNEE   NaN        NaN   \n",
       "2               Journal of Hydraulic Engineering        146    12   02520004   \n",
       "\n",
       "  Page start Page end  ...                                       Affiliations  \\\n",
       "0        108      113  ...  Computer Science Department, Brigham Young Uni...   \n",
       "1         23       32  ...  INESC-TEC Technology and Science, Campus da FE...   \n",
       "2        NaN      NaN  ...  Task Committee Secretary and Lead Engineer, Op...   \n",
       "\n",
       "                           Authors with affiliations  \\\n",
       "0  Gautam, A., Computer Science Department, Brigh...   \n",
       "1  de Moura Oliveira, P.B., INESC-TEC Technology ...   \n",
       "2  Hajimirzaie, S.M., Task Committee Secretary an...   \n",
       "\n",
       "                                            Abstract  \\\n",
       "0  Autonomous systems, although capable of perfor...   \n",
       "1  Practice is of the essence in Engineering cour...   \n",
       "2  Forum papers are thought-provoking opinion pie...   \n",
       "\n",
       "                                     Author Keywords  \\\n",
       "0  Environment; Goal(s); Intelligent agents; Prof...   \n",
       "1                                                NaN   \n",
       "2                                                NaN   \n",
       "\n",
       "                                      Index Keywords     Document Type  \\\n",
       "0  Drones; Human engineering; Intelligent systems...  Conference Paper   \n",
       "1  Automation; Cascade control systems; Computati...  Conference Paper   \n",
       "2  Hydraulics; Editorial board; Sediment manageme...            Review   \n",
       "\n",
       "  Publication Stage Access Type  Source                 EID  \n",
       "0             Final         NaN  Scopus  2-s2.0-85088238482  \n",
       "1             Final         NaN  Scopus  2-s2.0-85091306533  \n",
       "2             Final         NaN  Scopus  2-s2.0-85091917202  \n",
       "\n",
       "[3 rows x 24 columns]"
      ]
     },
     "execution_count": 3,
     "metadata": {},
     "output_type": "execute_result"
    }
   ],
   "source": [
    "df = pd.read_csv(data_file)\n",
    "df.head(3)"
   ]
  },
  {
   "cell_type": "markdown",
   "id": "3a197f71-799c-49da-bfcb-6819f1379594",
   "metadata": {},
   "source": [
    "##### Define all the columns needed"
   ]
  },
  {
   "cell_type": "code",
   "execution_count": 4,
   "id": "5bd59edd-2f5c-459d-a6f5-939b0cd6bc7f",
   "metadata": {},
   "outputs": [],
   "source": [
    "journals_cols = ['Year', 'Source title', 'Volume']\n",
    "keyword_cols = ['Author Keywords', 'Index Keywords']\n",
    "affiliation_cols = ['Affiliations']\n",
    "authors_cols = ['Authors', 'Author(s) ID', 'Affiliations', 'Authors with affiliations', 'Author Keywords']\n",
    "document_cols = ['Author(s) ID', 'Title', 'Source title', 'Art. No.', 'Cited by', 'DOI', 'Abstract', 'Author Keywords', 'Index Keywords', 'Document Type']"
   ]
  },
  {
   "cell_type": "markdown",
   "id": "d53bd16d-36e5-49ad-a5b2-d212111af94e",
   "metadata": {
    "tags": []
   },
   "source": [
    "##### Helper methods"
   ]
  },
  {
   "cell_type": "code",
   "execution_count": 180,
   "id": "f859d3e3-6177-43c2-bb32-56dc3de00b5d",
   "metadata": {},
   "outputs": [],
   "source": [
    "def cast_columns(df, cols, __type):\n",
    "    df[cols] = df[cols].astype(__type)\n",
    "    return df\n",
    "def flatten(t):\n",
    "    return [item for sublist in t for item in sublist]\n",
    "\n",
    "def split_str_and_concat(df, col_name, sep=\"; \"):\n",
    "    return pd.DataFrame(df[col_name].str.split(sep).tolist(), index=keywords_df.index).stack()\n",
    "\n",
    "def filter_countries(df):\n",
    "    \"\"\"\n",
    "    Not perfect but filter out almost 99.9% countries for our dataset\n",
    "    \"\"\"\n",
    "    # Find \"(\" or \")\" or any digit\n",
    "    regex = re.compile(r\"(\\(|\\))|(\\@)|(\\d+)+\", re.S)\n",
    "    def _filter(regex, x):\n",
    "        return None if regex.search(x) else x\n",
    "    return pd.Series([_filter(regex, str(x)) for x in df['country']])\n",
    "\n",
    "def filter_department(df):\n",
    "    \"\"\"\n",
    "    Not perfect solution but good for more than 85%-90% cases. \n",
    "    \"\"\"\n",
    "    def _filter(a):\n",
    "        aa = [x for x in a.split(\",\") if str(x).find(\"Dep\") != -1 or str(x).find(\"School\") != -1]\n",
    "        return aa[0] if len(aa) else None\n",
    "    return pd.Series([_filter(str(x)) for x in df['name']])"
   ]
  },
  {
   "cell_type": "markdown",
   "id": "9b84cb0d-73d4-478c-be51-09b254c1b20d",
   "metadata": {},
   "source": [
    "`Journals`"
   ]
  },
  {
   "cell_type": "code",
   "execution_count": 6,
   "id": "7f77bc58-a72b-467b-8057-97b3dee5a547",
   "metadata": {},
   "outputs": [
    {
     "data": {
      "text/plain": [
       "Year             int64\n",
       "Source title    object\n",
       "Volume          object\n",
       "dtype: object"
      ]
     },
     "execution_count": 6,
     "metadata": {},
     "output_type": "execute_result"
    }
   ],
   "source": [
    "journals_df = df[journals_cols]\n",
    "journals_df.dtypes"
   ]
  },
  {
   "cell_type": "code",
   "execution_count": 7,
   "id": "1f147b3d-9ae9-4035-bd9a-ce72120d03b9",
   "metadata": {},
   "outputs": [
    {
     "data": {
      "text/html": [
       "<div>\n",
       "<style scoped>\n",
       "    .dataframe tbody tr th:only-of-type {\n",
       "        vertical-align: middle;\n",
       "    }\n",
       "\n",
       "    .dataframe tbody tr th {\n",
       "        vertical-align: top;\n",
       "    }\n",
       "\n",
       "    .dataframe thead th {\n",
       "        text-align: right;\n",
       "    }\n",
       "</style>\n",
       "<table border=\"1\" class=\"dataframe\">\n",
       "  <thead>\n",
       "    <tr style=\"text-align: right;\">\n",
       "      <th></th>\n",
       "      <th>Year</th>\n",
       "      <th>Source title</th>\n",
       "      <th>Volume</th>\n",
       "    </tr>\n",
       "  </thead>\n",
       "  <tbody>\n",
       "    <tr>\n",
       "      <th>0</th>\n",
       "      <td>2021</td>\n",
       "      <td>Advances in Intelligent Systems and Computing</td>\n",
       "      <td>1210 AISC</td>\n",
       "    </tr>\n",
       "    <tr>\n",
       "      <th>1</th>\n",
       "      <td>2021</td>\n",
       "      <td>Lecture Notes in Electrical Engineering</td>\n",
       "      <td>695 LNEE</td>\n",
       "    </tr>\n",
       "    <tr>\n",
       "      <th>2</th>\n",
       "      <td>2020</td>\n",
       "      <td>Journal of Hydraulic Engineering</td>\n",
       "      <td>146</td>\n",
       "    </tr>\n",
       "    <tr>\n",
       "      <th>3</th>\n",
       "      <td>2020</td>\n",
       "      <td>Journal of Computing and Information Science i...</td>\n",
       "      <td>20</td>\n",
       "    </tr>\n",
       "    <tr>\n",
       "      <th>4</th>\n",
       "      <td>2020</td>\n",
       "      <td>Telematics and Informatics</td>\n",
       "      <td>55</td>\n",
       "    </tr>\n",
       "  </tbody>\n",
       "</table>\n",
       "</div>"
      ],
      "text/plain": [
       "   Year                                       Source title     Volume\n",
       "0  2021      Advances in Intelligent Systems and Computing  1210 AISC\n",
       "1  2021            Lecture Notes in Electrical Engineering   695 LNEE\n",
       "2  2020                   Journal of Hydraulic Engineering        146\n",
       "3  2020  Journal of Computing and Information Science i...         20\n",
       "4  2020                         Telematics and Informatics         55"
      ]
     },
     "execution_count": 7,
     "metadata": {},
     "output_type": "execute_result"
    }
   ],
   "source": [
    "journals_df.head()"
   ]
  },
  {
   "cell_type": "code",
   "execution_count": 8,
   "id": "98d5ced3-5977-4952-a134-2842d8e02561",
   "metadata": {},
   "outputs": [
    {
     "name": "stderr",
     "output_type": "stream",
     "text": [
      "/var/folders/mm/5vsgc5194kqf1xnmgq439jww0000gn/T/ipykernel_42315/4139907851.py:2: SettingWithCopyWarning: \n",
      "A value is trying to be set on a copy of a slice from a DataFrame.\n",
      "Try using .loc[row_indexer,col_indexer] = value instead\n",
      "\n",
      "See the caveats in the documentation: https://pandas.pydata.org/pandas-docs/stable/user_guide/indexing.html#returning-a-view-versus-a-copy\n",
      "  df[cols] = df[cols].astype(__type)\n",
      "/var/folders/mm/5vsgc5194kqf1xnmgq439jww0000gn/T/ipykernel_42315/1831294635.py:2: SettingWithCopyWarning: \n",
      "A value is trying to be set on a copy of a slice from a DataFrame\n",
      "\n",
      "See the caveats in the documentation: https://pandas.pydata.org/pandas-docs/stable/user_guide/indexing.html#returning-a-view-versus-a-copy\n",
      "  journals_df.rename(columns={'Year': 'year', 'Source title': 'name', 'Volume': 'volume'}, inplace=True)\n"
     ]
    },
    {
     "data": {
      "text/plain": [
       "year       int64\n",
       "name      string\n",
       "volume    string\n",
       "dtype: object"
      ]
     },
     "execution_count": 8,
     "metadata": {},
     "output_type": "execute_result"
    }
   ],
   "source": [
    "journals_df = cast_columns(journals_df, ['Source title', 'Volume'], pd.StringDtype())\n",
    "journals_df.rename(columns={'Year': 'year', 'Source title': 'name', 'Volume': 'volume'}, inplace=True)\n",
    "journals_df.dtypes"
   ]
  },
  {
   "cell_type": "code",
   "execution_count": 9,
   "id": "ce8b66ec-29b8-4227-86ac-a1f67cd49181",
   "metadata": {},
   "outputs": [
    {
     "data": {
      "text/html": [
       "<div>\n",
       "<style scoped>\n",
       "    .dataframe tbody tr th:only-of-type {\n",
       "        vertical-align: middle;\n",
       "    }\n",
       "\n",
       "    .dataframe tbody tr th {\n",
       "        vertical-align: top;\n",
       "    }\n",
       "\n",
       "    .dataframe thead th {\n",
       "        text-align: right;\n",
       "    }\n",
       "</style>\n",
       "<table border=\"1\" class=\"dataframe\">\n",
       "  <thead>\n",
       "    <tr style=\"text-align: right;\">\n",
       "      <th></th>\n",
       "      <th>year</th>\n",
       "      <th>name</th>\n",
       "      <th>volume</th>\n",
       "    </tr>\n",
       "  </thead>\n",
       "  <tbody>\n",
       "    <tr>\n",
       "      <th>0</th>\n",
       "      <td>2021</td>\n",
       "      <td>Advances in Intelligent Systems and Computing</td>\n",
       "      <td>1210 AISC</td>\n",
       "    </tr>\n",
       "    <tr>\n",
       "      <th>1</th>\n",
       "      <td>2021</td>\n",
       "      <td>Lecture Notes in Electrical Engineering</td>\n",
       "      <td>695 LNEE</td>\n",
       "    </tr>\n",
       "    <tr>\n",
       "      <th>2</th>\n",
       "      <td>2020</td>\n",
       "      <td>Journal of Hydraulic Engineering</td>\n",
       "      <td>146</td>\n",
       "    </tr>\n",
       "    <tr>\n",
       "      <th>3</th>\n",
       "      <td>2020</td>\n",
       "      <td>Journal of Computing and Information Science i...</td>\n",
       "      <td>20</td>\n",
       "    </tr>\n",
       "    <tr>\n",
       "      <th>4</th>\n",
       "      <td>2020</td>\n",
       "      <td>Telematics and Informatics</td>\n",
       "      <td>55</td>\n",
       "    </tr>\n",
       "  </tbody>\n",
       "</table>\n",
       "</div>"
      ],
      "text/plain": [
       "   year                                               name     volume\n",
       "0  2021      Advances in Intelligent Systems and Computing  1210 AISC\n",
       "1  2021            Lecture Notes in Electrical Engineering   695 LNEE\n",
       "2  2020                   Journal of Hydraulic Engineering        146\n",
       "3  2020  Journal of Computing and Information Science i...         20\n",
       "4  2020                         Telematics and Informatics         55"
      ]
     },
     "execution_count": 9,
     "metadata": {},
     "output_type": "execute_result"
    }
   ],
   "source": [
    "journals_df.head()"
   ]
  },
  {
   "cell_type": "markdown",
   "id": "ebe258ce-11e4-4a5e-8a06-fb3dce9090a2",
   "metadata": {},
   "source": [
    "Which column has null values ??"
   ]
  },
  {
   "cell_type": "code",
   "execution_count": 10,
   "id": "5614a65d-9a35-45b1-a730-4145bfefd8ae",
   "metadata": {},
   "outputs": [
    {
     "data": {
      "text/plain": [
       "year      False\n",
       "name      False\n",
       "volume     True\n",
       "dtype: bool"
      ]
     },
     "execution_count": 10,
     "metadata": {},
     "output_type": "execute_result"
    }
   ],
   "source": [
    "journals_df.isnull().any()"
   ]
  },
  {
   "cell_type": "markdown",
   "id": "a4b68919-71d6-4c0a-a3c1-188c162f22a4",
   "metadata": {},
   "source": [
    "See some samples of `volume` being null"
   ]
  },
  {
   "cell_type": "code",
   "execution_count": 13,
   "id": "e4606115-2952-48ca-9a82-d7fc90ccbcf0",
   "metadata": {},
   "outputs": [
    {
     "data": {
      "text/html": [
       "<div>\n",
       "<style scoped>\n",
       "    .dataframe tbody tr th:only-of-type {\n",
       "        vertical-align: middle;\n",
       "    }\n",
       "\n",
       "    .dataframe tbody tr th {\n",
       "        vertical-align: top;\n",
       "    }\n",
       "\n",
       "    .dataframe thead th {\n",
       "        text-align: right;\n",
       "    }\n",
       "</style>\n",
       "<table border=\"1\" class=\"dataframe\">\n",
       "  <thead>\n",
       "    <tr style=\"text-align: right;\">\n",
       "      <th></th>\n",
       "      <th>year</th>\n",
       "      <th>name</th>\n",
       "      <th>volume</th>\n",
       "    </tr>\n",
       "  </thead>\n",
       "  <tbody>\n",
       "    <tr>\n",
       "      <th>22</th>\n",
       "      <td>2020</td>\n",
       "      <td>Proceedings - 2020 IEEE 21st International Con...</td>\n",
       "      <td>&lt;NA&gt;</td>\n",
       "    </tr>\n",
       "    <tr>\n",
       "      <th>50</th>\n",
       "      <td>2020</td>\n",
       "      <td>Proceedings - 2020 IEEE 34th International Par...</td>\n",
       "      <td>&lt;NA&gt;</td>\n",
       "    </tr>\n",
       "    <tr>\n",
       "      <th>95</th>\n",
       "      <td>2020</td>\n",
       "      <td>Journal of Composite Materials</td>\n",
       "      <td>&lt;NA&gt;</td>\n",
       "    </tr>\n",
       "    <tr>\n",
       "      <th>96</th>\n",
       "      <td>2020</td>\n",
       "      <td>Computing in Science and Engineering</td>\n",
       "      <td>&lt;NA&gt;</td>\n",
       "    </tr>\n",
       "    <tr>\n",
       "      <th>101</th>\n",
       "      <td>2020</td>\n",
       "      <td>International Journal of Robotics Research</td>\n",
       "      <td>&lt;NA&gt;</td>\n",
       "    </tr>\n",
       "  </tbody>\n",
       "</table>\n",
       "</div>"
      ],
      "text/plain": [
       "     year                                               name volume\n",
       "22   2020  Proceedings - 2020 IEEE 21st International Con...   <NA>\n",
       "50   2020  Proceedings - 2020 IEEE 34th International Par...   <NA>\n",
       "95   2020                     Journal of Composite Materials   <NA>\n",
       "96   2020               Computing in Science and Engineering   <NA>\n",
       "101  2020         International Journal of Robotics Research   <NA>"
      ]
     },
     "execution_count": 13,
     "metadata": {},
     "output_type": "execute_result"
    }
   ],
   "source": [
    "journals_df[journals_df['volume'].isnull()].head()"
   ]
  },
  {
   "cell_type": "markdown",
   "id": "d86e0cc6-52fd-4896-8a34-64b507c28d2a",
   "metadata": {},
   "source": [
    "Save as `journals.csv` file"
   ]
  },
  {
   "cell_type": "code",
   "execution_count": 14,
   "id": "e3f7a069-1200-47af-8bd6-2b0f2f6866e4",
   "metadata": {},
   "outputs": [],
   "source": [
    "journals_df.to_csv(join(data_dir, \"journals.csv\"), index=False)"
   ]
  },
  {
   "cell_type": "markdown",
   "id": "2fb02e75-5a35-4d77-ac06-67734301712d",
   "metadata": {},
   "source": [
    "`Keywords`"
   ]
  },
  {
   "cell_type": "code",
   "execution_count": 15,
   "id": "616a2951-698f-4a91-815a-8c62a372f4d0",
   "metadata": {},
   "outputs": [
    {
     "data": {
      "text/plain": [
       "Author Keywords    object\n",
       "Index Keywords     object\n",
       "dtype: object"
      ]
     },
     "execution_count": 15,
     "metadata": {},
     "output_type": "execute_result"
    }
   ],
   "source": [
    "keywords_df = df[keyword_cols]\n",
    "keywords_df.dtypes"
   ]
  },
  {
   "cell_type": "code",
   "execution_count": 16,
   "id": "356cfd5e-d4b4-4b07-ba97-44bf1d13e83b",
   "metadata": {},
   "outputs": [
    {
     "name": "stderr",
     "output_type": "stream",
     "text": [
      "/var/folders/mm/5vsgc5194kqf1xnmgq439jww0000gn/T/ipykernel_42315/4139907851.py:2: SettingWithCopyWarning: \n",
      "A value is trying to be set on a copy of a slice from a DataFrame.\n",
      "Try using .loc[row_indexer,col_indexer] = value instead\n",
      "\n",
      "See the caveats in the documentation: https://pandas.pydata.org/pandas-docs/stable/user_guide/indexing.html#returning-a-view-versus-a-copy\n",
      "  df[cols] = df[cols].astype(__type)\n"
     ]
    },
    {
     "data": {
      "text/plain": [
       "Author Keywords    string\n",
       "Index Keywords     string\n",
       "dtype: object"
      ]
     },
     "execution_count": 16,
     "metadata": {},
     "output_type": "execute_result"
    }
   ],
   "source": [
    "keywords_df = cast_columns(keywords_df, keyword_cols, pd.StringDtype())\n",
    "keywords_df.dtypes"
   ]
  },
  {
   "cell_type": "code",
   "execution_count": 17,
   "id": "9e9974a9-a4a4-4151-92fb-10461b3a2c7f",
   "metadata": {},
   "outputs": [
    {
     "data": {
      "text/html": [
       "<div>\n",
       "<style scoped>\n",
       "    .dataframe tbody tr th:only-of-type {\n",
       "        vertical-align: middle;\n",
       "    }\n",
       "\n",
       "    .dataframe tbody tr th {\n",
       "        vertical-align: top;\n",
       "    }\n",
       "\n",
       "    .dataframe thead th {\n",
       "        text-align: right;\n",
       "    }\n",
       "</style>\n",
       "<table border=\"1\" class=\"dataframe\">\n",
       "  <thead>\n",
       "    <tr style=\"text-align: right;\">\n",
       "      <th></th>\n",
       "      <th>Author Keywords</th>\n",
       "      <th>Index Keywords</th>\n",
       "    </tr>\n",
       "  </thead>\n",
       "  <tbody>\n",
       "    <tr>\n",
       "      <th>0</th>\n",
       "      <td>Environment; Goal(s); Intelligent agents; Prof...</td>\n",
       "      <td>Drones; Human engineering; Intelligent systems...</td>\n",
       "    </tr>\n",
       "    <tr>\n",
       "      <th>1</th>\n",
       "      <td>&lt;NA&gt;</td>\n",
       "      <td>Automation; Cascade control systems; Computati...</td>\n",
       "    </tr>\n",
       "    <tr>\n",
       "      <th>2</th>\n",
       "      <td>&lt;NA&gt;</td>\n",
       "      <td>Hydraulics; Editorial board; Sediment manageme...</td>\n",
       "    </tr>\n",
       "    <tr>\n",
       "      <th>3</th>\n",
       "      <td>Computer-aided engineering; Data-driven engine...</td>\n",
       "      <td>Compressors; Data handling; Structural design;...</td>\n",
       "    </tr>\n",
       "    <tr>\n",
       "      <th>4</th>\n",
       "      <td>Dating; Emerging adults; Mobile phones; Uses a...</td>\n",
       "      <td>Entertainment; A-RINGS; External pressures; Ro...</td>\n",
       "    </tr>\n",
       "  </tbody>\n",
       "</table>\n",
       "</div>"
      ],
      "text/plain": [
       "                                     Author Keywords  \\\n",
       "0  Environment; Goal(s); Intelligent agents; Prof...   \n",
       "1                                               <NA>   \n",
       "2                                               <NA>   \n",
       "3  Computer-aided engineering; Data-driven engine...   \n",
       "4  Dating; Emerging adults; Mobile phones; Uses a...   \n",
       "\n",
       "                                      Index Keywords  \n",
       "0  Drones; Human engineering; Intelligent systems...  \n",
       "1  Automation; Cascade control systems; Computati...  \n",
       "2  Hydraulics; Editorial board; Sediment manageme...  \n",
       "3  Compressors; Data handling; Structural design;...  \n",
       "4  Entertainment; A-RINGS; External pressures; Ro...  "
      ]
     },
     "execution_count": 17,
     "metadata": {},
     "output_type": "execute_result"
    }
   ],
   "source": [
    "keywords_df.head()"
   ]
  },
  {
   "cell_type": "code",
   "execution_count": 19,
   "id": "40e0a244-7054-4c56-bdbf-3b6e7526059d",
   "metadata": {},
   "outputs": [
    {
     "name": "stderr",
     "output_type": "stream",
     "text": [
      "/var/folders/mm/5vsgc5194kqf1xnmgq439jww0000gn/T/ipykernel_42315/501562341.py:1: SettingWithCopyWarning: \n",
      "A value is trying to be set on a copy of a slice from a DataFrame\n",
      "\n",
      "See the caveats in the documentation: https://pandas.pydata.org/pandas-docs/stable/user_guide/indexing.html#returning-a-view-versus-a-copy\n",
      "  keywords_df.dropna(inplace=True)\n"
     ]
    }
   ],
   "source": [
    "keywords_df.dropna(inplace=True)\n",
    "author_keywords = split_str_and_concat(keywords_df, 'Author Keywords')\n",
    "index_keywords = split_str_and_concat(keywords_df, 'Index Keywords')"
   ]
  },
  {
   "cell_type": "code",
   "execution_count": 20,
   "id": "b40ff903-470f-4641-a2f6-4ec128acee53",
   "metadata": {},
   "outputs": [
    {
     "name": "stderr",
     "output_type": "stream",
     "text": [
      "/var/folders/mm/5vsgc5194kqf1xnmgq439jww0000gn/T/ipykernel_42315/1269822973.py:1: FutureWarning: The series.append method is deprecated and will be removed from pandas in a future version. Use pandas.concat instead.\n",
      "  all_keywords = author_keywords.append(index_keywords)\n"
     ]
    }
   ],
   "source": [
    "all_keywords = author_keywords.append(index_keywords)\n",
    "all_keywords.drop_duplicates(keep='first', inplace=True)"
   ]
  },
  {
   "cell_type": "code",
   "execution_count": 21,
   "id": "37cd298b-8b72-49ee-b8f3-6d1ab7c603c3",
   "metadata": {},
   "outputs": [
    {
     "data": {
      "text/html": [
       "<div>\n",
       "<style scoped>\n",
       "    .dataframe tbody tr th:only-of-type {\n",
       "        vertical-align: middle;\n",
       "    }\n",
       "\n",
       "    .dataframe tbody tr th {\n",
       "        vertical-align: top;\n",
       "    }\n",
       "\n",
       "    .dataframe thead th {\n",
       "        text-align: right;\n",
       "    }\n",
       "</style>\n",
       "<table border=\"1\" class=\"dataframe\">\n",
       "  <thead>\n",
       "    <tr style=\"text-align: right;\">\n",
       "      <th></th>\n",
       "      <th></th>\n",
       "      <th>name</th>\n",
       "    </tr>\n",
       "  </thead>\n",
       "  <tbody>\n",
       "    <tr>\n",
       "      <th rowspan=\"5\" valign=\"top\">0</th>\n",
       "      <th>0</th>\n",
       "      <td>Environment</td>\n",
       "    </tr>\n",
       "    <tr>\n",
       "      <th>1</th>\n",
       "      <td>Goal(s)</td>\n",
       "    </tr>\n",
       "    <tr>\n",
       "      <th>2</th>\n",
       "      <td>Intelligent agents</td>\n",
       "    </tr>\n",
       "    <tr>\n",
       "      <th>3</th>\n",
       "      <td>Proficiency</td>\n",
       "    </tr>\n",
       "    <tr>\n",
       "      <th>4</th>\n",
       "      <td>Self-assessment</td>\n",
       "    </tr>\n",
       "  </tbody>\n",
       "</table>\n",
       "</div>"
      ],
      "text/plain": [
       "                   name\n",
       "0 0         Environment\n",
       "  1             Goal(s)\n",
       "  2  Intelligent agents\n",
       "  3         Proficiency\n",
       "  4     Self-assessment"
      ]
     },
     "execution_count": 21,
     "metadata": {},
     "output_type": "execute_result"
    }
   ],
   "source": [
    "keywords_df = pd.DataFrame({ 'name': all_keywords })\n",
    "keywords_df.head()"
   ]
  },
  {
   "cell_type": "markdown",
   "id": "c3cfb52d-2923-4d33-8cd8-5701e0f9316d",
   "metadata": {},
   "source": [
    "Save as `keywords.csv` file"
   ]
  },
  {
   "cell_type": "code",
   "execution_count": 22,
   "id": "4b1626ec-312a-48c8-b549-3a5b4a5db57f",
   "metadata": {},
   "outputs": [],
   "source": [
    "keywords_df.to_csv(join(data_dir, \"keywords.csv\"), index=False)"
   ]
  },
  {
   "cell_type": "markdown",
   "id": "86991ff3-94d5-4806-8481-b04dadefdb93",
   "metadata": {},
   "source": [
    "`Affiliations`"
   ]
  },
  {
   "cell_type": "code",
   "execution_count": 57,
   "id": "63b642d6-10ad-4e9e-8c95-d130e47ee675",
   "metadata": {},
   "outputs": [
    {
     "data": {
      "text/plain": [
       "Affiliations    object\n",
       "dtype: object"
      ]
     },
     "execution_count": 57,
     "metadata": {},
     "output_type": "execute_result"
    }
   ],
   "source": [
    "affiliations_df = df[affiliation_cols]\n",
    "affiliations_df.dtypes"
   ]
  },
  {
   "cell_type": "code",
   "execution_count": 58,
   "id": "6c4dacaa-2256-4cd2-a0e0-cb8c6f064071",
   "metadata": {},
   "outputs": [
    {
     "name": "stderr",
     "output_type": "stream",
     "text": [
      "/var/folders/mm/5vsgc5194kqf1xnmgq439jww0000gn/T/ipykernel_42315/3918059212.py:2: SettingWithCopyWarning: \n",
      "A value is trying to be set on a copy of a slice from a DataFrame.\n",
      "Try using .loc[row_indexer,col_indexer] = value instead\n",
      "\n",
      "See the caveats in the documentation: https://pandas.pydata.org/pandas-docs/stable/user_guide/indexing.html#returning-a-view-versus-a-copy\n",
      "  df[cols] = df[cols].astype(__type)\n"
     ]
    },
    {
     "data": {
      "text/plain": [
       "Affiliations    string\n",
       "dtype: object"
      ]
     },
     "execution_count": 58,
     "metadata": {},
     "output_type": "execute_result"
    }
   ],
   "source": [
    "affiliations_df = cast_columns(affiliations_df, affiliation_cols, pd.StringDtype())\n",
    "affiliations_df.dtypes"
   ]
  },
  {
   "cell_type": "code",
   "execution_count": 59,
   "id": "05f0484d-2bf6-4f0c-83c0-21c164efe163",
   "metadata": {},
   "outputs": [],
   "source": [
    "all_affiliations = pd.DataFrame(affiliations_df['Affiliations'].str.split(\"; \").tolist()).stack()\n",
    "all_affiliations.drop_duplicates(keep='first', inplace=True)\n",
    "affiliations_df = all_affiliations.to_frame(name='name').reset_index(drop=True)\n",
    "affiliations_df['country'] = affiliations_df['name'].str.rsplit(',', n=2, expand=True)[2]\n",
    "affiliations_df['country'] = filter_countries(affiliations_df)"
   ]
  },
  {
   "cell_type": "code",
   "execution_count": 60,
   "id": "450d3ee2-2886-4116-a492-0ddcdd9982f2",
   "metadata": {},
   "outputs": [],
   "source": [
    "affiliations_df['dept_name'] = filter_department(affiliations_df)"
   ]
  },
  {
   "cell_type": "code",
   "execution_count": 61,
   "id": "921bdc35-0f52-47e6-a1da-8e08bbb2b422",
   "metadata": {},
   "outputs": [
    {
     "data": {
      "text/html": [
       "<div>\n",
       "<style scoped>\n",
       "    .dataframe tbody tr th:only-of-type {\n",
       "        vertical-align: middle;\n",
       "    }\n",
       "\n",
       "    .dataframe tbody tr th {\n",
       "        vertical-align: top;\n",
       "    }\n",
       "\n",
       "    .dataframe thead th {\n",
       "        text-align: right;\n",
       "    }\n",
       "</style>\n",
       "<table border=\"1\" class=\"dataframe\">\n",
       "  <thead>\n",
       "    <tr style=\"text-align: right;\">\n",
       "      <th></th>\n",
       "      <th>name</th>\n",
       "      <th>country</th>\n",
       "      <th>dept_name</th>\n",
       "    </tr>\n",
       "  </thead>\n",
       "  <tbody>\n",
       "    <tr>\n",
       "      <th>0</th>\n",
       "      <td>Computer Science Department, Brigham Young Uni...</td>\n",
       "      <td>United States</td>\n",
       "      <td>Computer Science Department</td>\n",
       "    </tr>\n",
       "    <tr>\n",
       "      <th>1</th>\n",
       "      <td>INESC-TEC Technology and Science, Campus da FE...</td>\n",
       "      <td>Portugal</td>\n",
       "      <td>None</td>\n",
       "    </tr>\n",
       "    <tr>\n",
       "      <th>2</th>\n",
       "      <td>Department of Engineering, University of Trás-...</td>\n",
       "      <td>Portugal</td>\n",
       "      <td>Department of Engineering</td>\n",
       "    </tr>\n",
       "    <tr>\n",
       "      <th>3</th>\n",
       "      <td>Department of Chemical Engineering, Brigham Yo...</td>\n",
       "      <td>United States</td>\n",
       "      <td>Department of Chemical Engineering</td>\n",
       "    </tr>\n",
       "    <tr>\n",
       "      <th>4</th>\n",
       "      <td>Task Committee Secretary and Lead Engineer, Op...</td>\n",
       "      <td>United States</td>\n",
       "      <td>None</td>\n",
       "    </tr>\n",
       "  </tbody>\n",
       "</table>\n",
       "</div>"
      ],
      "text/plain": [
       "                                                name         country  \\\n",
       "0  Computer Science Department, Brigham Young Uni...   United States   \n",
       "1  INESC-TEC Technology and Science, Campus da FE...        Portugal   \n",
       "2  Department of Engineering, University of Trás-...        Portugal   \n",
       "3  Department of Chemical Engineering, Brigham Yo...   United States   \n",
       "4  Task Committee Secretary and Lead Engineer, Op...   United States   \n",
       "\n",
       "                            dept_name  \n",
       "0         Computer Science Department  \n",
       "1                                None  \n",
       "2           Department of Engineering  \n",
       "3  Department of Chemical Engineering  \n",
       "4                                None  "
      ]
     },
     "execution_count": 61,
     "metadata": {},
     "output_type": "execute_result"
    }
   ],
   "source": [
    "affiliations_df.head()"
   ]
  },
  {
   "cell_type": "markdown",
   "id": "d4766979-6396-4ac3-a046-b35c467ec3f7",
   "metadata": {},
   "source": [
    "Save as `affiliations.csv` file"
   ]
  },
  {
   "cell_type": "code",
   "execution_count": 62,
   "id": "6cc0a4c9-6b1e-4a80-8d13-91a63c639ed4",
   "metadata": {},
   "outputs": [],
   "source": [
    "affiliations_df.to_csv(join(data_dir, \"affiliations.csv\"), index=False)"
   ]
  },
  {
   "cell_type": "markdown",
   "id": "c8bee8e7-5405-4811-9be8-b8e2d4c30b07",
   "metadata": {},
   "source": [
    "`Documents`"
   ]
  },
  {
   "cell_type": "code",
   "execution_count": 37,
   "id": "462e02e3-a95a-403f-8c8f-4617e0a8aa3b",
   "metadata": {},
   "outputs": [],
   "source": [
    "document_df = df[document_cols]"
   ]
  },
  {
   "cell_type": "code",
   "execution_count": 38,
   "id": "735d3206-c530-437c-8b41-54f9094167f8",
   "metadata": {},
   "outputs": [
    {
     "name": "stderr",
     "output_type": "stream",
     "text": [
      "/var/folders/mm/5vsgc5194kqf1xnmgq439jww0000gn/T/ipykernel_42315/452707536.py:1: SettingWithCopyWarning: \n",
      "A value is trying to be set on a copy of a slice from a DataFrame\n",
      "\n",
      "See the caveats in the documentation: https://pandas.pydata.org/pandas-docs/stable/user_guide/indexing.html#returning-a-view-versus-a-copy\n",
      "  document_df.rename(columns=\n"
     ]
    }
   ],
   "source": [
    "document_df.rename(columns=\n",
    "              {'DOI':'doi', \n",
    "               'Author(s) ID': 'author_ids', \n",
    "               'Art. No.':'article_no', \n",
    "               'Title':'title',\n",
    "               'Abstract':'abstract',\n",
    "               'Author Keywords':'author_keywords',\n",
    "               'Index Keywords':'index_keywords',\n",
    "               'Document Type':'document_type',\n",
    "               'Cited by':'cited_count',\n",
    "               'Source title':'source_title'}, inplace=True)"
   ]
  },
  {
   "cell_type": "code",
   "execution_count": 39,
   "id": "eebf4079-e61d-4e37-ae94-3942a00cc7ef",
   "metadata": {},
   "outputs": [
    {
     "data": {
      "text/html": [
       "<div>\n",
       "<style scoped>\n",
       "    .dataframe tbody tr th:only-of-type {\n",
       "        vertical-align: middle;\n",
       "    }\n",
       "\n",
       "    .dataframe tbody tr th {\n",
       "        vertical-align: top;\n",
       "    }\n",
       "\n",
       "    .dataframe thead th {\n",
       "        text-align: right;\n",
       "    }\n",
       "</style>\n",
       "<table border=\"1\" class=\"dataframe\">\n",
       "  <thead>\n",
       "    <tr style=\"text-align: right;\">\n",
       "      <th></th>\n",
       "      <th>author_ids</th>\n",
       "      <th>title</th>\n",
       "      <th>source_title</th>\n",
       "      <th>article_no</th>\n",
       "      <th>cited_count</th>\n",
       "      <th>doi</th>\n",
       "      <th>abstract</th>\n",
       "      <th>author_keywords</th>\n",
       "      <th>index_keywords</th>\n",
       "      <th>document_type</th>\n",
       "    </tr>\n",
       "  </thead>\n",
       "  <tbody>\n",
       "    <tr>\n",
       "      <th>0</th>\n",
       "      <td>57218202833;7004904337;7005513246;</td>\n",
       "      <td>Self-assessment of Proficiency of Intelligent ...</td>\n",
       "      <td>Advances in Intelligent Systems and Computing</td>\n",
       "      <td>NaN</td>\n",
       "      <td>NaN</td>\n",
       "      <td>10.1007/978-3-030-51758-8_15</td>\n",
       "      <td>Autonomous systems, although capable of perfor...</td>\n",
       "      <td>Environment; Goal(s); Intelligent agents; Prof...</td>\n",
       "      <td>Drones; Human engineering; Intelligent systems...</td>\n",
       "      <td>Conference Paper</td>\n",
       "    </tr>\n",
       "    <tr>\n",
       "      <th>1</th>\n",
       "      <td>6508306234;9277159100;6507358470;</td>\n",
       "      <td>Bridging theory to practice: Feedforward and c...</td>\n",
       "      <td>Lecture Notes in Electrical Engineering</td>\n",
       "      <td>NaN</td>\n",
       "      <td>NaN</td>\n",
       "      <td>10.1007/978-3-030-58653-9_3</td>\n",
       "      <td>Practice is of the essence in Engineering cour...</td>\n",
       "      <td>NaN</td>\n",
       "      <td>Automation; Cascade control systems; Computati...</td>\n",
       "      <td>Conference Paper</td>\n",
       "    </tr>\n",
       "  </tbody>\n",
       "</table>\n",
       "</div>"
      ],
      "text/plain": [
       "                           author_ids  \\\n",
       "0  57218202833;7004904337;7005513246;   \n",
       "1   6508306234;9277159100;6507358470;   \n",
       "\n",
       "                                               title  \\\n",
       "0  Self-assessment of Proficiency of Intelligent ...   \n",
       "1  Bridging theory to practice: Feedforward and c...   \n",
       "\n",
       "                                    source_title article_no  cited_count  \\\n",
       "0  Advances in Intelligent Systems and Computing        NaN          NaN   \n",
       "1        Lecture Notes in Electrical Engineering        NaN          NaN   \n",
       "\n",
       "                            doi  \\\n",
       "0  10.1007/978-3-030-51758-8_15   \n",
       "1   10.1007/978-3-030-58653-9_3   \n",
       "\n",
       "                                            abstract  \\\n",
       "0  Autonomous systems, although capable of perfor...   \n",
       "1  Practice is of the essence in Engineering cour...   \n",
       "\n",
       "                                     author_keywords  \\\n",
       "0  Environment; Goal(s); Intelligent agents; Prof...   \n",
       "1                                                NaN   \n",
       "\n",
       "                                      index_keywords     document_type  \n",
       "0  Drones; Human engineering; Intelligent systems...  Conference Paper  \n",
       "1  Automation; Cascade control systems; Computati...  Conference Paper  "
      ]
     },
     "execution_count": 39,
     "metadata": {},
     "output_type": "execute_result"
    }
   ],
   "source": [
    "document_df.head(2)"
   ]
  },
  {
   "cell_type": "code",
   "execution_count": 40,
   "id": "12c02937-0e99-4479-a874-a564ef59db90",
   "metadata": {},
   "outputs": [
    {
     "name": "stderr",
     "output_type": "stream",
     "text": [
      "/var/folders/mm/5vsgc5194kqf1xnmgq439jww0000gn/T/ipykernel_42315/3980134143.py:1: SettingWithCopyWarning: \n",
      "A value is trying to be set on a copy of a slice from a DataFrame.\n",
      "Try using .loc[row_indexer,col_indexer] = value instead\n",
      "\n",
      "See the caveats in the documentation: https://pandas.pydata.org/pandas-docs/stable/user_guide/indexing.html#returning-a-view-versus-a-copy\n",
      "  document_df['author_ids'] = document_df['author_ids'].str.split(\";\").apply(lambda x: list(x[0: len(x) - 1]))\n"
     ]
    },
    {
     "data": {
      "text/plain": [
       "['author_ids',\n",
       " 'title',\n",
       " 'source_title',\n",
       " 'article_no',\n",
       " 'cited_count',\n",
       " 'doi',\n",
       " 'abstract',\n",
       " 'author_keywords',\n",
       " 'index_keywords',\n",
       " 'document_type']"
      ]
     },
     "execution_count": 40,
     "metadata": {},
     "output_type": "execute_result"
    }
   ],
   "source": [
    "document_df['author_ids'] = document_df['author_ids'].str.split(\";\").apply(lambda x: list(x[0: len(x) - 1]))\n",
    "document_df.columns.to_list()"
   ]
  },
  {
   "cell_type": "code",
   "execution_count": 41,
   "id": "b6bd9e4b-9663-42d7-869a-8292a8b9a08b",
   "metadata": {},
   "outputs": [
    {
     "name": "stderr",
     "output_type": "stream",
     "text": [
      "/var/folders/mm/5vsgc5194kqf1xnmgq439jww0000gn/T/ipykernel_42315/3543678797.py:1: SettingWithCopyWarning: \n",
      "A value is trying to be set on a copy of a slice from a DataFrame.\n",
      "Try using .loc[row_indexer,col_indexer] = value instead\n",
      "\n",
      "See the caveats in the documentation: https://pandas.pydata.org/pandas-docs/stable/user_guide/indexing.html#returning-a-view-versus-a-copy\n",
      "  document_df['keywords'] = document_df['author_keywords'] + document_df['index_keywords']\n",
      "/var/folders/mm/5vsgc5194kqf1xnmgq439jww0000gn/T/ipykernel_42315/3543678797.py:2: SettingWithCopyWarning: \n",
      "A value is trying to be set on a copy of a slice from a DataFrame.\n",
      "Try using .loc[row_indexer,col_indexer] = value instead\n",
      "\n",
      "See the caveats in the documentation: https://pandas.pydata.org/pandas-docs/stable/user_guide/indexing.html#returning-a-view-versus-a-copy\n",
      "  document_df['keywords'] = document_df['keywords'].str.split(\";\")\n",
      "/var/folders/mm/5vsgc5194kqf1xnmgq439jww0000gn/T/ipykernel_42315/3543678797.py:3: SettingWithCopyWarning: \n",
      "A value is trying to be set on a copy of a slice from a DataFrame\n",
      "\n",
      "See the caveats in the documentation: https://pandas.pydata.org/pandas-docs/stable/user_guide/indexing.html#returning-a-view-versus-a-copy\n",
      "  document_df.drop(columns=['author_keywords', 'index_keywords'], inplace=True)\n"
     ]
    }
   ],
   "source": [
    "document_df['keywords'] = document_df['author_keywords'] + document_df['index_keywords']\n",
    "document_df['keywords'] = document_df['keywords'].str.split(\";\")\n",
    "document_df.drop(columns=['author_keywords', 'index_keywords'], inplace=True)"
   ]
  },
  {
   "cell_type": "code",
   "execution_count": 77,
   "id": "c50eeadf-0f44-4e76-9b7a-927bd4d8d09a",
   "metadata": {},
   "outputs": [
    {
     "data": {
      "text/html": [
       "<div>\n",
       "<style scoped>\n",
       "    .dataframe tbody tr th:only-of-type {\n",
       "        vertical-align: middle;\n",
       "    }\n",
       "\n",
       "    .dataframe tbody tr th {\n",
       "        vertical-align: top;\n",
       "    }\n",
       "\n",
       "    .dataframe thead th {\n",
       "        text-align: right;\n",
       "    }\n",
       "</style>\n",
       "<table border=\"1\" class=\"dataframe\">\n",
       "  <thead>\n",
       "    <tr style=\"text-align: right;\">\n",
       "      <th></th>\n",
       "      <th>author_ids</th>\n",
       "      <th>title</th>\n",
       "      <th>source_title</th>\n",
       "      <th>article_no</th>\n",
       "      <th>cited_count</th>\n",
       "      <th>doi</th>\n",
       "      <th>abstract</th>\n",
       "      <th>document_type</th>\n",
       "      <th>keywords</th>\n",
       "    </tr>\n",
       "  </thead>\n",
       "  <tbody>\n",
       "    <tr>\n",
       "      <th>0</th>\n",
       "      <td>[57218202833, 7004904337, 7005513246]</td>\n",
       "      <td>Self-assessment of Proficiency of Intelligent ...</td>\n",
       "      <td>Advances in Intelligent Systems and Computing</td>\n",
       "      <td>NaN</td>\n",
       "      <td>NaN</td>\n",
       "      <td>10.1007/978-3-030-51758-8_15</td>\n",
       "      <td>Autonomous systems, although capable of perfor...</td>\n",
       "      <td>Conference Paper</td>\n",
       "      <td>[Environment,  Goal(s),  Intelligent agents,  ...</td>\n",
       "    </tr>\n",
       "    <tr>\n",
       "      <th>1</th>\n",
       "      <td>[6508306234, 9277159100, 6507358470]</td>\n",
       "      <td>Bridging theory to practice: Feedforward and c...</td>\n",
       "      <td>Lecture Notes in Electrical Engineering</td>\n",
       "      <td>NaN</td>\n",
       "      <td>NaN</td>\n",
       "      <td>10.1007/978-3-030-58653-9_3</td>\n",
       "      <td>Practice is of the essence in Engineering cour...</td>\n",
       "      <td>Conference Paper</td>\n",
       "      <td>NaN</td>\n",
       "    </tr>\n",
       "  </tbody>\n",
       "</table>\n",
       "</div>"
      ],
      "text/plain": [
       "                              author_ids  \\\n",
       "0  [57218202833, 7004904337, 7005513246]   \n",
       "1   [6508306234, 9277159100, 6507358470]   \n",
       "\n",
       "                                               title  \\\n",
       "0  Self-assessment of Proficiency of Intelligent ...   \n",
       "1  Bridging theory to practice: Feedforward and c...   \n",
       "\n",
       "                                    source_title article_no  cited_count  \\\n",
       "0  Advances in Intelligent Systems and Computing        NaN          NaN   \n",
       "1        Lecture Notes in Electrical Engineering        NaN          NaN   \n",
       "\n",
       "                            doi  \\\n",
       "0  10.1007/978-3-030-51758-8_15   \n",
       "1   10.1007/978-3-030-58653-9_3   \n",
       "\n",
       "                                            abstract     document_type  \\\n",
       "0  Autonomous systems, although capable of perfor...  Conference Paper   \n",
       "1  Practice is of the essence in Engineering cour...  Conference Paper   \n",
       "\n",
       "                                            keywords  \n",
       "0  [Environment,  Goal(s),  Intelligent agents,  ...  \n",
       "1                                                NaN  "
      ]
     },
     "execution_count": 77,
     "metadata": {},
     "output_type": "execute_result"
    }
   ],
   "source": [
    "document_df.head(2)"
   ]
  },
  {
   "cell_type": "markdown",
   "id": "62d5fad2-69fa-4185-8fda-750a84fed6ff",
   "metadata": {},
   "source": [
    "Since, we have NaN values for `doi`, so we are using index as an identifier"
   ]
  },
  {
   "cell_type": "code",
   "execution_count": 87,
   "id": "e9848177-d59b-4dd0-90df-a6a0071379d7",
   "metadata": {},
   "outputs": [
    {
     "name": "stderr",
     "output_type": "stream",
     "text": [
      "/var/folders/mm/5vsgc5194kqf1xnmgq439jww0000gn/T/ipykernel_42315/1153869255.py:2: SettingWithCopyWarning: \n",
      "A value is trying to be set on a copy of a slice from a DataFrame\n",
      "\n",
      "See the caveats in the documentation: https://pandas.pydata.org/pandas-docs/stable/user_guide/indexing.html#returning-a-view-versus-a-copy\n",
      "  document_df.rename(columns={'index':'document_id'}, inplace=True)\n"
     ]
    },
    {
     "data": {
      "text/html": [
       "<div>\n",
       "<style scoped>\n",
       "    .dataframe tbody tr th:only-of-type {\n",
       "        vertical-align: middle;\n",
       "    }\n",
       "\n",
       "    .dataframe tbody tr th {\n",
       "        vertical-align: top;\n",
       "    }\n",
       "\n",
       "    .dataframe thead th {\n",
       "        text-align: right;\n",
       "    }\n",
       "</style>\n",
       "<table border=\"1\" class=\"dataframe\">\n",
       "  <thead>\n",
       "    <tr style=\"text-align: right;\">\n",
       "      <th></th>\n",
       "      <th>document_id</th>\n",
       "      <th>author_ids</th>\n",
       "      <th>title</th>\n",
       "      <th>source_title</th>\n",
       "      <th>article_no</th>\n",
       "      <th>cited_count</th>\n",
       "      <th>doi</th>\n",
       "      <th>abstract</th>\n",
       "      <th>document_type</th>\n",
       "      <th>keywords</th>\n",
       "    </tr>\n",
       "  </thead>\n",
       "  <tbody>\n",
       "    <tr>\n",
       "      <th>0</th>\n",
       "      <td>0</td>\n",
       "      <td>[57218202833, 7004904337, 7005513246]</td>\n",
       "      <td>Self-assessment of Proficiency of Intelligent ...</td>\n",
       "      <td>Advances in Intelligent Systems and Computing</td>\n",
       "      <td>NaN</td>\n",
       "      <td>NaN</td>\n",
       "      <td>10.1007/978-3-030-51758-8_15</td>\n",
       "      <td>Autonomous systems, although capable of perfor...</td>\n",
       "      <td>Conference Paper</td>\n",
       "      <td>[Environment,  Goal(s),  Intelligent agents,  ...</td>\n",
       "    </tr>\n",
       "    <tr>\n",
       "      <th>1</th>\n",
       "      <td>1</td>\n",
       "      <td>[6508306234, 9277159100, 6507358470]</td>\n",
       "      <td>Bridging theory to practice: Feedforward and c...</td>\n",
       "      <td>Lecture Notes in Electrical Engineering</td>\n",
       "      <td>NaN</td>\n",
       "      <td>NaN</td>\n",
       "      <td>10.1007/978-3-030-58653-9_3</td>\n",
       "      <td>Practice is of the essence in Engineering cour...</td>\n",
       "      <td>Conference Paper</td>\n",
       "      <td>NaN</td>\n",
       "    </tr>\n",
       "  </tbody>\n",
       "</table>\n",
       "</div>"
      ],
      "text/plain": [
       "   document_id                             author_ids  \\\n",
       "0            0  [57218202833, 7004904337, 7005513246]   \n",
       "1            1   [6508306234, 9277159100, 6507358470]   \n",
       "\n",
       "                                               title  \\\n",
       "0  Self-assessment of Proficiency of Intelligent ...   \n",
       "1  Bridging theory to practice: Feedforward and c...   \n",
       "\n",
       "                                    source_title article_no  cited_count  \\\n",
       "0  Advances in Intelligent Systems and Computing        NaN          NaN   \n",
       "1        Lecture Notes in Electrical Engineering        NaN          NaN   \n",
       "\n",
       "                            doi  \\\n",
       "0  10.1007/978-3-030-51758-8_15   \n",
       "1   10.1007/978-3-030-58653-9_3   \n",
       "\n",
       "                                            abstract     document_type  \\\n",
       "0  Autonomous systems, although capable of perfor...  Conference Paper   \n",
       "1  Practice is of the essence in Engineering cour...  Conference Paper   \n",
       "\n",
       "                                            keywords  \n",
       "0  [Environment,  Goal(s),  Intelligent agents,  ...  \n",
       "1                                                NaN  "
      ]
     },
     "execution_count": 87,
     "metadata": {},
     "output_type": "execute_result"
    }
   ],
   "source": [
    "document_df.reset_index(inplace=True)\n",
    "document_df.rename(columns={'index':'document_id'}, inplace=True)\n",
    "document_df.head(2)"
   ]
  },
  {
   "cell_type": "markdown",
   "id": "2c7ef136-6d07-4560-bd53-f91cf8b48879",
   "metadata": {},
   "source": [
    "Save as `documents.csv` file"
   ]
  },
  {
   "cell_type": "code",
   "execution_count": 89,
   "id": "05a3ad1b-18a9-4fa7-aa92-5132bbccba56",
   "metadata": {},
   "outputs": [],
   "source": [
    "document_df.to_csv(join(data_dir, \"documents.csv\"), index=False)"
   ]
  },
  {
   "cell_type": "markdown",
   "id": "dcb7da76-2c9c-4879-9853-857a9cd5b474",
   "metadata": {},
   "source": [
    "`Authors`"
   ]
  },
  {
   "cell_type": "code",
   "execution_count": 45,
   "id": "4223e3cc-65e9-458e-9805-37690c8ba7c2",
   "metadata": {},
   "outputs": [
    {
     "data": {
      "text/html": [
       "<div>\n",
       "<style scoped>\n",
       "    .dataframe tbody tr th:only-of-type {\n",
       "        vertical-align: middle;\n",
       "    }\n",
       "\n",
       "    .dataframe tbody tr th {\n",
       "        vertical-align: top;\n",
       "    }\n",
       "\n",
       "    .dataframe thead th {\n",
       "        text-align: right;\n",
       "    }\n",
       "</style>\n",
       "<table border=\"1\" class=\"dataframe\">\n",
       "  <thead>\n",
       "    <tr style=\"text-align: right;\">\n",
       "      <th></th>\n",
       "      <th>Authors</th>\n",
       "      <th>Author(s) ID</th>\n",
       "      <th>Affiliations</th>\n",
       "      <th>Authors with affiliations</th>\n",
       "      <th>Author Keywords</th>\n",
       "    </tr>\n",
       "  </thead>\n",
       "  <tbody>\n",
       "    <tr>\n",
       "      <th>0</th>\n",
       "      <td>Gautam A., Crandall J.W., Goodrich M.A.</td>\n",
       "      <td>57218202833;7004904337;7005513246;</td>\n",
       "      <td>Computer Science Department, Brigham Young Uni...</td>\n",
       "      <td>Gautam, A., Computer Science Department, Brigh...</td>\n",
       "      <td>Environment; Goal(s); Intelligent agents; Prof...</td>\n",
       "    </tr>\n",
       "    <tr>\n",
       "      <th>1</th>\n",
       "      <td>de Moura Oliveira P.B., Hedengren J.D., Boaven...</td>\n",
       "      <td>6508306234;9277159100;6507358470;</td>\n",
       "      <td>INESC-TEC Technology and Science, Campus da FE...</td>\n",
       "      <td>de Moura Oliveira, P.B., INESC-TEC Technology ...</td>\n",
       "      <td>NaN</td>\n",
       "    </tr>\n",
       "    <tr>\n",
       "      <th>2</th>\n",
       "      <td>Hajimirzaie S.M., Hotchkiss R.H.</td>\n",
       "      <td>53879700900;26642910500;</td>\n",
       "      <td>Task Committee Secretary and Lead Engineer, Op...</td>\n",
       "      <td>Hajimirzaie, S.M., Task Committee Secretary an...</td>\n",
       "      <td>NaN</td>\n",
       "    </tr>\n",
       "    <tr>\n",
       "      <th>3</th>\n",
       "      <td>Bunnell S., Gorrell S., Salmon J., Thelin C., ...</td>\n",
       "      <td>57204031131;6602649851;56830076500;57204029674...</td>\n",
       "      <td>Department of Mechanical Engineering, Brigham ...</td>\n",
       "      <td>Bunnell, S., Department of Mechanical Engineer...</td>\n",
       "      <td>Computer-aided engineering; Data-driven engine...</td>\n",
       "    </tr>\n",
       "    <tr>\n",
       "      <th>4</th>\n",
       "      <td>Richardson M., Cannon S., Teichert L., Vance A...</td>\n",
       "      <td>57217149830;57217149403;57217145377;5721714653...</td>\n",
       "      <td>School of Communications, Brigham Young Univer...</td>\n",
       "      <td>Richardson, M., School of Communications, Brig...</td>\n",
       "      <td>Dating; Emerging adults; Mobile phones; Uses a...</td>\n",
       "    </tr>\n",
       "  </tbody>\n",
       "</table>\n",
       "</div>"
      ],
      "text/plain": [
       "                                             Authors  \\\n",
       "0            Gautam A., Crandall J.W., Goodrich M.A.   \n",
       "1  de Moura Oliveira P.B., Hedengren J.D., Boaven...   \n",
       "2                   Hajimirzaie S.M., Hotchkiss R.H.   \n",
       "3  Bunnell S., Gorrell S., Salmon J., Thelin C., ...   \n",
       "4  Richardson M., Cannon S., Teichert L., Vance A...   \n",
       "\n",
       "                                        Author(s) ID  \\\n",
       "0                 57218202833;7004904337;7005513246;   \n",
       "1                  6508306234;9277159100;6507358470;   \n",
       "2                           53879700900;26642910500;   \n",
       "3  57204031131;6602649851;56830076500;57204029674...   \n",
       "4  57217149830;57217149403;57217145377;5721714653...   \n",
       "\n",
       "                                        Affiliations  \\\n",
       "0  Computer Science Department, Brigham Young Uni...   \n",
       "1  INESC-TEC Technology and Science, Campus da FE...   \n",
       "2  Task Committee Secretary and Lead Engineer, Op...   \n",
       "3  Department of Mechanical Engineering, Brigham ...   \n",
       "4  School of Communications, Brigham Young Univer...   \n",
       "\n",
       "                           Authors with affiliations  \\\n",
       "0  Gautam, A., Computer Science Department, Brigh...   \n",
       "1  de Moura Oliveira, P.B., INESC-TEC Technology ...   \n",
       "2  Hajimirzaie, S.M., Task Committee Secretary an...   \n",
       "3  Bunnell, S., Department of Mechanical Engineer...   \n",
       "4  Richardson, M., School of Communications, Brig...   \n",
       "\n",
       "                                     Author Keywords  \n",
       "0  Environment; Goal(s); Intelligent agents; Prof...  \n",
       "1                                                NaN  \n",
       "2                                                NaN  \n",
       "3  Computer-aided engineering; Data-driven engine...  \n",
       "4  Dating; Emerging adults; Mobile phones; Uses a...  "
      ]
     },
     "execution_count": 45,
     "metadata": {},
     "output_type": "execute_result"
    }
   ],
   "source": [
    "authors_df = df[authors_cols]\n",
    "authors_df.head()"
   ]
  },
  {
   "cell_type": "code",
   "execution_count": 46,
   "id": "7448a2d8-7ae6-4703-b743-bfcce642b26c",
   "metadata": {},
   "outputs": [
    {
     "name": "stderr",
     "output_type": "stream",
     "text": [
      "/var/folders/mm/5vsgc5194kqf1xnmgq439jww0000gn/T/ipykernel_42315/4027343951.py:1: SettingWithCopyWarning: \n",
      "A value is trying to be set on a copy of a slice from a DataFrame\n",
      "\n",
      "See the caveats in the documentation: https://pandas.pydata.org/pandas-docs/stable/user_guide/indexing.html#returning-a-view-versus-a-copy\n",
      "  authors_df.rename(columns=\n"
     ]
    }
   ],
   "source": [
    "authors_df.rename(columns=\n",
    "              {'Authors':'name', \n",
    "               'Author(s) ID': 'author_ids',\n",
    "               'Affiliations':'affiliation',\n",
    "               'Author Keywords':'author_keywords'}, inplace=True)"
   ]
  },
  {
   "cell_type": "code",
   "execution_count": 50,
   "id": "ae4c2d17-eab9-45ff-8988-0f6017de4f51",
   "metadata": {},
   "outputs": [],
   "source": [
    "authors = list()\n",
    "def filter_authors(x):\n",
    "    def filter_affiliations(y):\n",
    "        try:            \n",
    "            aff = y.split(\"., \")\n",
    "            return \"\".join(aff[1:])\n",
    "        except ValueError as e:\n",
    "            print(y)\n",
    "            raise e\n",
    "    names = x['name'].split(\",\") if x['name'] else None\n",
    "    author_ids = x['author_ids'].split(\";\") if x['author_ids'] else None\n",
    "    author_keywords = x['author_keywords'].split(\";\") if x['author_keywords'] and isinstance(x['author_keywords'], str) else None\n",
    "    auth_affiliations = x['Authors with affiliations'].split(\";\") if x['Authors with affiliations'] else None\n",
    "    if not len(author_ids[len(author_ids) - 1]): del author_ids[len(author_ids) - 1]\n",
    "    \n",
    "    if len(names) == len(author_ids) == len(auth_affiliations):\n",
    "        for index, name in enumerate(names):\n",
    "            author = dict() \n",
    "            author['author_id'] = author_ids[index]\n",
    "            author['name'] = name\n",
    "            author['affiliations'] = filter_affiliations(auth_affiliations[index])\n",
    "            author['keywords'] = author_keywords\n",
    "            authors.append(author)"
   ]
  },
  {
   "cell_type": "code",
   "execution_count": 51,
   "id": "0946024c-0357-416d-9534-bcc22ddc28fe",
   "metadata": {},
   "outputs": [],
   "source": [
    "_ = authors_df.apply(lambda x: filter_authors(x), axis=1)"
   ]
  },
  {
   "cell_type": "code",
   "execution_count": 52,
   "id": "fe42f155-d8aa-42ac-980e-5e063b6edc08",
   "metadata": {},
   "outputs": [
    {
     "data": {
      "text/plain": [
       "3974"
      ]
     },
     "execution_count": 52,
     "metadata": {},
     "output_type": "execute_result"
    }
   ],
   "source": [
    "len(authors)"
   ]
  },
  {
   "cell_type": "code",
   "execution_count": 53,
   "id": "ded8eff6-9d3c-42be-8354-da334b6a6f3f",
   "metadata": {},
   "outputs": [],
   "source": [
    "authors_df = pd.DataFrame(authors)"
   ]
  },
  {
   "cell_type": "code",
   "execution_count": 196,
   "id": "16ab1ad0-f084-4bde-a5e1-9ebb433688ed",
   "metadata": {},
   "outputs": [
    {
     "data": {
      "text/html": [
       "<div>\n",
       "<style scoped>\n",
       "    .dataframe tbody tr th:only-of-type {\n",
       "        vertical-align: middle;\n",
       "    }\n",
       "\n",
       "    .dataframe tbody tr th {\n",
       "        vertical-align: top;\n",
       "    }\n",
       "\n",
       "    .dataframe thead th {\n",
       "        text-align: right;\n",
       "    }\n",
       "</style>\n",
       "<table border=\"1\" class=\"dataframe\">\n",
       "  <thead>\n",
       "    <tr style=\"text-align: right;\">\n",
       "      <th></th>\n",
       "      <th>author_id</th>\n",
       "      <th>name</th>\n",
       "      <th>affiliations</th>\n",
       "      <th>keywords</th>\n",
       "    </tr>\n",
       "  </thead>\n",
       "  <tbody>\n",
       "    <tr>\n",
       "      <th>0</th>\n",
       "      <td>57218202833</td>\n",
       "      <td>Gautam A.</td>\n",
       "      <td>Computer Science Department, Brigham Young Uni...</td>\n",
       "      <td>[Environment,  Goal(s),  Intelligent agents,  ...</td>\n",
       "    </tr>\n",
       "    <tr>\n",
       "      <th>1</th>\n",
       "      <td>7004904337</td>\n",
       "      <td>Crandall J.W.</td>\n",
       "      <td>Computer Science Department, Brigham Young Uni...</td>\n",
       "      <td>[Environment,  Goal(s),  Intelligent agents,  ...</td>\n",
       "    </tr>\n",
       "  </tbody>\n",
       "</table>\n",
       "</div>"
      ],
      "text/plain": [
       "     author_id            name  \\\n",
       "0  57218202833       Gautam A.   \n",
       "1   7004904337   Crandall J.W.   \n",
       "\n",
       "                                        affiliations  \\\n",
       "0  Computer Science Department, Brigham Young Uni...   \n",
       "1  Computer Science Department, Brigham Young Uni...   \n",
       "\n",
       "                                            keywords  \n",
       "0  [Environment,  Goal(s),  Intelligent agents,  ...  \n",
       "1  [Environment,  Goal(s),  Intelligent agents,  ...  "
      ]
     },
     "execution_count": 196,
     "metadata": {},
     "output_type": "execute_result"
    }
   ],
   "source": [
    "authors_df.head(2)"
   ]
  },
  {
   "cell_type": "code",
   "execution_count": 201,
   "id": "b963400b-f933-4ae3-926e-291f4208a8cc",
   "metadata": {},
   "outputs": [],
   "source": [
    "_authors = dict()\n",
    "def filter_authors_affiliation(x):\n",
    "    if x['author_id'] not in _authors.keys(): _authors[x['author_id']] = dict()\n",
    "\n",
    "    _authors[x['author_id']]['name'] = x['name']\n",
    "    \n",
    "    if x['affiliations']:        \n",
    "        if 'affiliations' not in _authors[x['author_id']].keys():\n",
    "            _authors[x['author_id']]['affiliations'] = list()\n",
    "        _authors[x['author_id']]['affiliations'].append(x['affiliations'])\n",
    "    \n",
    "    if x['keywords']:        \n",
    "        if 'keywords' not in _authors[x['author_id']].keys():\n",
    "            _authors[x['author_id']]['keywords'] = list()\n",
    "        _authors[x['author_id']]['keywords'].extend(x['keywords'])"
   ]
  },
  {
   "cell_type": "code",
   "execution_count": 202,
   "id": "971c45bc-a2db-464e-9070-9ddfd2646a2c",
   "metadata": {},
   "outputs": [],
   "source": [
    "_ = authors_df.apply(lambda x: filter_authors_affiliation(x), axis=1)"
   ]
  },
  {
   "cell_type": "code",
   "execution_count": 204,
   "id": "e83d9ed9-7347-42e2-a15d-aaa9238469ee",
   "metadata": {},
   "outputs": [],
   "source": [
    "# authors_df.groupby('author_id').apply(lambda x: filter_authors_affiliation(x))\n",
    "auth = list()\n",
    "for key, value in _authors.items():\n",
    "    a = dict()\n",
    "    a['author_id'] = key\n",
    "    a.update(value)\n",
    "    auth.append(a)"
   ]
  },
  {
   "cell_type": "code",
   "execution_count": 208,
   "id": "e3c387df-e16a-46c0-88f6-0e81894a9817",
   "metadata": {},
   "outputs": [],
   "source": [
    "authors_df = pd.DataFrame(auth)"
   ]
  },
  {
   "cell_type": "markdown",
   "id": "01913549-801e-4661-9fb5-ae329526deb5",
   "metadata": {},
   "source": [
    "Save as `authors.csv` file"
   ]
  },
  {
   "cell_type": "code",
   "execution_count": 209,
   "id": "fa35e08d-53a4-48e6-8784-2c77588de996",
   "metadata": {},
   "outputs": [],
   "source": [
    "authors_df.to_csv(join(data_dir, \"authors.csv\"), index=False)"
   ]
  },
  {
   "cell_type": "markdown",
   "id": "fd7468c7-6e8e-4086-9c73-1ce837a63c96",
   "metadata": {},
   "source": [
    "##### For relations (bridge tables)"
   ]
  },
  {
   "cell_type": "markdown",
   "id": "bc57952e-d712-4937-befd-866a02084aa5",
   "metadata": {},
   "source": [
    "`Document && Author`"
   ]
  },
  {
   "cell_type": "code",
   "execution_count": 90,
   "id": "c6791073-45a0-488d-985b-e32a71b9b47a",
   "metadata": {},
   "outputs": [
    {
     "data": {
      "text/html": [
       "<div>\n",
       "<style scoped>\n",
       "    .dataframe tbody tr th:only-of-type {\n",
       "        vertical-align: middle;\n",
       "    }\n",
       "\n",
       "    .dataframe tbody tr th {\n",
       "        vertical-align: top;\n",
       "    }\n",
       "\n",
       "    .dataframe thead th {\n",
       "        text-align: right;\n",
       "    }\n",
       "</style>\n",
       "<table border=\"1\" class=\"dataframe\">\n",
       "  <thead>\n",
       "    <tr style=\"text-align: right;\">\n",
       "      <th></th>\n",
       "      <th>author_ids</th>\n",
       "      <th>document_id</th>\n",
       "    </tr>\n",
       "  </thead>\n",
       "  <tbody>\n",
       "    <tr>\n",
       "      <th>0</th>\n",
       "      <td>[57218202833, 7004904337, 7005513246]</td>\n",
       "      <td>0</td>\n",
       "    </tr>\n",
       "    <tr>\n",
       "      <th>1</th>\n",
       "      <td>[6508306234, 9277159100, 6507358470]</td>\n",
       "      <td>1</td>\n",
       "    </tr>\n",
       "  </tbody>\n",
       "</table>\n",
       "</div>"
      ],
      "text/plain": [
       "                              author_ids  document_id\n",
       "0  [57218202833, 7004904337, 7005513246]            0\n",
       "1   [6508306234, 9277159100, 6507358470]            1"
      ]
     },
     "execution_count": 90,
     "metadata": {},
     "output_type": "execute_result"
    }
   ],
   "source": [
    "cols = ['author_ids', 'document_id']\n",
    "doc_auth_df = document_df[cols]\n",
    "doc_auth_df.head(2)"
   ]
  },
  {
   "cell_type": "code",
   "execution_count": 94,
   "id": "f20e53b4-cd18-4b4d-bd33-b03dd691cc4a",
   "metadata": {},
   "outputs": [],
   "source": [
    "doc_authors = list()\n",
    "def filter_doc_authors(x):\n",
    "    author_ids = x['author_ids'] if x['author_ids'] and isinstance(x['author_ids'], list) else None\n",
    "    document_id = x['document_id']\n",
    "    \n",
    "    for index, author_id in enumerate(author_ids):\n",
    "        doc_auth = dict()\n",
    "        doc_auth['author_id'] = author_id\n",
    "        doc_auth['document_id'] = document_id\n",
    "        doc_authors.append(doc_auth)"
   ]
  },
  {
   "cell_type": "code",
   "execution_count": 95,
   "id": "6691bf12-a83a-4bcb-b10b-7a34a0755623",
   "metadata": {},
   "outputs": [],
   "source": [
    "_ = doc_auth_df.apply(lambda x: filter_doc_authors(x), axis=1)"
   ]
  },
  {
   "cell_type": "markdown",
   "id": "8a9c193c-51e4-4872-a4ad-da60dc448a63",
   "metadata": {},
   "source": [
    "Save as `document_author.csv` file"
   ]
  },
  {
   "cell_type": "code",
   "execution_count": 118,
   "id": "b829318c-2be2-4bfd-8b63-8dcb5a4f14d9",
   "metadata": {},
   "outputs": [],
   "source": [
    "doc_auth_df = pd.DataFrame(doc_authors)\n",
    "doc_auth_df.to_csv(join(data_dir, \"document_author.csv\"), index=False)"
   ]
  },
  {
   "cell_type": "markdown",
   "id": "9832f3be-4aa9-4123-ad0d-6eaa9328fd74",
   "metadata": {},
   "source": [
    "`Document && Keywords`"
   ]
  },
  {
   "cell_type": "code",
   "execution_count": 107,
   "id": "7b6924ac-4b78-46a8-9094-a01903804c8a",
   "metadata": {},
   "outputs": [
    {
     "data": {
      "text/html": [
       "<div>\n",
       "<style scoped>\n",
       "    .dataframe tbody tr th:only-of-type {\n",
       "        vertical-align: middle;\n",
       "    }\n",
       "\n",
       "    .dataframe tbody tr th {\n",
       "        vertical-align: top;\n",
       "    }\n",
       "\n",
       "    .dataframe thead th {\n",
       "        text-align: right;\n",
       "    }\n",
       "</style>\n",
       "<table border=\"1\" class=\"dataframe\">\n",
       "  <thead>\n",
       "    <tr style=\"text-align: right;\">\n",
       "      <th></th>\n",
       "      <th>keywords</th>\n",
       "      <th>document_id</th>\n",
       "    </tr>\n",
       "  </thead>\n",
       "  <tbody>\n",
       "    <tr>\n",
       "      <th>0</th>\n",
       "      <td>[Environment,  Goal(s),  Intelligent agents,  ...</td>\n",
       "      <td>0</td>\n",
       "    </tr>\n",
       "    <tr>\n",
       "      <th>1</th>\n",
       "      <td>NaN</td>\n",
       "      <td>1</td>\n",
       "    </tr>\n",
       "  </tbody>\n",
       "</table>\n",
       "</div>"
      ],
      "text/plain": [
       "                                            keywords  document_id\n",
       "0  [Environment,  Goal(s),  Intelligent agents,  ...            0\n",
       "1                                                NaN            1"
      ]
     },
     "execution_count": 107,
     "metadata": {},
     "output_type": "execute_result"
    }
   ],
   "source": [
    "cols = ['keywords', 'document_id']\n",
    "doc_keywords_df = document_df[cols]\n",
    "doc_keywords_df.head(2)"
   ]
  },
  {
   "cell_type": "markdown",
   "id": "34e297b2-f02a-4e4e-acff-72499d796714",
   "metadata": {},
   "source": [
    "Remove rows where there are no keywords"
   ]
  },
  {
   "cell_type": "code",
   "execution_count": 108,
   "id": "22e14fcf-1d50-49f1-be9d-225b1c84fa8d",
   "metadata": {},
   "outputs": [
    {
     "name": "stderr",
     "output_type": "stream",
     "text": [
      "/var/folders/mm/5vsgc5194kqf1xnmgq439jww0000gn/T/ipykernel_42315/2368106672.py:1: SettingWithCopyWarning: \n",
      "A value is trying to be set on a copy of a slice from a DataFrame\n",
      "\n",
      "See the caveats in the documentation: https://pandas.pydata.org/pandas-docs/stable/user_guide/indexing.html#returning-a-view-versus-a-copy\n",
      "  doc_keywords_df.drop(doc_keywords_df[doc_keywords_df['keywords'].isnull()].index, inplace=True)\n"
     ]
    }
   ],
   "source": [
    "doc_keywords_df.drop(doc_keywords_df[doc_keywords_df['keywords'].isnull()].index, inplace=True)"
   ]
  },
  {
   "cell_type": "code",
   "execution_count": 111,
   "id": "5466ba88-899e-4712-87dd-8161b796c5d7",
   "metadata": {},
   "outputs": [
    {
     "data": {
      "text/html": [
       "<div>\n",
       "<style scoped>\n",
       "    .dataframe tbody tr th:only-of-type {\n",
       "        vertical-align: middle;\n",
       "    }\n",
       "\n",
       "    .dataframe tbody tr th {\n",
       "        vertical-align: top;\n",
       "    }\n",
       "\n",
       "    .dataframe thead th {\n",
       "        text-align: right;\n",
       "    }\n",
       "</style>\n",
       "<table border=\"1\" class=\"dataframe\">\n",
       "  <thead>\n",
       "    <tr style=\"text-align: right;\">\n",
       "      <th></th>\n",
       "      <th>keywords</th>\n",
       "      <th>document_id</th>\n",
       "    </tr>\n",
       "  </thead>\n",
       "  <tbody>\n",
       "    <tr>\n",
       "      <th>0</th>\n",
       "      <td>[Environment,  Goal(s),  Intelligent agents,  ...</td>\n",
       "      <td>0</td>\n",
       "    </tr>\n",
       "    <tr>\n",
       "      <th>3</th>\n",
       "      <td>[Computer-aided engineering,  Data-driven engi...</td>\n",
       "      <td>3</td>\n",
       "    </tr>\n",
       "  </tbody>\n",
       "</table>\n",
       "</div>"
      ],
      "text/plain": [
       "                                            keywords  document_id\n",
       "0  [Environment,  Goal(s),  Intelligent agents,  ...            0\n",
       "3  [Computer-aided engineering,  Data-driven engi...            3"
      ]
     },
     "execution_count": 111,
     "metadata": {},
     "output_type": "execute_result"
    }
   ],
   "source": [
    "doc_keywords_df.head(2)"
   ]
  },
  {
   "cell_type": "code",
   "execution_count": 112,
   "id": "f0c16f32-c18d-4552-85d3-e80d104ab972",
   "metadata": {},
   "outputs": [],
   "source": [
    "doc_keywords = list()\n",
    "def filter_doc_keywords(x):\n",
    "    keywords = x['keywords'] if x['keywords'] and isinstance(x['keywords'], list) else None\n",
    "    document_id = x['document_id']\n",
    "    \n",
    "    for index, keyword in enumerate(keywords):\n",
    "        doc_keyword = dict()\n",
    "        doc_keyword['keyword'] = keyword\n",
    "        doc_keyword['document_id'] = document_id\n",
    "        doc_keywords.append(doc_keyword)"
   ]
  },
  {
   "cell_type": "code",
   "execution_count": 113,
   "id": "0b24e48c-aea3-4006-87a0-d2c864cd2eba",
   "metadata": {},
   "outputs": [],
   "source": [
    "_ = doc_keywords_df.apply(lambda x: filter_doc_keywords(x), axis=1)"
   ]
  },
  {
   "cell_type": "markdown",
   "id": "6cc83dd9-d1c1-4e66-a92b-7e1fa4abe22e",
   "metadata": {},
   "source": [
    "Save as `document_keyword.csv` file"
   ]
  },
  {
   "cell_type": "code",
   "execution_count": 122,
   "id": "4b42aabc-3ebc-4b44-a688-20fd74769871",
   "metadata": {},
   "outputs": [],
   "source": [
    "doc_keywords_df = pd.DataFrame(doc_keywords)\n",
    "doc_keywords_df.to_csv(join(data_dir, \"document_keyword.csv\"), index=False)"
   ]
  },
  {
   "cell_type": "markdown",
   "id": "742e0e88-4112-456d-8f9e-9b719635f878",
   "metadata": {},
   "source": [
    "`Author && Keywords`"
   ]
  },
  {
   "cell_type": "code",
   "execution_count": 123,
   "id": "5ac04d99-16ab-4127-bd1d-e27957c9c265",
   "metadata": {},
   "outputs": [
    {
     "data": {
      "text/html": [
       "<div>\n",
       "<style scoped>\n",
       "    .dataframe tbody tr th:only-of-type {\n",
       "        vertical-align: middle;\n",
       "    }\n",
       "\n",
       "    .dataframe tbody tr th {\n",
       "        vertical-align: top;\n",
       "    }\n",
       "\n",
       "    .dataframe thead th {\n",
       "        text-align: right;\n",
       "    }\n",
       "</style>\n",
       "<table border=\"1\" class=\"dataframe\">\n",
       "  <thead>\n",
       "    <tr style=\"text-align: right;\">\n",
       "      <th></th>\n",
       "      <th>author_id</th>\n",
       "      <th>keywords</th>\n",
       "    </tr>\n",
       "  </thead>\n",
       "  <tbody>\n",
       "    <tr>\n",
       "      <th>0</th>\n",
       "      <td>57218202833</td>\n",
       "      <td>[Environment,  Goal(s),  Intelligent agents,  ...</td>\n",
       "    </tr>\n",
       "    <tr>\n",
       "      <th>1</th>\n",
       "      <td>7004904337</td>\n",
       "      <td>[Environment,  Goal(s),  Intelligent agents,  ...</td>\n",
       "    </tr>\n",
       "  </tbody>\n",
       "</table>\n",
       "</div>"
      ],
      "text/plain": [
       "     author_id                                           keywords\n",
       "0  57218202833  [Environment,  Goal(s),  Intelligent agents,  ...\n",
       "1   7004904337  [Environment,  Goal(s),  Intelligent agents,  ..."
      ]
     },
     "execution_count": 123,
     "metadata": {},
     "output_type": "execute_result"
    }
   ],
   "source": [
    "cols = ['author_id', 'keywords']\n",
    "auth_keywords_df = authors_df[cols]\n",
    "auth_keywords_df.head(2)"
   ]
  },
  {
   "cell_type": "code",
   "execution_count": 125,
   "id": "28e1be8e-0b49-444f-b9e4-cd5b2b7dd975",
   "metadata": {},
   "outputs": [
    {
     "name": "stderr",
     "output_type": "stream",
     "text": [
      "/var/folders/mm/5vsgc5194kqf1xnmgq439jww0000gn/T/ipykernel_42315/3347050683.py:1: SettingWithCopyWarning: \n",
      "A value is trying to be set on a copy of a slice from a DataFrame\n",
      "\n",
      "See the caveats in the documentation: https://pandas.pydata.org/pandas-docs/stable/user_guide/indexing.html#returning-a-view-versus-a-copy\n",
      "  auth_keywords_df.drop(auth_keywords_df[auth_keywords_df['keywords'].isnull()].index, inplace=True)\n"
     ]
    }
   ],
   "source": [
    "auth_keywords_df.drop(auth_keywords_df[auth_keywords_df['keywords'].isnull()].index, inplace=True)"
   ]
  },
  {
   "cell_type": "code",
   "execution_count": 126,
   "id": "b0f305cd-7581-404d-a9a3-c94d84be5da7",
   "metadata": {},
   "outputs": [
    {
     "data": {
      "text/html": [
       "<div>\n",
       "<style scoped>\n",
       "    .dataframe tbody tr th:only-of-type {\n",
       "        vertical-align: middle;\n",
       "    }\n",
       "\n",
       "    .dataframe tbody tr th {\n",
       "        vertical-align: top;\n",
       "    }\n",
       "\n",
       "    .dataframe thead th {\n",
       "        text-align: right;\n",
       "    }\n",
       "</style>\n",
       "<table border=\"1\" class=\"dataframe\">\n",
       "  <thead>\n",
       "    <tr style=\"text-align: right;\">\n",
       "      <th></th>\n",
       "      <th>author_id</th>\n",
       "      <th>keywords</th>\n",
       "    </tr>\n",
       "  </thead>\n",
       "  <tbody>\n",
       "    <tr>\n",
       "      <th>0</th>\n",
       "      <td>57218202833</td>\n",
       "      <td>[Environment,  Goal(s),  Intelligent agents,  ...</td>\n",
       "    </tr>\n",
       "    <tr>\n",
       "      <th>1</th>\n",
       "      <td>7004904337</td>\n",
       "      <td>[Environment,  Goal(s),  Intelligent agents,  ...</td>\n",
       "    </tr>\n",
       "    <tr>\n",
       "      <th>2</th>\n",
       "      <td>7005513246</td>\n",
       "      <td>[Environment,  Goal(s),  Intelligent agents,  ...</td>\n",
       "    </tr>\n",
       "    <tr>\n",
       "      <th>8</th>\n",
       "      <td>57204031131</td>\n",
       "      <td>[Computer-aided engineering,  Data-driven engi...</td>\n",
       "    </tr>\n",
       "    <tr>\n",
       "      <th>9</th>\n",
       "      <td>6602649851</td>\n",
       "      <td>[Computer-aided engineering,  Data-driven engi...</td>\n",
       "    </tr>\n",
       "  </tbody>\n",
       "</table>\n",
       "</div>"
      ],
      "text/plain": [
       "     author_id                                           keywords\n",
       "0  57218202833  [Environment,  Goal(s),  Intelligent agents,  ...\n",
       "1   7004904337  [Environment,  Goal(s),  Intelligent agents,  ...\n",
       "2   7005513246  [Environment,  Goal(s),  Intelligent agents,  ...\n",
       "8  57204031131  [Computer-aided engineering,  Data-driven engi...\n",
       "9   6602649851  [Computer-aided engineering,  Data-driven engi..."
      ]
     },
     "execution_count": 126,
     "metadata": {},
     "output_type": "execute_result"
    }
   ],
   "source": [
    "auth_keywords_df.head()"
   ]
  },
  {
   "cell_type": "code",
   "execution_count": 127,
   "id": "59868de6-70d3-478b-af92-ef83104b0418",
   "metadata": {},
   "outputs": [],
   "source": [
    "auth_keywords = list()\n",
    "def filter_auth_keywords(x):\n",
    "    keywords = x['keywords'] if x['keywords'] and isinstance(x['keywords'], list) else None\n",
    "    author_id = x['author_id']\n",
    "    \n",
    "    for index, keyword in enumerate(keywords):\n",
    "        auth_keyword = dict()\n",
    "        auth_keyword['keyword'] = keyword\n",
    "        auth_keyword['author_id'] = author_id\n",
    "        auth_keywords.append(auth_keyword)"
   ]
  },
  {
   "cell_type": "code",
   "execution_count": 128,
   "id": "5637e620-9b29-4e17-a9c3-7bdd54f83df9",
   "metadata": {},
   "outputs": [],
   "source": [
    "_ = auth_keywords_df.apply(lambda x: filter_auth_keywords(x), axis=1)"
   ]
  },
  {
   "cell_type": "markdown",
   "id": "8da05256-8909-44a9-88f9-421f15dce841",
   "metadata": {},
   "source": [
    "Save as `author_keyword.csv` file"
   ]
  },
  {
   "cell_type": "code",
   "execution_count": 130,
   "id": "b5fd2e0d-6261-498d-9c7b-bbb6cb0a8a57",
   "metadata": {},
   "outputs": [],
   "source": [
    "auth_keywords_df = pd.DataFrame(auth_keywords)\n",
    "auth_keywords_df.to_csv(join(data_dir, \"author_keyword.csv\"), index=False)"
   ]
  },
  {
   "cell_type": "markdown",
   "id": "7a9fc9f2-357f-4313-8ed9-d772d4f2d6b4",
   "metadata": {},
   "source": [
    "`Author && Affiliation`"
   ]
  },
  {
   "cell_type": "code",
   "execution_count": 221,
   "id": "b7395030-4c4f-4a4e-a783-928d7a5d1871",
   "metadata": {},
   "outputs": [],
   "source": [
    "cols = ['author_id', 'affiliations']\n",
    "auth_affiliations_df = authors_df[cols]"
   ]
  },
  {
   "cell_type": "code",
   "execution_count": 224,
   "id": "af654c87-ff13-494f-a1dd-03b7819721cc",
   "metadata": {},
   "outputs": [
    {
     "data": {
      "text/html": [
       "<div>\n",
       "<style scoped>\n",
       "    .dataframe tbody tr th:only-of-type {\n",
       "        vertical-align: middle;\n",
       "    }\n",
       "\n",
       "    .dataframe tbody tr th {\n",
       "        vertical-align: top;\n",
       "    }\n",
       "\n",
       "    .dataframe thead th {\n",
       "        text-align: right;\n",
       "    }\n",
       "</style>\n",
       "<table border=\"1\" class=\"dataframe\">\n",
       "  <thead>\n",
       "    <tr style=\"text-align: right;\">\n",
       "      <th></th>\n",
       "      <th>author_id</th>\n",
       "      <th>affiliations</th>\n",
       "    </tr>\n",
       "  </thead>\n",
       "  <tbody>\n",
       "    <tr>\n",
       "      <th>0</th>\n",
       "      <td>57218202833</td>\n",
       "      <td>[Computer Science Department, Brigham Young Un...</td>\n",
       "    </tr>\n",
       "    <tr>\n",
       "      <th>1</th>\n",
       "      <td>7004904337</td>\n",
       "      <td>[Computer Science Department, Brigham Young Un...</td>\n",
       "    </tr>\n",
       "  </tbody>\n",
       "</table>\n",
       "</div>"
      ],
      "text/plain": [
       "     author_id                                       affiliations\n",
       "0  57218202833  [Computer Science Department, Brigham Young Un...\n",
       "1   7004904337  [Computer Science Department, Brigham Young Un..."
      ]
     },
     "execution_count": 224,
     "metadata": {},
     "output_type": "execute_result"
    }
   ],
   "source": [
    "auth_affiliations_df.head(2)"
   ]
  },
  {
   "cell_type": "code",
   "execution_count": 223,
   "id": "97a83258-3c3d-45c7-83ae-9f12f8b34e8c",
   "metadata": {},
   "outputs": [
    {
     "name": "stderr",
     "output_type": "stream",
     "text": [
      "/var/folders/mm/5vsgc5194kqf1xnmgq439jww0000gn/T/ipykernel_42315/3468666834.py:1: SettingWithCopyWarning: \n",
      "A value is trying to be set on a copy of a slice from a DataFrame\n",
      "\n",
      "See the caveats in the documentation: https://pandas.pydata.org/pandas-docs/stable/user_guide/indexing.html#returning-a-view-versus-a-copy\n",
      "  auth_affiliations_df.drop(auth_affiliations_df[auth_affiliations_df['affiliations'].isnull()].index, inplace=True)\n"
     ]
    }
   ],
   "source": [
    "auth_affiliations_df.drop(auth_affiliations_df[auth_affiliations_df['affiliations'].isnull()].index, inplace=True)"
   ]
  },
  {
   "cell_type": "code",
   "execution_count": 228,
   "id": "9bc00bae-dc85-4e1a-b988-e666bd91d59c",
   "metadata": {},
   "outputs": [],
   "source": [
    "auth_affiliations = list()\n",
    "def filter_auth_affiliations(x):\n",
    "    affiliations = x['affiliations'] if x['affiliations'] and isinstance(x['affiliations'], list) else None\n",
    "    author_id = x['author_id']\n",
    "    \n",
    "    for index, affiliation in enumerate(affiliations):\n",
    "        auth_affiliation = dict()\n",
    "        auth_affiliation['affiliation'] = affiliation\n",
    "        auth_affiliation['author_id'] = author_id\n",
    "        auth_affiliations.append(auth_affiliation)"
   ]
  },
  {
   "cell_type": "code",
   "execution_count": 229,
   "id": "4e19b872-7f82-4a1c-ab7c-116d421a9ad7",
   "metadata": {},
   "outputs": [],
   "source": [
    "_ = auth_affiliations_df.apply(lambda x: filter_auth_affiliations(x), axis=1)"
   ]
  },
  {
   "cell_type": "markdown",
   "id": "4c91b69e-a042-469b-bcce-d463056a98db",
   "metadata": {},
   "source": [
    "Save as `author_keyword.csv` file"
   ]
  },
  {
   "cell_type": "code",
   "execution_count": 231,
   "id": "c7348c2b-3ca8-460e-8c39-30ec6be06601",
   "metadata": {},
   "outputs": [],
   "source": [
    "auth_affiliations_df = pd.DataFrame(auth_affiliations)\n",
    "auth_affiliations_df.to_csv(join(data_dir, \"author_affiliation.csv\"), index=False)"
   ]
  },
  {
   "cell_type": "code",
   "execution_count": null,
   "id": "38c21eeb-8ff3-4bac-8ec6-f47cde5f863e",
   "metadata": {},
   "outputs": [],
   "source": []
  }
 ],
 "metadata": {
  "kernelspec": {
   "display_name": "Py SDM",
   "language": "python",
   "name": "sdm"
  },
  "language_info": {
   "codemirror_mode": {
    "name": "ipython",
    "version": 3
   },
   "file_extension": ".py",
   "mimetype": "text/x-python",
   "name": "python",
   "nbconvert_exporter": "python",
   "pygments_lexer": "ipython3",
   "version": "3.8.12"
  }
 },
 "nbformat": 4,
 "nbformat_minor": 5
}
