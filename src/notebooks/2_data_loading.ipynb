{
 "cells": [
  {
   "cell_type": "code",
   "execution_count": 1,
   "id": "d0e99e77-826c-4873-b43b-8fa69c3e6260",
   "metadata": {
    "tags": []
   },
   "outputs": [],
   "source": [
    "import pandas as pd\n",
    "from os import getcwd, listdir\n",
    "from os.path import join, isfile, exists, abspath, pardir\n",
    "from sys import path\n",
    "import re"
   ]
  },
  {
   "cell_type": "markdown",
   "id": "a7c5ca11-32f2-48d0-b380-4aed44a49a3b",
   "metadata": {},
   "source": [
    "##### Configs"
   ]
  },
  {
   "cell_type": "code",
   "execution_count": 2,
   "id": "9a8b9c1b-f8d8-4410-97bc-e5ac80844721",
   "metadata": {},
   "outputs": [],
   "source": [
    "database = \"sdm\"\n",
    "parent_dir = abspath(join(join(getcwd(), pardir), pardir))\n",
    "data_dir = join(parent_dir, \"data\")\n",
    "scripts_dir = join(parent_dir, \"src\", \"scripts\")"
   ]
  },
  {
   "cell_type": "code",
   "execution_count": 3,
   "id": "9ab4dbb3-0092-40ac-a86b-fb9577c1023c",
   "metadata": {},
   "outputs": [],
   "source": [
    "path.append(scripts_dir)\n",
    "from connect import Neo4jConnection"
   ]
  },
  {
   "cell_type": "code",
   "execution_count": 4,
   "id": "83bf2854-fbc6-4842-8a2f-27b9fcb76746",
   "metadata": {},
   "outputs": [],
   "source": [
    "driver = Neo4jConnection(uri=\"bolt://localhost:7687\", user=None, pwd=None, database=database)"
   ]
  },
  {
   "cell_type": "markdown",
   "id": "811f6f1a-665c-46f8-ae21-b2ff5cd50dee",
   "metadata": {},
   "source": [
    "##### Helper methods"
   ]
  },
  {
   "cell_type": "code",
   "execution_count": 6,
   "id": "14e4f9b6-2e06-41f5-9409-29d2d304788e",
   "metadata": {},
   "outputs": [],
   "source": [
    "def run_query(query):\n",
    "    \"\"\"\n",
    "    Basic wrapper around 'driver' object\n",
    "    \"\"\"\n",
    "    return driver.query(query)"
   ]
  },
  {
   "cell_type": "markdown",
   "id": "d4bfa1a3-0ce5-400c-8ac6-a1e3245cdfbc",
   "metadata": {},
   "source": [
    "#### Delete everything"
   ]
  },
  {
   "cell_type": "code",
   "execution_count": 7,
   "id": "e0ab03ed-ea59-46a1-a7f4-62ff1f4d8131",
   "metadata": {},
   "outputs": [],
   "source": [
    "def delete_all_nodes():\n",
    "    query = \"\"\"\n",
    "        MATCH(n) DETACH DELETE(n)\n",
    "    \"\"\"\n",
    "    run_query(query=query)"
   ]
  },
  {
   "cell_type": "code",
   "execution_count": 8,
   "id": "d1756251-ce3e-4c22-9e3f-86849ede8f99",
   "metadata": {},
   "outputs": [],
   "source": [
    "delete_all_nodes()"
   ]
  },
  {
   "cell_type": "markdown",
   "id": "7d6ca92a-ab77-49a1-b65c-e1df7da50680",
   "metadata": {
    "tags": []
   },
   "source": [
    "### Create Constraints (Optional)"
   ]
  },
  {
   "cell_type": "markdown",
   "id": "45d9cf8c-29db-4266-bfd1-c678047355a0",
   "metadata": {},
   "source": [
    "__Document__'s `document_id` should be unique"
   ]
  },
  {
   "cell_type": "code",
   "execution_count": 9,
   "id": "c39f0f4e-760f-405b-92fd-73fe58ad039d",
   "metadata": {},
   "outputs": [],
   "source": [
    "def create_document_unqiue_constraint():    \n",
    "    query = \"\"\"\n",
    "        CREATE CONSTRAINT document_unqiue IF NOT EXISTS FOR (n: Document) REQUIRE (n.document_id) IS UNIQUE\n",
    "    \"\"\"\n",
    "    run_query(query=query)"
   ]
  },
  {
   "cell_type": "code",
   "execution_count": 10,
   "id": "1ebe9297-a09e-4d79-b40c-f064c9171420",
   "metadata": {},
   "outputs": [],
   "source": [
    "create_document_unqiue_constraint()"
   ]
  },
  {
   "cell_type": "markdown",
   "id": "68e9205e-6e1b-4d4b-9921-a5d7ee5f2cc9",
   "metadata": {},
   "source": [
    "__Author__'s `document_id` should be unique"
   ]
  },
  {
   "cell_type": "code",
   "execution_count": 11,
   "id": "0f3a738d-327a-4914-b701-d9ff94d934f5",
   "metadata": {},
   "outputs": [],
   "source": [
    "def create_author_id_unqiue_constraint():    \n",
    "    query = \"\"\"\n",
    "        CREATE CONSTRAINT author_id_unqiue IF NOT EXISTS FOR (n: Author) REQUIRE (n.author_id) IS UNIQUE\n",
    "    \"\"\"\n",
    "    run_query(query=query)"
   ]
  },
  {
   "cell_type": "code",
   "execution_count": 12,
   "id": "83de5920-9cef-4a1b-b093-d20d5b30b148",
   "metadata": {},
   "outputs": [],
   "source": [
    "create_author_id_unqiue_constraint()"
   ]
  },
  {
   "cell_type": "markdown",
   "id": "cf7e5054-0073-4fec-93d7-897471b8b4c6",
   "metadata": {},
   "source": [
    "__Keyword__'s `name` should be unique"
   ]
  },
  {
   "cell_type": "code",
   "execution_count": 13,
   "id": "0fbd1f6e-9481-4e4d-a8a6-a03a966cc7b9",
   "metadata": {},
   "outputs": [],
   "source": [
    "def create_keyword_unqiue_constraint():    \n",
    "    query = \"\"\"\n",
    "        CREATE CONSTRAINT keyword_unqiue IF NOT EXISTS FOR (n: Keyword) REQUIRE (n.name) IS UNIQUE\n",
    "    \"\"\"\n",
    "    run_query(query=query)"
   ]
  },
  {
   "cell_type": "code",
   "execution_count": 14,
   "id": "24bae0d2-c430-4204-a96a-6beba4bc3d28",
   "metadata": {},
   "outputs": [],
   "source": [
    "create_keyword_unqiue_constraint()"
   ]
  },
  {
   "cell_type": "markdown",
   "id": "e2969b74-464a-4f51-9838-484b8effc8cf",
   "metadata": {
    "tags": []
   },
   "source": [
    "### Create Nodes"
   ]
  },
  {
   "cell_type": "markdown",
   "id": "49ec668b-4bd8-4b3b-8457-42d0786be153",
   "metadata": {},
   "source": [
    "Create `Journal` nodes"
   ]
  },
  {
   "cell_type": "code",
   "execution_count": 15,
   "id": "5a15303d-5591-4f9f-b21c-17c890552aec",
   "metadata": {},
   "outputs": [],
   "source": [
    "def create_journal_nodes():    \n",
    "    query = \"\"\"\n",
    "        LOAD CSV WITH HEADERS FROM \"file:///Users/mohammadzainabbas/Downloads/sdm/journals.csv\" AS x\n",
    "        CREATE(n: Journal)\n",
    "        SET n=x, n.year=toInteger(x.year)\n",
    "    \"\"\"\n",
    "    run_query(query=query)"
   ]
  },
  {
   "cell_type": "code",
   "execution_count": 16,
   "id": "088d0456-f280-4cd3-9e1d-3698f223aa5a",
   "metadata": {},
   "outputs": [],
   "source": [
    "create_journal_nodes()"
   ]
  },
  {
   "cell_type": "markdown",
   "id": "95072eff-3a92-4569-a00a-8ceecd58c61b",
   "metadata": {},
   "source": [
    "Create `Affiliation` nodes"
   ]
  },
  {
   "cell_type": "code",
   "execution_count": 17,
   "id": "d95b7553-ce47-4fb2-8b09-7d80f88d804d",
   "metadata": {},
   "outputs": [],
   "source": [
    "def create_affiliation_nodes():    \n",
    "    query = \"\"\"\n",
    "        LOAD CSV WITH HEADERS FROM \"file:///Users/mohammadzainabbas/Downloads/sdm/affiliations.csv\" AS x\n",
    "        CREATE(n: Affiliation)\n",
    "        SET n=x\n",
    "    \"\"\"\n",
    "    run_query(query=query)"
   ]
  },
  {
   "cell_type": "code",
   "execution_count": 18,
   "id": "375941be-f5df-4360-802b-c7e9e011404e",
   "metadata": {},
   "outputs": [],
   "source": [
    "create_affiliation_nodes()"
   ]
  },
  {
   "cell_type": "markdown",
   "id": "4e0280e9-77e3-4a6f-beed-ebce0d1faf75",
   "metadata": {},
   "source": [
    "Create `Keyword` nodes"
   ]
  },
  {
   "cell_type": "code",
   "execution_count": 19,
   "id": "580eeaea-429d-4367-a474-2141a827e270",
   "metadata": {},
   "outputs": [],
   "source": [
    "def create_keyword_nodes():    \n",
    "    query = \"\"\"\n",
    "        LOAD CSV WITH HEADERS FROM \"file:///Users/mohammadzainabbas/Downloads/sdm/keywords.csv\" AS x\n",
    "        CREATE(n: Keyword)\n",
    "        SET n=x\n",
    "    \"\"\"\n",
    "    run_query(query=query)"
   ]
  },
  {
   "cell_type": "code",
   "execution_count": 20,
   "id": "d89fbae3-e2cd-4715-8dca-fab2264a4f6f",
   "metadata": {},
   "outputs": [],
   "source": [
    "create_keyword_nodes()"
   ]
  },
  {
   "cell_type": "markdown",
   "id": "7de4f418-da76-4c39-9571-7f7398c78b83",
   "metadata": {},
   "source": [
    "Create `Author` nodes"
   ]
  },
  {
   "cell_type": "code",
   "execution_count": 21,
   "id": "06d973cc-c219-4dd5-b3aa-79bf72880ade",
   "metadata": {},
   "outputs": [],
   "source": [
    "def create_author_nodes():    \n",
    "    query = \"\"\"\n",
    "        LOAD CSV WITH HEADERS FROM \"file:///Users/mohammadzainabbas/Downloads/sdm/authors.csv\" AS x\n",
    "        WITH x, toInteger(x.author_id) AS author_id\n",
    "        CREATE (n: Author)\n",
    "        SET n=x, n.author_id=author_id\n",
    "    \"\"\"\n",
    "    run_query(query=query)"
   ]
  },
  {
   "cell_type": "code",
   "execution_count": 22,
   "id": "b1175cf4-5d25-4c54-940a-aeee5f0fc706",
   "metadata": {},
   "outputs": [],
   "source": [
    "create_author_nodes()"
   ]
  },
  {
   "cell_type": "markdown",
   "id": "9b7d1793-fc0a-4126-bd3c-f896d390a716",
   "metadata": {},
   "source": [
    "Create `Document` nodes"
   ]
  },
  {
   "cell_type": "code",
   "execution_count": 23,
   "id": "45a15d09-e6b8-4444-93c6-b3968e4ad910",
   "metadata": {},
   "outputs": [],
   "source": [
    "def create_document_nodes():    \n",
    "    query = \"\"\"\n",
    "        LOAD CSV WITH HEADERS FROM \"file:///Users/mohammadzainabbas/Downloads/sdm/documents.csv\" AS x\n",
    "        WITH x, toInteger(x.document_id) AS document_id\n",
    "        CREATE (n: Document)\n",
    "        SET n=x, n.document_id=document_id\n",
    "    \"\"\"\n",
    "    run_query(query=query)"
   ]
  },
  {
   "cell_type": "code",
   "execution_count": 24,
   "id": "07d2d7b7-6743-4c72-bca2-6018801bd43f",
   "metadata": {},
   "outputs": [],
   "source": [
    "create_document_nodes()"
   ]
  },
  {
   "cell_type": "markdown",
   "id": "ebdfbc43-f1e1-40a3-8755-dbb3a16bc368",
   "metadata": {
    "tags": []
   },
   "source": [
    "### Create Relationships"
   ]
  },
  {
   "cell_type": "markdown",
   "id": "fecc4ba5-7cf2-4a11-8892-bf96b560a6c4",
   "metadata": {},
   "source": [
    "Create relationship between `Document` and `Author` nodes"
   ]
  },
  {
   "cell_type": "code",
   "execution_count": 27,
   "id": "bb738cc8-4fee-487a-a33b-49a40aadaa1f",
   "metadata": {},
   "outputs": [],
   "source": [
    "def create_document_author_relation():    \n",
    "    query = \"\"\"\n",
    "        LOAD CSV WITH HEADERS FROM \"file:///Users/mohammadzainabbas/Downloads/sdm/document_author.csv\" AS x\n",
    "        WITH toInteger(x.author_id) AS auth_id, toInteger(x.document_id) AS doc_id\n",
    "        MATCH (a:Author {author_id: auth_id}), (b:Document {document_id: doc_id})\n",
    "        CREATE (b)-[r:written_by]->(a)\n",
    "    \"\"\"\n",
    "    run_query(query=query)"
   ]
  },
  {
   "cell_type": "code",
   "execution_count": 29,
   "id": "827ce74e-341c-4de9-a00f-65655b177c66",
   "metadata": {},
   "outputs": [],
   "source": [
    "create_document_author_relation()"
   ]
  },
  {
   "cell_type": "markdown",
   "id": "004e2e65-ea8e-4bba-8ddb-e27ff0ef4651",
   "metadata": {},
   "source": [
    "Create relationship between `Document` and `Keyword` nodes"
   ]
  },
  {
   "cell_type": "code",
   "execution_count": 30,
   "id": "bd610dd8-1be5-493f-9e94-ed88abde1b1b",
   "metadata": {},
   "outputs": [],
   "source": [
    "def create_document_keyword_relation():    \n",
    "    query = \"\"\"\n",
    "        LOAD CSV WITH HEADERS FROM \"file:///Users/mohammadzainabbas/Downloads/sdm/document_keyword.csv\" AS x\n",
    "        WITH x, toInteger(x.document_id) AS doc_id\n",
    "        MATCH (a:Document {document_id: doc_id}), (b:Keyword {name: x.keyword})\n",
    "        CREATE (a)-[r:has]->(b)\n",
    "    \"\"\"\n",
    "    run_query(query=query)"
   ]
  },
  {
   "cell_type": "code",
   "execution_count": 31,
   "id": "a94eac57-9698-455b-b338-d0269bc0414d",
   "metadata": {},
   "outputs": [],
   "source": [
    "create_document_keyword_relation()"
   ]
  },
  {
   "cell_type": "markdown",
   "id": "957a3b88-ea00-4232-9354-c6471024619e",
   "metadata": {},
   "source": [
    "Create relationship between `Author` and `Keyword` nodes"
   ]
  },
  {
   "cell_type": "code",
   "execution_count": 32,
   "id": "092bf256-5650-471f-a193-65d501220c3f",
   "metadata": {},
   "outputs": [],
   "source": [
    "def create_author_keyword_relation():    \n",
    "    query = \"\"\"\n",
    "        LOAD CSV WITH HEADERS FROM \"file:///Users/mohammadzainabbas/Downloads/sdm/author_keyword.csv\" AS x\n",
    "        WITH x, toInteger(x.author_id) AS auth_id\n",
    "        MATCH (a:Author {author_id: auth_id}), (b:Keyword {name: x.keyword})\n",
    "        CREATE (a)-[r:has]->(b)\n",
    "    \"\"\"\n",
    "    run_query(query=query)"
   ]
  },
  {
   "cell_type": "code",
   "execution_count": 33,
   "id": "33044228-dd37-42b5-af94-a3756870e533",
   "metadata": {},
   "outputs": [],
   "source": [
    "create_author_keyword_relation()"
   ]
  },
  {
   "cell_type": "markdown",
   "id": "b31fa764-aadc-41bf-8220-79c7360f1804",
   "metadata": {},
   "source": [
    "Create relationship between `Author` and `Affiliation` nodes"
   ]
  },
  {
   "cell_type": "code",
   "execution_count": 38,
   "id": "86827c86-0a68-4283-a599-94899029304d",
   "metadata": {},
   "outputs": [],
   "source": [
    "def create_author_affiliation_relation():\n",
    "    query = \"\"\"\n",
    "        LOAD CSV WITH HEADERS FROM \"file:///Users/mohammadzainabbas/Downloads/sdm/author_affiliation.csv\" AS x\n",
    "        WITH x, toInteger(x.author_id) AS auth_id\n",
    "        MATCH (a:Author {author_id: auth_id}), (b:Affiliation {name: x.affiliation})\n",
    "        CREATE (a)-[r:affiliated_with]->(b)\n",
    "    \"\"\"\n",
    "    run_query(query=query)"
   ]
  },
  {
   "cell_type": "code",
   "execution_count": 39,
   "id": "7d494161-08b6-41fe-bd21-8b74da3ea1f2",
   "metadata": {},
   "outputs": [],
   "source": [
    "create_author_affiliation_relation()"
   ]
  },
  {
   "cell_type": "markdown",
   "id": "9f9ce9b5-222f-48c0-91c5-2ef17fe816f4",
   "metadata": {},
   "source": [
    "Create relationship between `Document` and `Journal` nodes"
   ]
  },
  {
   "cell_type": "code",
   "execution_count": 40,
   "id": "844aab9e-f51c-4690-8205-10611caf1de6",
   "metadata": {},
   "outputs": [],
   "source": [
    "def create_document_journal_relation():\n",
    "    query = \"\"\"\n",
    "        LOAD CSV WITH HEADERS FROM \"file:///Users/mohammadzainabbas/Downloads/sdm/document_journal.csv\" AS x\n",
    "        WITH x, toInteger(x.document_id) AS doc_id\n",
    "        MATCH (d:Document {document_id: doc_id}), (j:Journal {name: x.source_title})\n",
    "        CREATE (d)-[r:published_in]->(j)\n",
    "    \"\"\"\n",
    "    run_query(query=query)"
   ]
  },
  {
   "cell_type": "code",
   "execution_count": 41,
   "id": "46585429-5a67-4847-9683-0e2c2d2c812d",
   "metadata": {},
   "outputs": [],
   "source": [
    "create_document_journal_relation()"
   ]
  },
  {
   "cell_type": "code",
   "execution_count": null,
   "id": "eb86b588-65a9-40c5-9979-83803e9d0c8c",
   "metadata": {},
   "outputs": [],
   "source": []
  }
 ],
 "metadata": {
  "kernelspec": {
   "display_name": "Py SDM",
   "language": "python",
   "name": "sdm"
  },
  "language_info": {
   "codemirror_mode": {
    "name": "ipython",
    "version": 3
   },
   "file_extension": ".py",
   "mimetype": "text/x-python",
   "name": "python",
   "nbconvert_exporter": "python",
   "pygments_lexer": "ipython3",
   "version": "3.8.12"
  }
 },
 "nbformat": 4,
 "nbformat_minor": 5
}
