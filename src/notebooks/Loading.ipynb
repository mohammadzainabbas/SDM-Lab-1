{
 "cells": [
  {
   "cell_type": "code",
   "execution_count": 1,
   "id": "5a187a00-1737-4172-8d73-5cabc9ae820f",
   "metadata": {},
   "outputs": [],
   "source": [
    "from os import getcwd\n",
    "from os.path import join, abspath, pardir\n",
    "from sys import path"
   ]
  },
  {
   "cell_type": "code",
   "execution_count": 2,
   "id": "f53e2cb4-4c34-40c0-b4dd-ff3e2c2f7a22",
   "metadata": {},
   "outputs": [
    {
     "data": {
      "text/plain": [
       "['C:\\\\Users\\\\User\\\\Desktop\\\\Courses\\\\SDM\\\\SDM-Lab-1\\\\src\\\\notebooks',\n",
       " 'C:\\\\ProgramData\\\\Anaconda3\\\\envs\\\\SDM\\\\python39.zip',\n",
       " 'C:\\\\ProgramData\\\\Anaconda3\\\\envs\\\\SDM\\\\DLLs',\n",
       " 'C:\\\\ProgramData\\\\Anaconda3\\\\envs\\\\SDM\\\\lib',\n",
       " 'C:\\\\ProgramData\\\\Anaconda3\\\\envs\\\\SDM',\n",
       " '',\n",
       " 'C:\\\\ProgramData\\\\Anaconda3\\\\envs\\\\SDM\\\\lib\\\\site-packages',\n",
       " 'C:\\\\ProgramData\\\\Anaconda3\\\\envs\\\\SDM\\\\lib\\\\site-packages\\\\win32',\n",
       " 'C:\\\\ProgramData\\\\Anaconda3\\\\envs\\\\SDM\\\\lib\\\\site-packages\\\\win32\\\\lib',\n",
       " 'C:\\\\ProgramData\\\\Anaconda3\\\\envs\\\\SDM\\\\lib\\\\site-packages\\\\Pythonwin',\n",
       " 'C:\\\\ProgramData\\\\Anaconda3\\\\envs\\\\SDM\\\\lib\\\\site-packages\\\\IPython\\\\extensions',\n",
       " 'C:\\\\Users\\\\User\\\\.ipython']"
      ]
     },
     "execution_count": 2,
     "metadata": {},
     "output_type": "execute_result"
    }
   ],
   "source": [
    "path"
   ]
  },
  {
   "cell_type": "code",
   "execution_count": 3,
   "id": "ae065fa9-7db2-4885-9c52-30728f0b7959",
   "metadata": {},
   "outputs": [],
   "source": [
    "parent_dir = abspath(join(getcwd(), pardir))\n",
    "scripts_dir = join(parent_dir, \"scripts\")"
   ]
  },
  {
   "cell_type": "code",
   "execution_count": 4,
   "id": "2a972701-7462-4ad9-a220-b66b92eb5ea8",
   "metadata": {},
   "outputs": [
    {
     "data": {
      "text/plain": [
       "'C:\\\\Users\\\\User\\\\Desktop\\\\Courses\\\\SDM\\\\SDM-Lab-1\\\\src\\\\scripts'"
      ]
     },
     "execution_count": 4,
     "metadata": {},
     "output_type": "execute_result"
    }
   ],
   "source": [
    "scripts_dir"
   ]
  },
  {
   "cell_type": "code",
   "execution_count": 5,
   "id": "5f12cdc2-ff1a-4270-bc2a-ef1e66efd4ce",
   "metadata": {},
   "outputs": [],
   "source": [
    "path.append(scripts_dir)"
   ]
  },
  {
   "cell_type": "code",
   "execution_count": 6,
   "id": "53250250-a763-4bb9-9188-35e86bbb6c7c",
   "metadata": {},
   "outputs": [],
   "source": [
    "from connect import Neo4jConnection"
   ]
  },
  {
   "cell_type": "code",
   "execution_count": 7,
   "id": "eb32c13e-70c9-4065-951a-adcb5721e833",
   "metadata": {},
   "outputs": [],
   "source": [
    "database='publications'"
   ]
  },
  {
   "cell_type": "code",
   "execution_count": 8,
   "id": "b15f2baf-fb9b-41f8-aae6-61c019fe8c9f",
   "metadata": {},
   "outputs": [],
   "source": [
    "driver= Neo4jConnection(uri='bolt://localhost:7687', user=None, pwd=None, database=database)"
   ]
  },
  {
   "cell_type": "code",
   "execution_count": null,
   "id": "5b2a09cd-77af-4c83-adbe-047d9d02ac0c",
   "metadata": {},
   "outputs": [],
   "source": [
    "driver.query('''Match(n) return n''')"
   ]
  },
  {
   "cell_type": "code",
   "execution_count": null,
   "id": "f6e54449-13ae-481a-91af-43b012236fdf",
   "metadata": {},
   "outputs": [],
   "source": [
    "list(r)"
   ]
  },
  {
   "cell_type": "code",
   "execution_count": 34,
   "id": "52cdaedf-d7c2-41d3-8662-21b9350155e0",
   "metadata": {},
   "outputs": [],
   "source": [
    "def document_unique(driver):\n",
    "    driver.query('''\n",
    "        CREATE CONSTRAINT document_unique IF NOT EXISTS FOR (n: Document) REQUIRE (n.doi) IS UNIQUE;\n",
    "    ''')"
   ]
  },
  {
   "cell_type": "code",
   "execution_count": 35,
   "id": "589edd5d-4f18-4b76-8b5c-9d903f1c302a",
   "metadata": {},
   "outputs": [],
   "source": [
    "def author_id_unique(driver):\n",
    "    driver.query('''\n",
    "        CREATE CONSTRAINT author_id_unique IF NOT EXISTS FOR (n: Author) REQUIRE (n.author_id) IS UNIQUE;\n",
    "    ''')"
   ]
  },
  {
   "cell_type": "code",
   "execution_count": 36,
   "id": "5d6fde8a-f547-49fb-aa23-7345028fe717",
   "metadata": {},
   "outputs": [],
   "source": [
    "def keyword_unique(driver):\n",
    "    driver.query('''\n",
    "        CREATE CONSTRAINT keyword_unique IF NOT EXISTS FOR (n: Keyword) REQUIRE (n.name) IS UNIQUE;\n",
    "    ''')"
   ]
  },
  {
   "cell_type": "code",
   "execution_count": 37,
   "id": "2f1367b3-6a13-40d6-89e3-2910f2dedbe6",
   "metadata": {},
   "outputs": [],
   "source": [
    "def create_affiliations(driver):\n",
    "    driver.query(''' LOAD CSV WITH HEADERS FROM \"file:///affiliations.csv\" AS x\n",
    "    CREATE (n: affiliation)\n",
    "    SET n = x''')"
   ]
  },
  {
   "cell_type": "code",
   "execution_count": 38,
   "id": "5ac8d176-8ffe-4279-9b4b-34c0439ea669",
   "metadata": {},
   "outputs": [],
   "source": [
    "def create_documents(driver):\n",
    "    driver.query(''' LOAD CSV WITH HEADERS FROM \"file:///documents.csv\" AS x\n",
    "    CREATE (n: document)\n",
    "    SET n = x''')"
   ]
  },
  {
   "cell_type": "code",
   "execution_count": 39,
   "id": "09142863-25a8-4066-acf8-91eaa2339833",
   "metadata": {},
   "outputs": [],
   "source": [
    "def create_journals(driver):\n",
    "    driver.query(''' LOAD CSV WITH HEADERS FROM \"file:///journals.csv\" AS x\n",
    "    CREATE (n: journal)\n",
    "    SET n = x''')"
   ]
  },
  {
   "cell_type": "code",
   "execution_count": 40,
   "id": "766b76dc-9961-483f-b008-94d2ba42d60f",
   "metadata": {},
   "outputs": [],
   "source": [
    "def create_keywords(driver):\n",
    "    driver.query(''' LOAD CSV WITH HEADERS FROM \"file:///keywords.csv\" AS x\n",
    "    CREATE (n: keyword)\n",
    "    SET n = x''')"
   ]
  },
  {
   "cell_type": "code",
   "execution_count": 48,
   "id": "c5742b0c-5de7-421f-9b27-cdbfd6e24d8f",
   "metadata": {},
   "outputs": [],
   "source": [
    "def create_authors(driver):\n",
    "    driver.query(''' LOAD CSV WITH HEADERS FROM \"file:///authors.csv\" AS x\n",
    "    CREATE (n: author)\n",
    "    SET n = x''')"
   ]
  },
  {
   "cell_type": "code",
   "execution_count": 42,
   "id": "f8770f92-a7ee-4166-afa0-534b3fac543f",
   "metadata": {},
   "outputs": [],
   "source": [
    "def document_keyword(driver):\n",
    "    driver.query('''MATCH (n: document), (m: keyword)\n",
    "    WHERE m.name IN n.keywords\n",
    "    CREATE (n)-[r:has]->(m)\n",
    "    RETURN type(r)''')"
   ]
  },
  {
   "cell_type": "code",
   "execution_count": 43,
   "id": "6649613c-e328-4ecc-90c3-c86b33f307a7",
   "metadata": {},
   "outputs": [],
   "source": [
    "def document_journal(driver):\n",
    "    driver.query('''MATCH (n: document), (m: journal)\n",
    "    WHERE m.name = n.source_title\n",
    "    CREATE (n)-[r:published_in]->(m)\n",
    "    RETURN type(r)''')"
   ]
  },
  {
   "cell_type": "code",
   "execution_count": 44,
   "id": "123972bc-7d72-474f-bb45-4e5d8fcdecb6",
   "metadata": {},
   "outputs": [],
   "source": [
    "def document_author(driver):\n",
    "    driver.query('''MATCH (n: document), (m: author)\n",
    "    WHERE m.author_ids = n.author_id\n",
    "    CREATE (n)-[r:written_by]->(m)\n",
    "    RETURN type(r)''')"
   ]
  },
  {
   "cell_type": "code",
   "execution_count": 45,
   "id": "f94059eb-5ea2-4930-9d40-6f351c24650a",
   "metadata": {},
   "outputs": [],
   "source": [
    "def author_document(driver):\n",
    "    driver.query('''MATCH (n: document), (m: author)\n",
    "    WHERE m.author_id = n.author_id\n",
    "    CREATE (n)<-[r:author_of]-(m)\n",
    "    RETURN type(r)''')"
   ]
  },
  {
   "cell_type": "code",
   "execution_count": 46,
   "id": "a76e0431-7c92-43f1-97ec-1101fccb6ba1",
   "metadata": {},
   "outputs": [],
   "source": [
    "def author_keyword(driver):\n",
    "    driver.query('''MATCH (n: author), (m: keyword)\n",
    "    WHERE m.keywords IN n.keywords\n",
    "    CREATE (n)-[r:has]->(m)\n",
    "    RETURN type(r)''')"
   ]
  },
  {
   "cell_type": "code",
   "execution_count": 47,
   "id": "fa842ece-e0e7-499f-a0df-40817f49b135",
   "metadata": {},
   "outputs": [],
   "source": [
    "def author_affiliation(driver):\n",
    "    driver.query('''MATCH (n: author), (m: affiliation)\n",
    "    WHERE m.affiliations=n.affiliations\n",
    "    CREATE (n)-[r:affiliated_with]->(m)\n",
    "    RETURN type(r)''')"
   ]
  },
  {
   "cell_type": "code",
   "execution_count": null,
   "id": "90da5daf-0ba8-4452-9f52-fd67b3da7fef",
   "metadata": {},
   "outputs": [],
   "source": [
    "MATCH (j:Journals) <-[published_in]-(d:Document)\n",
    "WHERE j.name CONTAINS \"Conference\" \n",
    "WITH j.name AS Conference, d.title AS Paper, cited_count AS Citings\n",
    "ORDER BY Conference, Paper, Citings DESC LIMIT 3\n",
    "RETURN Conference, Paper\n"
   ]
  }
 ],
 "metadata": {
  "kernelspec": {
   "display_name": "Py SDM",
   "language": "python",
   "name": "sdm"
  },
  "language_info": {
   "codemirror_mode": {
    "name": "ipython",
    "version": 3
   },
   "file_extension": ".py",
   "mimetype": "text/x-python",
   "name": "python",
   "nbconvert_exporter": "python",
   "pygments_lexer": "ipython3",
   "version": "3.9.7"
  }
 },
 "nbformat": 4,
 "nbformat_minor": 5
}
