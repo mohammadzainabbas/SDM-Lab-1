{
 "cells": [
  {
   "cell_type": "code",
   "execution_count": 1,
   "id": "5a187a00-1737-4172-8d73-5cabc9ae820f",
   "metadata": {},
   "outputs": [],
   "source": [
    "from os import getcwd\n",
    "from os.path import join, abspath, pardir\n",
    "from sys import path"
   ]
  },
  {
   "cell_type": "code",
   "execution_count": 2,
   "id": "f53e2cb4-4c34-40c0-b4dd-ff3e2c2f7a22",
   "metadata": {},
   "outputs": [
    {
     "data": {
      "text/plain": [
       "['C:\\\\Users\\\\User\\\\Desktop\\\\Courses\\\\SDM\\\\SDM-Lab-1\\\\src\\\\notebooks',\n",
       " 'C:\\\\ProgramData\\\\Anaconda3\\\\envs\\\\SDM\\\\python39.zip',\n",
       " 'C:\\\\ProgramData\\\\Anaconda3\\\\envs\\\\SDM\\\\DLLs',\n",
       " 'C:\\\\ProgramData\\\\Anaconda3\\\\envs\\\\SDM\\\\lib',\n",
       " 'C:\\\\ProgramData\\\\Anaconda3\\\\envs\\\\SDM',\n",
       " '',\n",
       " 'C:\\\\ProgramData\\\\Anaconda3\\\\envs\\\\SDM\\\\lib\\\\site-packages',\n",
       " 'C:\\\\ProgramData\\\\Anaconda3\\\\envs\\\\SDM\\\\lib\\\\site-packages\\\\win32',\n",
       " 'C:\\\\ProgramData\\\\Anaconda3\\\\envs\\\\SDM\\\\lib\\\\site-packages\\\\win32\\\\lib',\n",
       " 'C:\\\\ProgramData\\\\Anaconda3\\\\envs\\\\SDM\\\\lib\\\\site-packages\\\\Pythonwin',\n",
       " 'C:\\\\ProgramData\\\\Anaconda3\\\\envs\\\\SDM\\\\lib\\\\site-packages\\\\IPython\\\\extensions',\n",
       " 'C:\\\\Users\\\\User\\\\.ipython']"
      ]
     },
     "execution_count": 2,
     "metadata": {},
     "output_type": "execute_result"
    }
   ],
   "source": [
    "path"
   ]
  },
  {
   "cell_type": "code",
   "execution_count": 3,
   "id": "ae065fa9-7db2-4885-9c52-30728f0b7959",
   "metadata": {},
   "outputs": [],
   "source": [
    "parent_dir = abspath(join(getcwd(), pardir))\n",
    "scripts_dir = join(parent_dir, \"scripts\")"
   ]
  },
  {
   "cell_type": "code",
   "execution_count": 4,
   "id": "2a972701-7462-4ad9-a220-b66b92eb5ea8",
   "metadata": {},
   "outputs": [
    {
     "data": {
      "text/plain": [
       "'C:\\\\Users\\\\User\\\\Desktop\\\\Courses\\\\SDM\\\\SDM-Lab-1\\\\src\\\\scripts'"
      ]
     },
     "execution_count": 4,
     "metadata": {},
     "output_type": "execute_result"
    }
   ],
   "source": [
    "scripts_dir"
   ]
  },
  {
   "cell_type": "code",
   "execution_count": 5,
   "id": "5f12cdc2-ff1a-4270-bc2a-ef1e66efd4ce",
   "metadata": {},
   "outputs": [],
   "source": [
    "path.append(scripts_dir)"
   ]
  },
  {
   "cell_type": "code",
   "execution_count": 6,
   "id": "53250250-a763-4bb9-9188-35e86bbb6c7c",
   "metadata": {},
   "outputs": [],
   "source": [
    "from connect import Neo4jConnection"
   ]
  },
  {
   "cell_type": "code",
   "execution_count": 7,
   "id": "eb32c13e-70c9-4065-951a-adcb5721e833",
   "metadata": {},
   "outputs": [],
   "source": [
    "database='publications'"
   ]
  },
  {
   "cell_type": "code",
   "execution_count": 8,
   "id": "b15f2baf-fb9b-41f8-aae6-61c019fe8c9f",
   "metadata": {},
   "outputs": [],
   "source": [
    "driver= Neo4jConnection(uri='bolt://localhost:7687', user=None, pwd=None, database=database)"
   ]
  },
  {
   "cell_type": "code",
   "execution_count": null,
   "id": "5b2a09cd-77af-4c83-adbe-047d9d02ac0c",
   "metadata": {},
   "outputs": [],
   "source": [
    "driver.query('''Match(n) return n''')"
   ]
  },
  {
   "cell_type": "code",
   "execution_count": null,
   "id": "f6e54449-13ae-481a-91af-43b012236fdf",
   "metadata": {},
   "outputs": [],
   "source": [
    "list(r)"
   ]
  },
  {
   "cell_type": "code",
   "execution_count": null,
   "id": "52cdaedf-d7c2-41d3-8662-21b9350155e0",
   "metadata": {},
   "outputs": [],
   "source": [
    "driver.query()"
   ]
  }
 ],
 "metadata": {
  "kernelspec": {
   "display_name": "Py SDM",
   "language": "python",
   "name": "sdm"
  },
  "language_info": {
   "codemirror_mode": {
    "name": "ipython",
    "version": 3
   },
   "file_extension": ".py",
   "mimetype": "text/x-python",
   "name": "python",
   "nbconvert_exporter": "python",
   "pygments_lexer": "ipython3",
   "version": "3.9.7"
  }
 },
 "nbformat": 4,
 "nbformat_minor": 5
}
