{
 "cells": [
  {
   "cell_type": "code",
   "execution_count": 1,
   "id": "77aa5f9e-ca15-44e1-85c7-5159a0b420e9",
   "metadata": {},
   "outputs": [],
   "source": [
    "import pandas as pd\n",
    "from os import getcwd, listdir, makedirs\n",
    "from os.path import join, isfile, exists, abspath, pardir\n",
    "from sys import path\n",
    "# from pandas_profiling import ProfileReport"
   ]
  },
  {
   "cell_type": "markdown",
   "id": "58fc2470-e684-4ff9-a9db-3c7dea9b4c4e",
   "metadata": {},
   "source": [
    "##### Configs"
   ]
  },
  {
   "cell_type": "code",
   "execution_count": 2,
   "id": "e3ea4991-7a09-4bd7-8de9-0722eaa0ae82",
   "metadata": {},
   "outputs": [],
   "source": [
    "parent_dir = abspath(join(join(getcwd(), pardir), pardir))\n",
    "data_dir = join(parent_dir, \"data\")\n",
    "scripts_dir = join(parent_dir, \"src\", \"scripts\")\n",
    "data_file = join(data_dir, \"publications.csv\")"
   ]
  },
  {
   "cell_type": "code",
   "execution_count": 3,
   "id": "d639efe6-c614-4262-abde-17999e1851a0",
   "metadata": {},
   "outputs": [],
   "source": [
    "path.append(scripts_dir)\n",
    "from connect import Neo4jConnection"
   ]
  },
  {
   "cell_type": "markdown",
   "id": "3d220047-dfec-4517-8994-3725e441c515",
   "metadata": {},
   "source": [
    "##### Load data"
   ]
  },
  {
   "cell_type": "code",
   "execution_count": 4,
   "id": "4c303e80-ad7d-46a2-b7a5-3f4514d0774f",
   "metadata": {},
   "outputs": [
    {
     "data": {
      "text/html": [
       "<div>\n",
       "<style scoped>\n",
       "    .dataframe tbody tr th:only-of-type {\n",
       "        vertical-align: middle;\n",
       "    }\n",
       "\n",
       "    .dataframe tbody tr th {\n",
       "        vertical-align: top;\n",
       "    }\n",
       "\n",
       "    .dataframe thead th {\n",
       "        text-align: right;\n",
       "    }\n",
       "</style>\n",
       "<table border=\"1\" class=\"dataframe\">\n",
       "  <thead>\n",
       "    <tr style=\"text-align: right;\">\n",
       "      <th></th>\n",
       "      <th>Authors</th>\n",
       "      <th>Author(s) ID</th>\n",
       "      <th>Title</th>\n",
       "      <th>Year</th>\n",
       "      <th>Source title</th>\n",
       "      <th>Volume</th>\n",
       "      <th>Issue</th>\n",
       "      <th>Art. No.</th>\n",
       "      <th>Page start</th>\n",
       "      <th>Page end</th>\n",
       "      <th>...</th>\n",
       "      <th>Affiliations</th>\n",
       "      <th>Authors with affiliations</th>\n",
       "      <th>Abstract</th>\n",
       "      <th>Author Keywords</th>\n",
       "      <th>Index Keywords</th>\n",
       "      <th>Document Type</th>\n",
       "      <th>Publication Stage</th>\n",
       "      <th>Access Type</th>\n",
       "      <th>Source</th>\n",
       "      <th>EID</th>\n",
       "    </tr>\n",
       "  </thead>\n",
       "  <tbody>\n",
       "    <tr>\n",
       "      <th>0</th>\n",
       "      <td>Gautam A., Crandall J.W., Goodrich M.A.</td>\n",
       "      <td>57218202833;7004904337;7005513246;</td>\n",
       "      <td>Self-assessment of Proficiency of Intelligent ...</td>\n",
       "      <td>2021</td>\n",
       "      <td>Advances in Intelligent Systems and Computing</td>\n",
       "      <td>1210 AISC</td>\n",
       "      <td>NaN</td>\n",
       "      <td>NaN</td>\n",
       "      <td>108</td>\n",
       "      <td>113</td>\n",
       "      <td>...</td>\n",
       "      <td>Computer Science Department, Brigham Young Uni...</td>\n",
       "      <td>Gautam, A., Computer Science Department, Brigh...</td>\n",
       "      <td>Autonomous systems, although capable of perfor...</td>\n",
       "      <td>Environment; Goal(s); Intelligent agents; Prof...</td>\n",
       "      <td>Drones; Human engineering; Intelligent systems...</td>\n",
       "      <td>Conference Paper</td>\n",
       "      <td>Final</td>\n",
       "      <td>NaN</td>\n",
       "      <td>Scopus</td>\n",
       "      <td>2-s2.0-85088238482</td>\n",
       "    </tr>\n",
       "    <tr>\n",
       "      <th>1</th>\n",
       "      <td>de Moura Oliveira P.B., Hedengren J.D., Boaven...</td>\n",
       "      <td>6508306234;9277159100;6507358470;</td>\n",
       "      <td>Bridging theory to practice: Feedforward and c...</td>\n",
       "      <td>2021</td>\n",
       "      <td>Lecture Notes in Electrical Engineering</td>\n",
       "      <td>695 LNEE</td>\n",
       "      <td>NaN</td>\n",
       "      <td>NaN</td>\n",
       "      <td>23</td>\n",
       "      <td>32</td>\n",
       "      <td>...</td>\n",
       "      <td>INESC-TEC Technology and Science, Campus da FE...</td>\n",
       "      <td>de Moura Oliveira, P.B., INESC-TEC Technology ...</td>\n",
       "      <td>Practice is of the essence in Engineering cour...</td>\n",
       "      <td>NaN</td>\n",
       "      <td>Automation; Cascade control systems; Computati...</td>\n",
       "      <td>Conference Paper</td>\n",
       "      <td>Final</td>\n",
       "      <td>NaN</td>\n",
       "      <td>Scopus</td>\n",
       "      <td>2-s2.0-85091306533</td>\n",
       "    </tr>\n",
       "    <tr>\n",
       "      <th>2</th>\n",
       "      <td>Hajimirzaie S.M., Hotchkiss R.H.</td>\n",
       "      <td>53879700900;26642910500;</td>\n",
       "      <td>Development of sediment management guidelines ...</td>\n",
       "      <td>2020</td>\n",
       "      <td>Journal of Hydraulic Engineering</td>\n",
       "      <td>146</td>\n",
       "      <td>12</td>\n",
       "      <td>02520004</td>\n",
       "      <td>NaN</td>\n",
       "      <td>NaN</td>\n",
       "      <td>...</td>\n",
       "      <td>Task Committee Secretary and Lead Engineer, Op...</td>\n",
       "      <td>Hajimirzaie, S.M., Task Committee Secretary an...</td>\n",
       "      <td>Forum papers are thought-provoking opinion pie...</td>\n",
       "      <td>NaN</td>\n",
       "      <td>Hydraulics; Editorial board; Sediment manageme...</td>\n",
       "      <td>Review</td>\n",
       "      <td>Final</td>\n",
       "      <td>NaN</td>\n",
       "      <td>Scopus</td>\n",
       "      <td>2-s2.0-85091917202</td>\n",
       "    </tr>\n",
       "  </tbody>\n",
       "</table>\n",
       "<p>3 rows × 24 columns</p>\n",
       "</div>"
      ],
      "text/plain": [
       "                                             Authors  \\\n",
       "0            Gautam A., Crandall J.W., Goodrich M.A.   \n",
       "1  de Moura Oliveira P.B., Hedengren J.D., Boaven...   \n",
       "2                   Hajimirzaie S.M., Hotchkiss R.H.   \n",
       "\n",
       "                         Author(s) ID  \\\n",
       "0  57218202833;7004904337;7005513246;   \n",
       "1   6508306234;9277159100;6507358470;   \n",
       "2            53879700900;26642910500;   \n",
       "\n",
       "                                               Title  Year  \\\n",
       "0  Self-assessment of Proficiency of Intelligent ...  2021   \n",
       "1  Bridging theory to practice: Feedforward and c...  2021   \n",
       "2  Development of sediment management guidelines ...  2020   \n",
       "\n",
       "                                    Source title     Volume Issue   Art. No.  \\\n",
       "0  Advances in Intelligent Systems and Computing  1210 AISC   NaN        NaN   \n",
       "1        Lecture Notes in Electrical Engineering   695 LNEE   NaN        NaN   \n",
       "2               Journal of Hydraulic Engineering        146    12   02520004   \n",
       "\n",
       "  Page start Page end  ...                                       Affiliations  \\\n",
       "0        108      113  ...  Computer Science Department, Brigham Young Uni...   \n",
       "1         23       32  ...  INESC-TEC Technology and Science, Campus da FE...   \n",
       "2        NaN      NaN  ...  Task Committee Secretary and Lead Engineer, Op...   \n",
       "\n",
       "                           Authors with affiliations  \\\n",
       "0  Gautam, A., Computer Science Department, Brigh...   \n",
       "1  de Moura Oliveira, P.B., INESC-TEC Technology ...   \n",
       "2  Hajimirzaie, S.M., Task Committee Secretary an...   \n",
       "\n",
       "                                            Abstract  \\\n",
       "0  Autonomous systems, although capable of perfor...   \n",
       "1  Practice is of the essence in Engineering cour...   \n",
       "2  Forum papers are thought-provoking opinion pie...   \n",
       "\n",
       "                                     Author Keywords  \\\n",
       "0  Environment; Goal(s); Intelligent agents; Prof...   \n",
       "1                                                NaN   \n",
       "2                                                NaN   \n",
       "\n",
       "                                      Index Keywords     Document Type  \\\n",
       "0  Drones; Human engineering; Intelligent systems...  Conference Paper   \n",
       "1  Automation; Cascade control systems; Computati...  Conference Paper   \n",
       "2  Hydraulics; Editorial board; Sediment manageme...            Review   \n",
       "\n",
       "  Publication Stage Access Type  Source                 EID  \n",
       "0             Final         NaN  Scopus  2-s2.0-85088238482  \n",
       "1             Final         NaN  Scopus  2-s2.0-85091306533  \n",
       "2             Final         NaN  Scopus  2-s2.0-85091917202  \n",
       "\n",
       "[3 rows x 24 columns]"
      ]
     },
     "execution_count": 4,
     "metadata": {},
     "output_type": "execute_result"
    }
   ],
   "source": [
    "df = pd.read_csv(data_file)\n",
    "df.head(3)"
   ]
  },
  {
   "cell_type": "code",
   "execution_count": 7,
   "id": "571a19ab-6263-4cb4-b4d4-0ec2384ae5a3",
   "metadata": {},
   "outputs": [],
   "source": [
    "# profile = ProfileReport(df, title=\"Publications\")\n",
    "# profile.to_widgets()"
   ]
  },
  {
   "cell_type": "code",
   "execution_count": 5,
   "id": "2bbea11d-84fa-4cba-97e5-bde86b932dc5",
   "metadata": {},
   "outputs": [],
   "source": [
    "# database = \"sdm\"\n",
    "# driver = Neo4jConnection(uri=\"bolt://localhost:7687\", user=None, pwd=None, database=database)\n",
    "\n",
    "# result = driver.query(\"\"\"\n",
    "# Match (n) return n\n",
    "# \"\"\")\n",
    "\n",
    "# r = result.single()\n",
    "\n",
    "# list(result)"
   ]
  },
  {
   "cell_type": "code",
   "execution_count": 6,
   "id": "71d19db2-0153-4936-bede-cda0baf7995c",
   "metadata": {},
   "outputs": [
    {
     "data": {
      "text/plain": [
       "['Authors',\n",
       " 'Author(s) ID',\n",
       " 'Title',\n",
       " 'Year',\n",
       " 'Source title',\n",
       " 'Volume',\n",
       " 'Issue',\n",
       " 'Art. No.',\n",
       " 'Page start',\n",
       " 'Page end',\n",
       " 'Page count',\n",
       " 'Cited by',\n",
       " 'DOI',\n",
       " 'Link',\n",
       " 'Affiliations',\n",
       " 'Authors with affiliations',\n",
       " 'Abstract',\n",
       " 'Author Keywords',\n",
       " 'Index Keywords',\n",
       " 'Document Type',\n",
       " 'Publication Stage',\n",
       " 'Access Type',\n",
       " 'Source',\n",
       " 'EID']"
      ]
     },
     "execution_count": 6,
     "metadata": {},
     "output_type": "execute_result"
    }
   ],
   "source": [
    "df.columns.to_list()"
   ]
  },
  {
   "cell_type": "code",
   "execution_count": 7,
   "id": "5bd59edd-2f5c-459d-a6f5-939b0cd6bc7f",
   "metadata": {},
   "outputs": [],
   "source": [
    "journals_cols = ['Year', 'Source title', 'Volume']\n",
    "keyword_cols = ['Author Keywords', 'Index Keywords']\n",
    "affiliation_cols = ['Affiliations']\n",
    "authors_cols = ['Authors', 'Author(s) ID', 'Affiliations', 'Authors with affiliations', 'Author Keywords']\n",
    "document_cols = ['Author(s) ID', 'Title', 'Source title', 'Art. No.', 'Cited by', 'DOI', 'Abstract', 'Index Keywords', 'Document Type']"
   ]
  },
  {
   "cell_type": "code",
   "execution_count": 51,
   "id": "f859d3e3-6177-43c2-bb32-56dc3de00b5d",
   "metadata": {},
   "outputs": [],
   "source": [
    "def cast_columns(df, cols, __type):\n",
    "    df[cols] = df[cols].astype(__type)\n",
    "    return df"
   ]
  },
  {
   "cell_type": "markdown",
   "id": "9b84cb0d-73d4-478c-be51-09b254c1b20d",
   "metadata": {},
   "source": [
    "#### Journals"
   ]
  },
  {
   "cell_type": "code",
   "execution_count": 8,
   "id": "7f77bc58-a72b-467b-8057-97b3dee5a547",
   "metadata": {},
   "outputs": [],
   "source": [
    "journals_df = df[journals_cols]"
   ]
  },
  {
   "cell_type": "code",
   "execution_count": 11,
   "id": "51c9149b-a75e-461c-b9af-ab3f57a2d1d6",
   "metadata": {},
   "outputs": [
    {
     "data": {
      "text/plain": [
       "Year             int64\n",
       "Source title    object\n",
       "Volume          object\n",
       "dtype: object"
      ]
     },
     "execution_count": 24,
     "metadata": {},
     "output_type": "execute_result"
    }
   ],
   "source": [
    "journals_df.dtypes"
   ]
  },
  {
   "cell_type": "code",
   "execution_count": 12,
   "id": "1f147b3d-9ae9-4035-bd9a-ce72120d03b9",
   "metadata": {},
   "outputs": [
    {
     "data": {
      "text/html": [
       "<div>\n",
       "<style scoped>\n",
       "    .dataframe tbody tr th:only-of-type {\n",
       "        vertical-align: middle;\n",
       "    }\n",
       "\n",
       "    .dataframe tbody tr th {\n",
       "        vertical-align: top;\n",
       "    }\n",
       "\n",
       "    .dataframe thead th {\n",
       "        text-align: right;\n",
       "    }\n",
       "</style>\n",
       "<table border=\"1\" class=\"dataframe\">\n",
       "  <thead>\n",
       "    <tr style=\"text-align: right;\">\n",
       "      <th></th>\n",
       "      <th>Year</th>\n",
       "      <th>Source title</th>\n",
       "      <th>Volume</th>\n",
       "    </tr>\n",
       "  </thead>\n",
       "  <tbody>\n",
       "    <tr>\n",
       "      <th>0</th>\n",
       "      <td>2021</td>\n",
       "      <td>Advances in Intelligent Systems and Computing</td>\n",
       "      <td>1210 AISC</td>\n",
       "    </tr>\n",
       "    <tr>\n",
       "      <th>1</th>\n",
       "      <td>2021</td>\n",
       "      <td>Lecture Notes in Electrical Engineering</td>\n",
       "      <td>695 LNEE</td>\n",
       "    </tr>\n",
       "    <tr>\n",
       "      <th>2</th>\n",
       "      <td>2020</td>\n",
       "      <td>Journal of Hydraulic Engineering</td>\n",
       "      <td>146</td>\n",
       "    </tr>\n",
       "    <tr>\n",
       "      <th>3</th>\n",
       "      <td>2020</td>\n",
       "      <td>Journal of Computing and Information Science i...</td>\n",
       "      <td>20</td>\n",
       "    </tr>\n",
       "    <tr>\n",
       "      <th>4</th>\n",
       "      <td>2020</td>\n",
       "      <td>Telematics and Informatics</td>\n",
       "      <td>55</td>\n",
       "    </tr>\n",
       "  </tbody>\n",
       "</table>\n",
       "</div>"
      ],
      "text/plain": [
       "   Year                                       Source title     Volume\n",
       "0  2021      Advances in Intelligent Systems and Computing  1210 AISC\n",
       "1  2021            Lecture Notes in Electrical Engineering   695 LNEE\n",
       "2  2020                   Journal of Hydraulic Engineering        146\n",
       "3  2020  Journal of Computing and Information Science i...         20\n",
       "4  2020                         Telematics and Informatics         55"
      ]
     },
     "execution_count": 25,
     "metadata": {},
     "output_type": "execute_result"
    }
   ],
   "source": [
    "journals_df.head()"
   ]
  },
  {
   "cell_type": "code",
   "execution_count": 34,
   "id": "98d5ced3-5977-4952-a134-2842d8e02561",
   "metadata": {},
   "outputs": [
    {
     "name": "stderr",
     "output_type": "stream",
     "text": [
      "/var/folders/mm/5vsgc5194kqf1xnmgq439jww0000gn/T/ipykernel_31871/4243683562.py:1: SettingWithCopyWarning: \n",
      "A value is trying to be set on a copy of a slice from a DataFrame.\n",
      "Try using .loc[row_indexer,col_indexer] = value instead\n",
      "\n",
      "See the caveats in the documentation: https://pandas.pydata.org/pandas-docs/stable/user_guide/indexing.html#returning-a-view-versus-a-copy\n",
      "  journals_df[['Source title', 'Volume']] = journals_df[['Source title', 'Volume']].astype(pd.StringDtype())\n",
      "/var/folders/mm/5vsgc5194kqf1xnmgq439jww0000gn/T/ipykernel_31871/4243683562.py:2: SettingWithCopyWarning: \n",
      "A value is trying to be set on a copy of a slice from a DataFrame\n",
      "\n",
      "See the caveats in the documentation: https://pandas.pydata.org/pandas-docs/stable/user_guide/indexing.html#returning-a-view-versus-a-copy\n",
      "  journals_df.rename(columns={'Year': 'year', 'Source title': 'name', 'Volume': 'volume'}, inplace=True)\n"
     ]
    },
    {
     "data": {
      "text/plain": [
       "year       int64\n",
       "name      string\n",
       "volume    string\n",
       "dtype: object"
      ]
     },
     "execution_count": 34,
     "metadata": {},
     "output_type": "execute_result"
    }
   ],
   "source": [
    "# journals_df[['Source title', 'Volume']] = journals_df[['Source title', 'Volume']].astype(pd.StringDtype())\n",
    "journals_df = cast_columns(journals_df, ['Source title', 'Volume'], pd.StringDtype())\n",
    "journals_df.rename(columns={'Year': 'year', 'Source title': 'name', 'Volume': 'volume'}, inplace=True)\n",
    "journals_df.dtypes"
   ]
  },
  {
   "cell_type": "code",
   "execution_count": 43,
   "id": "e4606115-2952-48ca-9a82-d7fc90ccbcf0",
   "metadata": {},
   "outputs": [
    {
     "data": {
      "text/html": [
       "<div>\n",
       "<style scoped>\n",
       "    .dataframe tbody tr th:only-of-type {\n",
       "        vertical-align: middle;\n",
       "    }\n",
       "\n",
       "    .dataframe tbody tr th {\n",
       "        vertical-align: top;\n",
       "    }\n",
       "\n",
       "    .dataframe thead th {\n",
       "        text-align: right;\n",
       "    }\n",
       "</style>\n",
       "<table border=\"1\" class=\"dataframe\">\n",
       "  <thead>\n",
       "    <tr style=\"text-align: right;\">\n",
       "      <th></th>\n",
       "      <th>year</th>\n",
       "      <th>name</th>\n",
       "      <th>volume</th>\n",
       "    </tr>\n",
       "  </thead>\n",
       "  <tbody>\n",
       "    <tr>\n",
       "      <th>22</th>\n",
       "      <td>2020</td>\n",
       "      <td>Proceedings - 2020 IEEE 21st International Con...</td>\n",
       "      <td>&lt;NA&gt;</td>\n",
       "    </tr>\n",
       "    <tr>\n",
       "      <th>50</th>\n",
       "      <td>2020</td>\n",
       "      <td>Proceedings - 2020 IEEE 34th International Par...</td>\n",
       "      <td>&lt;NA&gt;</td>\n",
       "    </tr>\n",
       "    <tr>\n",
       "      <th>95</th>\n",
       "      <td>2020</td>\n",
       "      <td>Journal of Composite Materials</td>\n",
       "      <td>&lt;NA&gt;</td>\n",
       "    </tr>\n",
       "    <tr>\n",
       "      <th>96</th>\n",
       "      <td>2020</td>\n",
       "      <td>Computing in Science and Engineering</td>\n",
       "      <td>&lt;NA&gt;</td>\n",
       "    </tr>\n",
       "    <tr>\n",
       "      <th>101</th>\n",
       "      <td>2020</td>\n",
       "      <td>International Journal of Robotics Research</td>\n",
       "      <td>&lt;NA&gt;</td>\n",
       "    </tr>\n",
       "  </tbody>\n",
       "</table>\n",
       "</div>"
      ],
      "text/plain": [
       "     year                                               name volume\n",
       "22   2020  Proceedings - 2020 IEEE 21st International Con...   <NA>\n",
       "50   2020  Proceedings - 2020 IEEE 34th International Par...   <NA>\n",
       "95   2020                     Journal of Composite Materials   <NA>\n",
       "96   2020               Computing in Science and Engineering   <NA>\n",
       "101  2020         International Journal of Robotics Research   <NA>"
      ]
     },
     "execution_count": 43,
     "metadata": {},
     "output_type": "execute_result"
    }
   ],
   "source": [
    "journals_df[journals_df['volume'].isnull()].head()"
   ]
  },
  {
   "cell_type": "code",
   "execution_count": 49,
   "id": "e3f7a069-1200-47af-8bd6-2b0f2f6866e4",
   "metadata": {},
   "outputs": [],
   "source": [
    "journals_df.to_csv(join(data_dir, \"journals.csv\"), index=False)"
   ]
  },
  {
   "cell_type": "markdown",
   "id": "2fb02e75-5a35-4d77-ac06-67734301712d",
   "metadata": {},
   "source": [
    "##### Keywords"
   ]
  },
  {
   "cell_type": "code",
   "execution_count": 50,
   "id": "616a2951-698f-4a91-815a-8c62a372f4d0",
   "metadata": {},
   "outputs": [
    {
     "data": {
      "text/plain": [
       "Author Keywords    object\n",
       "Index Keywords     object\n",
       "dtype: object"
      ]
     },
     "execution_count": 50,
     "metadata": {},
     "output_type": "execute_result"
    }
   ],
   "source": [
    "keywords_df = df[keyword_cols]\n",
    "keywords_df.dtypes"
   ]
  },
  {
   "cell_type": "code",
   "execution_count": 52,
   "id": "356cfd5e-d4b4-4b07-ba97-44bf1d13e83b",
   "metadata": {},
   "outputs": [
    {
     "name": "stderr",
     "output_type": "stream",
     "text": [
      "/var/folders/mm/5vsgc5194kqf1xnmgq439jww0000gn/T/ipykernel_31871/4139907851.py:2: SettingWithCopyWarning: \n",
      "A value is trying to be set on a copy of a slice from a DataFrame.\n",
      "Try using .loc[row_indexer,col_indexer] = value instead\n",
      "\n",
      "See the caveats in the documentation: https://pandas.pydata.org/pandas-docs/stable/user_guide/indexing.html#returning-a-view-versus-a-copy\n",
      "  df[cols] = df[cols].astype(__type)\n"
     ]
    },
    {
     "data": {
      "text/plain": [
       "Author Keywords    string\n",
       "Index Keywords     string\n",
       "dtype: object"
      ]
     },
     "execution_count": 52,
     "metadata": {},
     "output_type": "execute_result"
    }
   ],
   "source": [
    "keywords_df = cast_columns(keywords_df, keyword_cols, pd.StringDtype())\n",
    "keywords_df.dtypes"
   ]
  },
  {
   "cell_type": "code",
   "execution_count": 53,
   "id": "9e9974a9-a4a4-4151-92fb-10461b3a2c7f",
   "metadata": {},
   "outputs": [
    {
     "data": {
      "text/html": [
       "<div>\n",
       "<style scoped>\n",
       "    .dataframe tbody tr th:only-of-type {\n",
       "        vertical-align: middle;\n",
       "    }\n",
       "\n",
       "    .dataframe tbody tr th {\n",
       "        vertical-align: top;\n",
       "    }\n",
       "\n",
       "    .dataframe thead th {\n",
       "        text-align: right;\n",
       "    }\n",
       "</style>\n",
       "<table border=\"1\" class=\"dataframe\">\n",
       "  <thead>\n",
       "    <tr style=\"text-align: right;\">\n",
       "      <th></th>\n",
       "      <th>Author Keywords</th>\n",
       "      <th>Index Keywords</th>\n",
       "    </tr>\n",
       "  </thead>\n",
       "  <tbody>\n",
       "    <tr>\n",
       "      <th>0</th>\n",
       "      <td>Environment; Goal(s); Intelligent agents; Prof...</td>\n",
       "      <td>Drones; Human engineering; Intelligent systems...</td>\n",
       "    </tr>\n",
       "    <tr>\n",
       "      <th>1</th>\n",
       "      <td>&lt;NA&gt;</td>\n",
       "      <td>Automation; Cascade control systems; Computati...</td>\n",
       "    </tr>\n",
       "    <tr>\n",
       "      <th>2</th>\n",
       "      <td>&lt;NA&gt;</td>\n",
       "      <td>Hydraulics; Editorial board; Sediment manageme...</td>\n",
       "    </tr>\n",
       "    <tr>\n",
       "      <th>3</th>\n",
       "      <td>Computer-aided engineering; Data-driven engine...</td>\n",
       "      <td>Compressors; Data handling; Structural design;...</td>\n",
       "    </tr>\n",
       "    <tr>\n",
       "      <th>4</th>\n",
       "      <td>Dating; Emerging adults; Mobile phones; Uses a...</td>\n",
       "      <td>Entertainment; A-RINGS; External pressures; Ro...</td>\n",
       "    </tr>\n",
       "  </tbody>\n",
       "</table>\n",
       "</div>"
      ],
      "text/plain": [
       "                                     Author Keywords  \\\n",
       "0  Environment; Goal(s); Intelligent agents; Prof...   \n",
       "1                                               <NA>   \n",
       "2                                               <NA>   \n",
       "3  Computer-aided engineering; Data-driven engine...   \n",
       "4  Dating; Emerging adults; Mobile phones; Uses a...   \n",
       "\n",
       "                                      Index Keywords  \n",
       "0  Drones; Human engineering; Intelligent systems...  \n",
       "1  Automation; Cascade control systems; Computati...  \n",
       "2  Hydraulics; Editorial board; Sediment manageme...  \n",
       "3  Compressors; Data handling; Structural design;...  \n",
       "4  Entertainment; A-RINGS; External pressures; Ro...  "
      ]
     },
     "execution_count": 53,
     "metadata": {},
     "output_type": "execute_result"
    }
   ],
   "source": [
    "keywords_df.head()"
   ]
  },
  {
   "cell_type": "code",
   "execution_count": 54,
   "id": "7648101a-83c8-4a89-948d-6eabb08101ec",
   "metadata": {},
   "outputs": [
    {
     "data": {
      "text/plain": [
       "Author Keywords    True\n",
       "Index Keywords     True\n",
       "dtype: bool"
      ]
     },
     "execution_count": 54,
     "metadata": {},
     "output_type": "execute_result"
    }
   ],
   "source": [
    "keywords_df"
   ]
  },
  {
   "cell_type": "code",
   "execution_count": null,
   "id": "37cd298b-8b72-49ee-b8f3-6d1ab7c603c3",
   "metadata": {},
   "outputs": [],
   "source": []
  }
 ],
 "metadata": {
  "kernelspec": {
   "display_name": "Py SDM",
   "language": "python",
   "name": "sdm"
  },
  "language_info": {
   "codemirror_mode": {
    "name": "ipython",
    "version": 3
   },
   "file_extension": ".py",
   "mimetype": "text/x-python",
   "name": "python",
   "nbconvert_exporter": "python",
   "pygments_lexer": "ipython3",
   "version": "3.8.12"
  }
 },
 "nbformat": 4,
 "nbformat_minor": 5
}
