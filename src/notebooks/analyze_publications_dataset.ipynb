{
 "cells": [
  {
   "cell_type": "code",
   "execution_count": 1,
   "id": "77aa5f9e-ca15-44e1-85c7-5159a0b420e9",
   "metadata": {},
   "outputs": [],
   "source": [
    "import pandas as pd\n",
    "from os import getcwd, listdir, makedirs\n",
    "from os.path import join, isfile, exists, abspath, pardir\n",
    "from sys import path\n",
    "# from pandas_profiling import ProfileReport"
   ]
  },
  {
   "cell_type": "markdown",
   "id": "58fc2470-e684-4ff9-a9db-3c7dea9b4c4e",
   "metadata": {},
   "source": [
    "##### Configs"
   ]
  },
  {
   "cell_type": "code",
   "execution_count": 2,
   "id": "e3ea4991-7a09-4bd7-8de9-0722eaa0ae82",
   "metadata": {},
   "outputs": [],
   "source": [
    "parent_dir = abspath(join(join(getcwd(), pardir), pardir))\n",
    "data_dir = join(parent_dir, \"data\")\n",
    "scripts_dir = join(parent_dir, \"src\", \"scripts\")\n",
    "data_file = join(data_dir, \"publications.csv\")"
   ]
  },
  {
   "cell_type": "code",
   "execution_count": 3,
   "id": "d639efe6-c614-4262-abde-17999e1851a0",
   "metadata": {},
   "outputs": [],
   "source": [
    "path.append(scripts_dir)\n",
    "from connect import Neo4jConnection"
   ]
  },
  {
   "cell_type": "markdown",
   "id": "3d220047-dfec-4517-8994-3725e441c515",
   "metadata": {},
   "source": [
    "##### Load data"
   ]
  },
  {
   "cell_type": "code",
   "execution_count": 4,
   "id": "4c303e80-ad7d-46a2-b7a5-3f4514d0774f",
   "metadata": {},
   "outputs": [
    {
     "data": {
      "text/html": [
       "<div>\n",
       "<style scoped>\n",
       "    .dataframe tbody tr th:only-of-type {\n",
       "        vertical-align: middle;\n",
       "    }\n",
       "\n",
       "    .dataframe tbody tr th {\n",
       "        vertical-align: top;\n",
       "    }\n",
       "\n",
       "    .dataframe thead th {\n",
       "        text-align: right;\n",
       "    }\n",
       "</style>\n",
       "<table border=\"1\" class=\"dataframe\">\n",
       "  <thead>\n",
       "    <tr style=\"text-align: right;\">\n",
       "      <th></th>\n",
       "      <th>Authors</th>\n",
       "      <th>Author(s) ID</th>\n",
       "      <th>Title</th>\n",
       "      <th>Year</th>\n",
       "      <th>Source title</th>\n",
       "      <th>Volume</th>\n",
       "      <th>Issue</th>\n",
       "      <th>Art. No.</th>\n",
       "      <th>Page start</th>\n",
       "      <th>Page end</th>\n",
       "      <th>...</th>\n",
       "      <th>Affiliations</th>\n",
       "      <th>Authors with affiliations</th>\n",
       "      <th>Abstract</th>\n",
       "      <th>Author Keywords</th>\n",
       "      <th>Index Keywords</th>\n",
       "      <th>Document Type</th>\n",
       "      <th>Publication Stage</th>\n",
       "      <th>Access Type</th>\n",
       "      <th>Source</th>\n",
       "      <th>EID</th>\n",
       "    </tr>\n",
       "  </thead>\n",
       "  <tbody>\n",
       "    <tr>\n",
       "      <th>0</th>\n",
       "      <td>Gautam A., Crandall J.W., Goodrich M.A.</td>\n",
       "      <td>57218202833;7004904337;7005513246;</td>\n",
       "      <td>Self-assessment of Proficiency of Intelligent ...</td>\n",
       "      <td>2021</td>\n",
       "      <td>Advances in Intelligent Systems and Computing</td>\n",
       "      <td>1210 AISC</td>\n",
       "      <td>NaN</td>\n",
       "      <td>NaN</td>\n",
       "      <td>108</td>\n",
       "      <td>113</td>\n",
       "      <td>...</td>\n",
       "      <td>Computer Science Department, Brigham Young Uni...</td>\n",
       "      <td>Gautam, A., Computer Science Department, Brigh...</td>\n",
       "      <td>Autonomous systems, although capable of perfor...</td>\n",
       "      <td>Environment; Goal(s); Intelligent agents; Prof...</td>\n",
       "      <td>Drones; Human engineering; Intelligent systems...</td>\n",
       "      <td>Conference Paper</td>\n",
       "      <td>Final</td>\n",
       "      <td>NaN</td>\n",
       "      <td>Scopus</td>\n",
       "      <td>2-s2.0-85088238482</td>\n",
       "    </tr>\n",
       "    <tr>\n",
       "      <th>1</th>\n",
       "      <td>de Moura Oliveira P.B., Hedengren J.D., Boaven...</td>\n",
       "      <td>6508306234;9277159100;6507358470;</td>\n",
       "      <td>Bridging theory to practice: Feedforward and c...</td>\n",
       "      <td>2021</td>\n",
       "      <td>Lecture Notes in Electrical Engineering</td>\n",
       "      <td>695 LNEE</td>\n",
       "      <td>NaN</td>\n",
       "      <td>NaN</td>\n",
       "      <td>23</td>\n",
       "      <td>32</td>\n",
       "      <td>...</td>\n",
       "      <td>INESC-TEC Technology and Science, Campus da FE...</td>\n",
       "      <td>de Moura Oliveira, P.B., INESC-TEC Technology ...</td>\n",
       "      <td>Practice is of the essence in Engineering cour...</td>\n",
       "      <td>NaN</td>\n",
       "      <td>Automation; Cascade control systems; Computati...</td>\n",
       "      <td>Conference Paper</td>\n",
       "      <td>Final</td>\n",
       "      <td>NaN</td>\n",
       "      <td>Scopus</td>\n",
       "      <td>2-s2.0-85091306533</td>\n",
       "    </tr>\n",
       "    <tr>\n",
       "      <th>2</th>\n",
       "      <td>Hajimirzaie S.M., Hotchkiss R.H.</td>\n",
       "      <td>53879700900;26642910500;</td>\n",
       "      <td>Development of sediment management guidelines ...</td>\n",
       "      <td>2020</td>\n",
       "      <td>Journal of Hydraulic Engineering</td>\n",
       "      <td>146</td>\n",
       "      <td>12</td>\n",
       "      <td>02520004</td>\n",
       "      <td>NaN</td>\n",
       "      <td>NaN</td>\n",
       "      <td>...</td>\n",
       "      <td>Task Committee Secretary and Lead Engineer, Op...</td>\n",
       "      <td>Hajimirzaie, S.M., Task Committee Secretary an...</td>\n",
       "      <td>Forum papers are thought-provoking opinion pie...</td>\n",
       "      <td>NaN</td>\n",
       "      <td>Hydraulics; Editorial board; Sediment manageme...</td>\n",
       "      <td>Review</td>\n",
       "      <td>Final</td>\n",
       "      <td>NaN</td>\n",
       "      <td>Scopus</td>\n",
       "      <td>2-s2.0-85091917202</td>\n",
       "    </tr>\n",
       "  </tbody>\n",
       "</table>\n",
       "<p>3 rows × 24 columns</p>\n",
       "</div>"
      ],
      "text/plain": [
       "                                             Authors  \\\n",
       "0            Gautam A., Crandall J.W., Goodrich M.A.   \n",
       "1  de Moura Oliveira P.B., Hedengren J.D., Boaven...   \n",
       "2                   Hajimirzaie S.M., Hotchkiss R.H.   \n",
       "\n",
       "                         Author(s) ID  \\\n",
       "0  57218202833;7004904337;7005513246;   \n",
       "1   6508306234;9277159100;6507358470;   \n",
       "2            53879700900;26642910500;   \n",
       "\n",
       "                                               Title  Year  \\\n",
       "0  Self-assessment of Proficiency of Intelligent ...  2021   \n",
       "1  Bridging theory to practice: Feedforward and c...  2021   \n",
       "2  Development of sediment management guidelines ...  2020   \n",
       "\n",
       "                                    Source title     Volume Issue   Art. No.  \\\n",
       "0  Advances in Intelligent Systems and Computing  1210 AISC   NaN        NaN   \n",
       "1        Lecture Notes in Electrical Engineering   695 LNEE   NaN        NaN   \n",
       "2               Journal of Hydraulic Engineering        146    12   02520004   \n",
       "\n",
       "  Page start Page end  ...                                       Affiliations  \\\n",
       "0        108      113  ...  Computer Science Department, Brigham Young Uni...   \n",
       "1         23       32  ...  INESC-TEC Technology and Science, Campus da FE...   \n",
       "2        NaN      NaN  ...  Task Committee Secretary and Lead Engineer, Op...   \n",
       "\n",
       "                           Authors with affiliations  \\\n",
       "0  Gautam, A., Computer Science Department, Brigh...   \n",
       "1  de Moura Oliveira, P.B., INESC-TEC Technology ...   \n",
       "2  Hajimirzaie, S.M., Task Committee Secretary an...   \n",
       "\n",
       "                                            Abstract  \\\n",
       "0  Autonomous systems, although capable of perfor...   \n",
       "1  Practice is of the essence in Engineering cour...   \n",
       "2  Forum papers are thought-provoking opinion pie...   \n",
       "\n",
       "                                     Author Keywords  \\\n",
       "0  Environment; Goal(s); Intelligent agents; Prof...   \n",
       "1                                                NaN   \n",
       "2                                                NaN   \n",
       "\n",
       "                                      Index Keywords     Document Type  \\\n",
       "0  Drones; Human engineering; Intelligent systems...  Conference Paper   \n",
       "1  Automation; Cascade control systems; Computati...  Conference Paper   \n",
       "2  Hydraulics; Editorial board; Sediment manageme...            Review   \n",
       "\n",
       "  Publication Stage Access Type  Source                 EID  \n",
       "0             Final         NaN  Scopus  2-s2.0-85088238482  \n",
       "1             Final         NaN  Scopus  2-s2.0-85091306533  \n",
       "2             Final         NaN  Scopus  2-s2.0-85091917202  \n",
       "\n",
       "[3 rows x 24 columns]"
      ]
     },
     "execution_count": 4,
     "metadata": {},
     "output_type": "execute_result"
    }
   ],
   "source": [
    "df = pd.read_csv(data_file)\n",
    "df.head(3)"
   ]
  },
  {
   "cell_type": "code",
   "execution_count": 7,
   "id": "571a19ab-6263-4cb4-b4d4-0ec2384ae5a3",
   "metadata": {},
   "outputs": [],
   "source": [
    "# profile = ProfileReport(df, title=\"Publications\")\n",
    "# profile.to_widgets()"
   ]
  },
  {
   "cell_type": "code",
   "execution_count": 5,
   "id": "2bbea11d-84fa-4cba-97e5-bde86b932dc5",
   "metadata": {},
   "outputs": [],
   "source": [
    "# database = \"sdm\"\n",
    "# driver = Neo4jConnection(uri=\"bolt://localhost:7687\", user=None, pwd=None, database=database)\n",
    "\n",
    "# result = driver.query(\"\"\"\n",
    "# Match (n) return n\n",
    "# \"\"\")\n",
    "\n",
    "# r = result.single()\n",
    "\n",
    "# list(result)"
   ]
  },
  {
   "cell_type": "code",
   "execution_count": 6,
   "id": "71d19db2-0153-4936-bede-cda0baf7995c",
   "metadata": {},
   "outputs": [
    {
     "data": {
      "text/plain": [
       "['Authors',\n",
       " 'Author(s) ID',\n",
       " 'Title',\n",
       " 'Year',\n",
       " 'Source title',\n",
       " 'Volume',\n",
       " 'Issue',\n",
       " 'Art. No.',\n",
       " 'Page start',\n",
       " 'Page end',\n",
       " 'Page count',\n",
       " 'Cited by',\n",
       " 'DOI',\n",
       " 'Link',\n",
       " 'Affiliations',\n",
       " 'Authors with affiliations',\n",
       " 'Abstract',\n",
       " 'Author Keywords',\n",
       " 'Index Keywords',\n",
       " 'Document Type',\n",
       " 'Publication Stage',\n",
       " 'Access Type',\n",
       " 'Source',\n",
       " 'EID']"
      ]
     },
     "execution_count": 6,
     "metadata": {},
     "output_type": "execute_result"
    }
   ],
   "source": [
    "df.columns.to_list()"
   ]
  },
  {
   "cell_type": "code",
   "execution_count": 7,
   "id": "5bd59edd-2f5c-459d-a6f5-939b0cd6bc7f",
   "metadata": {},
   "outputs": [],
   "source": [
    "journals_cols = ['Year', 'Source title', 'Volume']\n",
    "keyword_cols = ['Author Keywords', 'Index Keywords']\n",
    "affiliation_cols = ['Affiliations']\n",
    "authors_cols = ['Authors', 'Author(s) ID', 'Affiliations', 'Authors with affiliations', 'Author Keywords']\n",
    "document_cols = ['Author(s) ID', 'Title', 'Source title', 'Art. No.', 'Cited by', 'DOI', 'Abstract', 'Index Keywords', 'Document Type']"
   ]
  },
  {
   "cell_type": "markdown",
   "id": "9b84cb0d-73d4-478c-be51-09b254c1b20d",
   "metadata": {},
   "source": [
    "#### Journals"
   ]
  },
  {
   "cell_type": "code",
   "execution_count": 8,
   "id": "7f77bc58-a72b-467b-8057-97b3dee5a547",
   "metadata": {},
   "outputs": [],
   "source": [
    "journals_df = df[journals_cols]"
   ]
  },
  {
   "cell_type": "code",
   "execution_count": 11,
   "id": "51c9149b-a75e-461c-b9af-ab3f57a2d1d6",
   "metadata": {},
   "outputs": [
    {
     "data": {
      "text/plain": [
       "Year             int64\n",
       "Source title    object\n",
       "Volume          object\n",
       "dtype: object"
      ]
     },
     "execution_count": 11,
     "metadata": {},
     "output_type": "execute_result"
    }
   ],
   "source": [
    "journals_df.dtypes"
   ]
  },
  {
   "cell_type": "code",
   "execution_count": 12,
   "id": "1f147b3d-9ae9-4035-bd9a-ce72120d03b9",
   "metadata": {},
   "outputs": [
    {
     "data": {
      "text/html": [
       "<div>\n",
       "<style scoped>\n",
       "    .dataframe tbody tr th:only-of-type {\n",
       "        vertical-align: middle;\n",
       "    }\n",
       "\n",
       "    .dataframe tbody tr th {\n",
       "        vertical-align: top;\n",
       "    }\n",
       "\n",
       "    .dataframe thead th {\n",
       "        text-align: right;\n",
       "    }\n",
       "</style>\n",
       "<table border=\"1\" class=\"dataframe\">\n",
       "  <thead>\n",
       "    <tr style=\"text-align: right;\">\n",
       "      <th></th>\n",
       "      <th>Year</th>\n",
       "      <th>Source title</th>\n",
       "      <th>Volume</th>\n",
       "    </tr>\n",
       "  </thead>\n",
       "  <tbody>\n",
       "    <tr>\n",
       "      <th>0</th>\n",
       "      <td>2021</td>\n",
       "      <td>Advances in Intelligent Systems and Computing</td>\n",
       "      <td>1210 AISC</td>\n",
       "    </tr>\n",
       "    <tr>\n",
       "      <th>1</th>\n",
       "      <td>2021</td>\n",
       "      <td>Lecture Notes in Electrical Engineering</td>\n",
       "      <td>695 LNEE</td>\n",
       "    </tr>\n",
       "    <tr>\n",
       "      <th>2</th>\n",
       "      <td>2020</td>\n",
       "      <td>Journal of Hydraulic Engineering</td>\n",
       "      <td>146</td>\n",
       "    </tr>\n",
       "    <tr>\n",
       "      <th>3</th>\n",
       "      <td>2020</td>\n",
       "      <td>Journal of Computing and Information Science i...</td>\n",
       "      <td>20</td>\n",
       "    </tr>\n",
       "    <tr>\n",
       "      <th>4</th>\n",
       "      <td>2020</td>\n",
       "      <td>Telematics and Informatics</td>\n",
       "      <td>55</td>\n",
       "    </tr>\n",
       "  </tbody>\n",
       "</table>\n",
       "</div>"
      ],
      "text/plain": [
       "   Year                                       Source title     Volume\n",
       "0  2021      Advances in Intelligent Systems and Computing  1210 AISC\n",
       "1  2021            Lecture Notes in Electrical Engineering   695 LNEE\n",
       "2  2020                   Journal of Hydraulic Engineering        146\n",
       "3  2020  Journal of Computing and Information Science i...         20\n",
       "4  2020                         Telematics and Informatics         55"
      ]
     },
     "execution_count": 12,
     "metadata": {},
     "output_type": "execute_result"
    }
   ],
   "source": [
    "journals_df.head()"
   ]
  },
  {
   "cell_type": "code",
   "execution_count": 21,
   "id": "98d5ced3-5977-4952-a134-2842d8e02561",
   "metadata": {},
   "outputs": [
    {
     "data": {
      "text/plain": [
       "Year             int64\n",
       "Source title    object\n",
       "Volume          object\n",
       "dtype: object"
      ]
     },
     "execution_count": 21,
     "metadata": {},
     "output_type": "execute_result"
    }
   ],
   "source": [
    "journals_df[['Source title', 'Volume']] = journals_df[['Source title', 'Volume']].astype(str)\n",
    "journals_df.dtypes"
   ]
  },
  {
   "cell_type": "code",
   "execution_count": null,
   "id": "caf0da7f-53d6-4c96-a597-0292f8d084df",
   "metadata": {},
   "outputs": [],
   "source": []
  }
 ],
 "metadata": {
  "kernelspec": {
   "display_name": "Py SDM",
   "language": "python",
   "name": "sdm"
  },
  "language_info": {
   "codemirror_mode": {
    "name": "ipython",
    "version": 3
   },
   "file_extension": ".py",
   "mimetype": "text/x-python",
   "name": "python",
   "nbconvert_exporter": "python",
   "pygments_lexer": "ipython3",
   "version": "3.8.12"
  }
 },
 "nbformat": 4,
 "nbformat_minor": 5
}
