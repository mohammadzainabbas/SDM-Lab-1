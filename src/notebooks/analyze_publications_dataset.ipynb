{
 "cells": [
  {
   "cell_type": "code",
   "execution_count": 20,
   "id": "77aa5f9e-ca15-44e1-85c7-5159a0b420e9",
   "metadata": {},
   "outputs": [],
   "source": [
    "import pandas as pd\n",
    "from os import getcwd, listdir, makedirs\n",
    "from os.path import join, isfile, exists, abspath, pardir\n",
    "from sys import path\n",
    "import re\n",
    "# from pandas_profiling import ProfileReport"
   ]
  },
  {
   "cell_type": "markdown",
   "id": "58fc2470-e684-4ff9-a9db-3c7dea9b4c4e",
   "metadata": {},
   "source": [
    "##### Configs"
   ]
  },
  {
   "cell_type": "code",
   "execution_count": 21,
   "id": "e3ea4991-7a09-4bd7-8de9-0722eaa0ae82",
   "metadata": {},
   "outputs": [],
   "source": [
    "parent_dir = abspath(join(join(getcwd(), pardir), pardir))\n",
    "data_dir = join(parent_dir, \"data\")\n",
    "scripts_dir = join(parent_dir, \"src\", \"scripts\")\n",
    "data_file = join(data_dir, \"publications.csv\")"
   ]
  },
  {
   "cell_type": "code",
   "execution_count": 22,
   "id": "d639efe6-c614-4262-abde-17999e1851a0",
   "metadata": {},
   "outputs": [],
   "source": [
    "path.append(scripts_dir)\n",
    "from connect import Neo4jConnection"
   ]
  },
  {
   "cell_type": "markdown",
   "id": "3d220047-dfec-4517-8994-3725e441c515",
   "metadata": {},
   "source": [
    "##### Load data"
   ]
  },
  {
   "cell_type": "code",
   "execution_count": 4,
   "id": "4c303e80-ad7d-46a2-b7a5-3f4514d0774f",
   "metadata": {},
   "outputs": [
    {
     "data": {
      "text/html": [
       "<div>\n",
       "<style scoped>\n",
       "    .dataframe tbody tr th:only-of-type {\n",
       "        vertical-align: middle;\n",
       "    }\n",
       "\n",
       "    .dataframe tbody tr th {\n",
       "        vertical-align: top;\n",
       "    }\n",
       "\n",
       "    .dataframe thead th {\n",
       "        text-align: right;\n",
       "    }\n",
       "</style>\n",
       "<table border=\"1\" class=\"dataframe\">\n",
       "  <thead>\n",
       "    <tr style=\"text-align: right;\">\n",
       "      <th></th>\n",
       "      <th>Authors</th>\n",
       "      <th>Author(s) ID</th>\n",
       "      <th>Title</th>\n",
       "      <th>Year</th>\n",
       "      <th>Source title</th>\n",
       "      <th>Volume</th>\n",
       "      <th>Issue</th>\n",
       "      <th>Art. No.</th>\n",
       "      <th>Page start</th>\n",
       "      <th>Page end</th>\n",
       "      <th>...</th>\n",
       "      <th>Affiliations</th>\n",
       "      <th>Authors with affiliations</th>\n",
       "      <th>Abstract</th>\n",
       "      <th>Author Keywords</th>\n",
       "      <th>Index Keywords</th>\n",
       "      <th>Document Type</th>\n",
       "      <th>Publication Stage</th>\n",
       "      <th>Access Type</th>\n",
       "      <th>Source</th>\n",
       "      <th>EID</th>\n",
       "    </tr>\n",
       "  </thead>\n",
       "  <tbody>\n",
       "    <tr>\n",
       "      <th>0</th>\n",
       "      <td>Gautam A., Crandall J.W., Goodrich M.A.</td>\n",
       "      <td>57218202833;7004904337;7005513246;</td>\n",
       "      <td>Self-assessment of Proficiency of Intelligent ...</td>\n",
       "      <td>2021</td>\n",
       "      <td>Advances in Intelligent Systems and Computing</td>\n",
       "      <td>1210 AISC</td>\n",
       "      <td>NaN</td>\n",
       "      <td>NaN</td>\n",
       "      <td>108</td>\n",
       "      <td>113</td>\n",
       "      <td>...</td>\n",
       "      <td>Computer Science Department, Brigham Young Uni...</td>\n",
       "      <td>Gautam, A., Computer Science Department, Brigh...</td>\n",
       "      <td>Autonomous systems, although capable of perfor...</td>\n",
       "      <td>Environment; Goal(s); Intelligent agents; Prof...</td>\n",
       "      <td>Drones; Human engineering; Intelligent systems...</td>\n",
       "      <td>Conference Paper</td>\n",
       "      <td>Final</td>\n",
       "      <td>NaN</td>\n",
       "      <td>Scopus</td>\n",
       "      <td>2-s2.0-85088238482</td>\n",
       "    </tr>\n",
       "    <tr>\n",
       "      <th>1</th>\n",
       "      <td>de Moura Oliveira P.B., Hedengren J.D., Boaven...</td>\n",
       "      <td>6508306234;9277159100;6507358470;</td>\n",
       "      <td>Bridging theory to practice: Feedforward and c...</td>\n",
       "      <td>2021</td>\n",
       "      <td>Lecture Notes in Electrical Engineering</td>\n",
       "      <td>695 LNEE</td>\n",
       "      <td>NaN</td>\n",
       "      <td>NaN</td>\n",
       "      <td>23</td>\n",
       "      <td>32</td>\n",
       "      <td>...</td>\n",
       "      <td>INESC-TEC Technology and Science, Campus da FE...</td>\n",
       "      <td>de Moura Oliveira, P.B., INESC-TEC Technology ...</td>\n",
       "      <td>Practice is of the essence in Engineering cour...</td>\n",
       "      <td>NaN</td>\n",
       "      <td>Automation; Cascade control systems; Computati...</td>\n",
       "      <td>Conference Paper</td>\n",
       "      <td>Final</td>\n",
       "      <td>NaN</td>\n",
       "      <td>Scopus</td>\n",
       "      <td>2-s2.0-85091306533</td>\n",
       "    </tr>\n",
       "    <tr>\n",
       "      <th>2</th>\n",
       "      <td>Hajimirzaie S.M., Hotchkiss R.H.</td>\n",
       "      <td>53879700900;26642910500;</td>\n",
       "      <td>Development of sediment management guidelines ...</td>\n",
       "      <td>2020</td>\n",
       "      <td>Journal of Hydraulic Engineering</td>\n",
       "      <td>146</td>\n",
       "      <td>12</td>\n",
       "      <td>02520004</td>\n",
       "      <td>NaN</td>\n",
       "      <td>NaN</td>\n",
       "      <td>...</td>\n",
       "      <td>Task Committee Secretary and Lead Engineer, Op...</td>\n",
       "      <td>Hajimirzaie, S.M., Task Committee Secretary an...</td>\n",
       "      <td>Forum papers are thought-provoking opinion pie...</td>\n",
       "      <td>NaN</td>\n",
       "      <td>Hydraulics; Editorial board; Sediment manageme...</td>\n",
       "      <td>Review</td>\n",
       "      <td>Final</td>\n",
       "      <td>NaN</td>\n",
       "      <td>Scopus</td>\n",
       "      <td>2-s2.0-85091917202</td>\n",
       "    </tr>\n",
       "  </tbody>\n",
       "</table>\n",
       "<p>3 rows × 24 columns</p>\n",
       "</div>"
      ],
      "text/plain": [
       "                                             Authors  \\\n",
       "0            Gautam A., Crandall J.W., Goodrich M.A.   \n",
       "1  de Moura Oliveira P.B., Hedengren J.D., Boaven...   \n",
       "2                   Hajimirzaie S.M., Hotchkiss R.H.   \n",
       "\n",
       "                         Author(s) ID  \\\n",
       "0  57218202833;7004904337;7005513246;   \n",
       "1   6508306234;9277159100;6507358470;   \n",
       "2            53879700900;26642910500;   \n",
       "\n",
       "                                               Title  Year  \\\n",
       "0  Self-assessment of Proficiency of Intelligent ...  2021   \n",
       "1  Bridging theory to practice: Feedforward and c...  2021   \n",
       "2  Development of sediment management guidelines ...  2020   \n",
       "\n",
       "                                    Source title     Volume Issue   Art. No.  \\\n",
       "0  Advances in Intelligent Systems and Computing  1210 AISC   NaN        NaN   \n",
       "1        Lecture Notes in Electrical Engineering   695 LNEE   NaN        NaN   \n",
       "2               Journal of Hydraulic Engineering        146    12   02520004   \n",
       "\n",
       "  Page start Page end  ...                                       Affiliations  \\\n",
       "0        108      113  ...  Computer Science Department, Brigham Young Uni...   \n",
       "1         23       32  ...  INESC-TEC Technology and Science, Campus da FE...   \n",
       "2        NaN      NaN  ...  Task Committee Secretary and Lead Engineer, Op...   \n",
       "\n",
       "                           Authors with affiliations  \\\n",
       "0  Gautam, A., Computer Science Department, Brigh...   \n",
       "1  de Moura Oliveira, P.B., INESC-TEC Technology ...   \n",
       "2  Hajimirzaie, S.M., Task Committee Secretary an...   \n",
       "\n",
       "                                            Abstract  \\\n",
       "0  Autonomous systems, although capable of perfor...   \n",
       "1  Practice is of the essence in Engineering cour...   \n",
       "2  Forum papers are thought-provoking opinion pie...   \n",
       "\n",
       "                                     Author Keywords  \\\n",
       "0  Environment; Goal(s); Intelligent agents; Prof...   \n",
       "1                                                NaN   \n",
       "2                                                NaN   \n",
       "\n",
       "                                      Index Keywords     Document Type  \\\n",
       "0  Drones; Human engineering; Intelligent systems...  Conference Paper   \n",
       "1  Automation; Cascade control systems; Computati...  Conference Paper   \n",
       "2  Hydraulics; Editorial board; Sediment manageme...            Review   \n",
       "\n",
       "  Publication Stage Access Type  Source                 EID  \n",
       "0             Final         NaN  Scopus  2-s2.0-85088238482  \n",
       "1             Final         NaN  Scopus  2-s2.0-85091306533  \n",
       "2             Final         NaN  Scopus  2-s2.0-85091917202  \n",
       "\n",
       "[3 rows x 24 columns]"
      ]
     },
     "execution_count": 4,
     "metadata": {},
     "output_type": "execute_result"
    }
   ],
   "source": [
    "df = pd.read_csv(data_file)\n",
    "df.head(3)"
   ]
  },
  {
   "cell_type": "code",
   "execution_count": 5,
   "id": "571a19ab-6263-4cb4-b4d4-0ec2384ae5a3",
   "metadata": {},
   "outputs": [],
   "source": [
    "# profile = ProfileReport(df, title=\"Publications\")\n",
    "# profile.to_widgets()"
   ]
  },
  {
   "cell_type": "code",
   "execution_count": 6,
   "id": "2bbea11d-84fa-4cba-97e5-bde86b932dc5",
   "metadata": {},
   "outputs": [],
   "source": [
    "# database = \"sdm\"\n",
    "# driver = Neo4jConnection(uri=\"bolt://localhost:7687\", user=None, pwd=None, database=database)\n",
    "\n",
    "# result = driver.query(\"\"\"\n",
    "# Match (n) return n\n",
    "# \"\"\")\n",
    "\n",
    "# r = result.single()\n",
    "\n",
    "# list(result)"
   ]
  },
  {
   "cell_type": "code",
   "execution_count": 7,
   "id": "71d19db2-0153-4936-bede-cda0baf7995c",
   "metadata": {},
   "outputs": [
    {
     "data": {
      "text/plain": [
       "['Authors',\n",
       " 'Author(s) ID',\n",
       " 'Title',\n",
       " 'Year',\n",
       " 'Source title',\n",
       " 'Volume',\n",
       " 'Issue',\n",
       " 'Art. No.',\n",
       " 'Page start',\n",
       " 'Page end',\n",
       " 'Page count',\n",
       " 'Cited by',\n",
       " 'DOI',\n",
       " 'Link',\n",
       " 'Affiliations',\n",
       " 'Authors with affiliations',\n",
       " 'Abstract',\n",
       " 'Author Keywords',\n",
       " 'Index Keywords',\n",
       " 'Document Type',\n",
       " 'Publication Stage',\n",
       " 'Access Type',\n",
       " 'Source',\n",
       " 'EID']"
      ]
     },
     "execution_count": 7,
     "metadata": {},
     "output_type": "execute_result"
    }
   ],
   "source": [
    "df.columns.to_list()"
   ]
  },
  {
   "cell_type": "code",
   "execution_count": 44,
   "id": "5bd59edd-2f5c-459d-a6f5-939b0cd6bc7f",
   "metadata": {},
   "outputs": [],
   "source": [
    "journals_cols = ['Year', 'Source title', 'Volume']\n",
    "keyword_cols = ['Author Keywords', 'Index Keywords']\n",
    "affiliation_cols = ['Affiliations']\n",
    "authors_cols = ['Authors', 'Author(s) ID', 'Affiliations', 'Authors with affiliations', 'Author Keywords']\n",
    "document_cols = ['Author(s) ID', 'Title', 'Source title', 'Art. No.', 'Cited by', 'DOI', 'Abstract', 'Author Keywords', 'Index Keywords', 'Document Type']"
   ]
  },
  {
   "cell_type": "code",
   "execution_count": 9,
   "id": "f859d3e3-6177-43c2-bb32-56dc3de00b5d",
   "metadata": {},
   "outputs": [],
   "source": [
    "def cast_columns(df, cols, __type):\n",
    "    df[cols] = df[cols].astype(__type)\n",
    "    return df"
   ]
  },
  {
   "cell_type": "markdown",
   "id": "9b84cb0d-73d4-478c-be51-09b254c1b20d",
   "metadata": {},
   "source": [
    "#### Journals"
   ]
  },
  {
   "cell_type": "code",
   "execution_count": 10,
   "id": "7f77bc58-a72b-467b-8057-97b3dee5a547",
   "metadata": {},
   "outputs": [],
   "source": [
    "journals_df = df[journals_cols]"
   ]
  },
  {
   "cell_type": "code",
   "execution_count": 11,
   "id": "51c9149b-a75e-461c-b9af-ab3f57a2d1d6",
   "metadata": {},
   "outputs": [
    {
     "data": {
      "text/plain": [
       "Year             int64\n",
       "Source title    object\n",
       "Volume          object\n",
       "dtype: object"
      ]
     },
     "execution_count": 11,
     "metadata": {},
     "output_type": "execute_result"
    }
   ],
   "source": [
    "journals_df.dtypes"
   ]
  },
  {
   "cell_type": "code",
   "execution_count": 12,
   "id": "1f147b3d-9ae9-4035-bd9a-ce72120d03b9",
   "metadata": {},
   "outputs": [
    {
     "data": {
      "text/html": [
       "<div>\n",
       "<style scoped>\n",
       "    .dataframe tbody tr th:only-of-type {\n",
       "        vertical-align: middle;\n",
       "    }\n",
       "\n",
       "    .dataframe tbody tr th {\n",
       "        vertical-align: top;\n",
       "    }\n",
       "\n",
       "    .dataframe thead th {\n",
       "        text-align: right;\n",
       "    }\n",
       "</style>\n",
       "<table border=\"1\" class=\"dataframe\">\n",
       "  <thead>\n",
       "    <tr style=\"text-align: right;\">\n",
       "      <th></th>\n",
       "      <th>Year</th>\n",
       "      <th>Source title</th>\n",
       "      <th>Volume</th>\n",
       "    </tr>\n",
       "  </thead>\n",
       "  <tbody>\n",
       "    <tr>\n",
       "      <th>0</th>\n",
       "      <td>2021</td>\n",
       "      <td>Advances in Intelligent Systems and Computing</td>\n",
       "      <td>1210 AISC</td>\n",
       "    </tr>\n",
       "    <tr>\n",
       "      <th>1</th>\n",
       "      <td>2021</td>\n",
       "      <td>Lecture Notes in Electrical Engineering</td>\n",
       "      <td>695 LNEE</td>\n",
       "    </tr>\n",
       "    <tr>\n",
       "      <th>2</th>\n",
       "      <td>2020</td>\n",
       "      <td>Journal of Hydraulic Engineering</td>\n",
       "      <td>146</td>\n",
       "    </tr>\n",
       "    <tr>\n",
       "      <th>3</th>\n",
       "      <td>2020</td>\n",
       "      <td>Journal of Computing and Information Science i...</td>\n",
       "      <td>20</td>\n",
       "    </tr>\n",
       "    <tr>\n",
       "      <th>4</th>\n",
       "      <td>2020</td>\n",
       "      <td>Telematics and Informatics</td>\n",
       "      <td>55</td>\n",
       "    </tr>\n",
       "  </tbody>\n",
       "</table>\n",
       "</div>"
      ],
      "text/plain": [
       "   Year                                       Source title     Volume\n",
       "0  2021      Advances in Intelligent Systems and Computing  1210 AISC\n",
       "1  2021            Lecture Notes in Electrical Engineering   695 LNEE\n",
       "2  2020                   Journal of Hydraulic Engineering        146\n",
       "3  2020  Journal of Computing and Information Science i...         20\n",
       "4  2020                         Telematics and Informatics         55"
      ]
     },
     "execution_count": 12,
     "metadata": {},
     "output_type": "execute_result"
    }
   ],
   "source": [
    "journals_df.head()"
   ]
  },
  {
   "cell_type": "code",
   "execution_count": 13,
   "id": "98d5ced3-5977-4952-a134-2842d8e02561",
   "metadata": {},
   "outputs": [
    {
     "name": "stderr",
     "output_type": "stream",
     "text": [
      "/var/folders/mm/5vsgc5194kqf1xnmgq439jww0000gn/T/ipykernel_28756/4139907851.py:2: SettingWithCopyWarning: \n",
      "A value is trying to be set on a copy of a slice from a DataFrame.\n",
      "Try using .loc[row_indexer,col_indexer] = value instead\n",
      "\n",
      "See the caveats in the documentation: https://pandas.pydata.org/pandas-docs/stable/user_guide/indexing.html#returning-a-view-versus-a-copy\n",
      "  df[cols] = df[cols].astype(__type)\n",
      "/var/folders/mm/5vsgc5194kqf1xnmgq439jww0000gn/T/ipykernel_28756/3572199885.py:3: SettingWithCopyWarning: \n",
      "A value is trying to be set on a copy of a slice from a DataFrame\n",
      "\n",
      "See the caveats in the documentation: https://pandas.pydata.org/pandas-docs/stable/user_guide/indexing.html#returning-a-view-versus-a-copy\n",
      "  journals_df.rename(columns={'Year': 'year', 'Source title': 'name', 'Volume': 'volume'}, inplace=True)\n"
     ]
    },
    {
     "data": {
      "text/plain": [
       "year       int64\n",
       "name      string\n",
       "volume    string\n",
       "dtype: object"
      ]
     },
     "execution_count": 13,
     "metadata": {},
     "output_type": "execute_result"
    }
   ],
   "source": [
    "# journals_df[['Source title', 'Volume']] = journals_df[['Source title', 'Volume']].astype(pd.StringDtype())\n",
    "journals_df = cast_columns(journals_df, ['Source title', 'Volume'], pd.StringDtype())\n",
    "journals_df.rename(columns={'Year': 'year', 'Source title': 'name', 'Volume': 'volume'}, inplace=True)\n",
    "journals_df.dtypes"
   ]
  },
  {
   "cell_type": "code",
   "execution_count": 14,
   "id": "ce8b66ec-29b8-4227-86ac-a1f67cd49181",
   "metadata": {},
   "outputs": [
    {
     "data": {
      "text/html": [
       "<div>\n",
       "<style scoped>\n",
       "    .dataframe tbody tr th:only-of-type {\n",
       "        vertical-align: middle;\n",
       "    }\n",
       "\n",
       "    .dataframe tbody tr th {\n",
       "        vertical-align: top;\n",
       "    }\n",
       "\n",
       "    .dataframe thead th {\n",
       "        text-align: right;\n",
       "    }\n",
       "</style>\n",
       "<table border=\"1\" class=\"dataframe\">\n",
       "  <thead>\n",
       "    <tr style=\"text-align: right;\">\n",
       "      <th></th>\n",
       "      <th>year</th>\n",
       "      <th>name</th>\n",
       "      <th>volume</th>\n",
       "    </tr>\n",
       "  </thead>\n",
       "  <tbody>\n",
       "    <tr>\n",
       "      <th>0</th>\n",
       "      <td>2021</td>\n",
       "      <td>Advances in Intelligent Systems and Computing</td>\n",
       "      <td>1210 AISC</td>\n",
       "    </tr>\n",
       "    <tr>\n",
       "      <th>1</th>\n",
       "      <td>2021</td>\n",
       "      <td>Lecture Notes in Electrical Engineering</td>\n",
       "      <td>695 LNEE</td>\n",
       "    </tr>\n",
       "    <tr>\n",
       "      <th>2</th>\n",
       "      <td>2020</td>\n",
       "      <td>Journal of Hydraulic Engineering</td>\n",
       "      <td>146</td>\n",
       "    </tr>\n",
       "    <tr>\n",
       "      <th>3</th>\n",
       "      <td>2020</td>\n",
       "      <td>Journal of Computing and Information Science i...</td>\n",
       "      <td>20</td>\n",
       "    </tr>\n",
       "    <tr>\n",
       "      <th>4</th>\n",
       "      <td>2020</td>\n",
       "      <td>Telematics and Informatics</td>\n",
       "      <td>55</td>\n",
       "    </tr>\n",
       "  </tbody>\n",
       "</table>\n",
       "</div>"
      ],
      "text/plain": [
       "   year                                               name     volume\n",
       "0  2021      Advances in Intelligent Systems and Computing  1210 AISC\n",
       "1  2021            Lecture Notes in Electrical Engineering   695 LNEE\n",
       "2  2020                   Journal of Hydraulic Engineering        146\n",
       "3  2020  Journal of Computing and Information Science i...         20\n",
       "4  2020                         Telematics and Informatics         55"
      ]
     },
     "execution_count": 14,
     "metadata": {},
     "output_type": "execute_result"
    }
   ],
   "source": [
    "journals_df.head()"
   ]
  },
  {
   "cell_type": "code",
   "execution_count": 15,
   "id": "5614a65d-9a35-45b1-a730-4145bfefd8ae",
   "metadata": {},
   "outputs": [
    {
     "data": {
      "text/plain": [
       "year      False\n",
       "name      False\n",
       "volume     True\n",
       "dtype: bool"
      ]
     },
     "execution_count": 15,
     "metadata": {},
     "output_type": "execute_result"
    }
   ],
   "source": [
    "journals_df.isnull().any()"
   ]
  },
  {
   "cell_type": "code",
   "execution_count": 16,
   "id": "e4606115-2952-48ca-9a82-d7fc90ccbcf0",
   "metadata": {},
   "outputs": [
    {
     "data": {
      "text/html": [
       "<div>\n",
       "<style scoped>\n",
       "    .dataframe tbody tr th:only-of-type {\n",
       "        vertical-align: middle;\n",
       "    }\n",
       "\n",
       "    .dataframe tbody tr th {\n",
       "        vertical-align: top;\n",
       "    }\n",
       "\n",
       "    .dataframe thead th {\n",
       "        text-align: right;\n",
       "    }\n",
       "</style>\n",
       "<table border=\"1\" class=\"dataframe\">\n",
       "  <thead>\n",
       "    <tr style=\"text-align: right;\">\n",
       "      <th></th>\n",
       "      <th>year</th>\n",
       "      <th>name</th>\n",
       "      <th>volume</th>\n",
       "    </tr>\n",
       "  </thead>\n",
       "  <tbody>\n",
       "    <tr>\n",
       "      <th>22</th>\n",
       "      <td>2020</td>\n",
       "      <td>Proceedings - 2020 IEEE 21st International Con...</td>\n",
       "      <td>&lt;NA&gt;</td>\n",
       "    </tr>\n",
       "    <tr>\n",
       "      <th>50</th>\n",
       "      <td>2020</td>\n",
       "      <td>Proceedings - 2020 IEEE 34th International Par...</td>\n",
       "      <td>&lt;NA&gt;</td>\n",
       "    </tr>\n",
       "    <tr>\n",
       "      <th>95</th>\n",
       "      <td>2020</td>\n",
       "      <td>Journal of Composite Materials</td>\n",
       "      <td>&lt;NA&gt;</td>\n",
       "    </tr>\n",
       "    <tr>\n",
       "      <th>96</th>\n",
       "      <td>2020</td>\n",
       "      <td>Computing in Science and Engineering</td>\n",
       "      <td>&lt;NA&gt;</td>\n",
       "    </tr>\n",
       "    <tr>\n",
       "      <th>101</th>\n",
       "      <td>2020</td>\n",
       "      <td>International Journal of Robotics Research</td>\n",
       "      <td>&lt;NA&gt;</td>\n",
       "    </tr>\n",
       "  </tbody>\n",
       "</table>\n",
       "</div>"
      ],
      "text/plain": [
       "     year                                               name volume\n",
       "22   2020  Proceedings - 2020 IEEE 21st International Con...   <NA>\n",
       "50   2020  Proceedings - 2020 IEEE 34th International Par...   <NA>\n",
       "95   2020                     Journal of Composite Materials   <NA>\n",
       "96   2020               Computing in Science and Engineering   <NA>\n",
       "101  2020         International Journal of Robotics Research   <NA>"
      ]
     },
     "execution_count": 16,
     "metadata": {},
     "output_type": "execute_result"
    }
   ],
   "source": [
    "journals_df[journals_df['volume'].isnull()].head()"
   ]
  },
  {
   "cell_type": "code",
   "execution_count": 17,
   "id": "e3f7a069-1200-47af-8bd6-2b0f2f6866e4",
   "metadata": {},
   "outputs": [],
   "source": [
    "# journals_df.to_csv(join(data_dir, \"journals.csv\"), index=False)"
   ]
  },
  {
   "cell_type": "markdown",
   "id": "2fb02e75-5a35-4d77-ac06-67734301712d",
   "metadata": {},
   "source": [
    "##### Keywords"
   ]
  },
  {
   "cell_type": "code",
   "execution_count": 18,
   "id": "616a2951-698f-4a91-815a-8c62a372f4d0",
   "metadata": {},
   "outputs": [
    {
     "data": {
      "text/plain": [
       "Author Keywords    object\n",
       "Index Keywords     object\n",
       "dtype: object"
      ]
     },
     "execution_count": 18,
     "metadata": {},
     "output_type": "execute_result"
    }
   ],
   "source": [
    "keywords_df = df[keyword_cols]\n",
    "keywords_df.dtypes"
   ]
  },
  {
   "cell_type": "code",
   "execution_count": 19,
   "id": "356cfd5e-d4b4-4b07-ba97-44bf1d13e83b",
   "metadata": {},
   "outputs": [
    {
     "name": "stderr",
     "output_type": "stream",
     "text": [
      "/var/folders/mm/5vsgc5194kqf1xnmgq439jww0000gn/T/ipykernel_28756/4139907851.py:2: SettingWithCopyWarning: \n",
      "A value is trying to be set on a copy of a slice from a DataFrame.\n",
      "Try using .loc[row_indexer,col_indexer] = value instead\n",
      "\n",
      "See the caveats in the documentation: https://pandas.pydata.org/pandas-docs/stable/user_guide/indexing.html#returning-a-view-versus-a-copy\n",
      "  df[cols] = df[cols].astype(__type)\n"
     ]
    },
    {
     "data": {
      "text/plain": [
       "Author Keywords    string\n",
       "Index Keywords     string\n",
       "dtype: object"
      ]
     },
     "execution_count": 19,
     "metadata": {},
     "output_type": "execute_result"
    }
   ],
   "source": [
    "keywords_df = cast_columns(keywords_df, keyword_cols, pd.StringDtype())\n",
    "keywords_df.dtypes"
   ]
  },
  {
   "cell_type": "code",
   "execution_count": 20,
   "id": "9e9974a9-a4a4-4151-92fb-10461b3a2c7f",
   "metadata": {},
   "outputs": [
    {
     "data": {
      "text/html": [
       "<div>\n",
       "<style scoped>\n",
       "    .dataframe tbody tr th:only-of-type {\n",
       "        vertical-align: middle;\n",
       "    }\n",
       "\n",
       "    .dataframe tbody tr th {\n",
       "        vertical-align: top;\n",
       "    }\n",
       "\n",
       "    .dataframe thead th {\n",
       "        text-align: right;\n",
       "    }\n",
       "</style>\n",
       "<table border=\"1\" class=\"dataframe\">\n",
       "  <thead>\n",
       "    <tr style=\"text-align: right;\">\n",
       "      <th></th>\n",
       "      <th>Author Keywords</th>\n",
       "      <th>Index Keywords</th>\n",
       "    </tr>\n",
       "  </thead>\n",
       "  <tbody>\n",
       "    <tr>\n",
       "      <th>0</th>\n",
       "      <td>Environment; Goal(s); Intelligent agents; Prof...</td>\n",
       "      <td>Drones; Human engineering; Intelligent systems...</td>\n",
       "    </tr>\n",
       "    <tr>\n",
       "      <th>1</th>\n",
       "      <td>&lt;NA&gt;</td>\n",
       "      <td>Automation; Cascade control systems; Computati...</td>\n",
       "    </tr>\n",
       "    <tr>\n",
       "      <th>2</th>\n",
       "      <td>&lt;NA&gt;</td>\n",
       "      <td>Hydraulics; Editorial board; Sediment manageme...</td>\n",
       "    </tr>\n",
       "    <tr>\n",
       "      <th>3</th>\n",
       "      <td>Computer-aided engineering; Data-driven engine...</td>\n",
       "      <td>Compressors; Data handling; Structural design;...</td>\n",
       "    </tr>\n",
       "    <tr>\n",
       "      <th>4</th>\n",
       "      <td>Dating; Emerging adults; Mobile phones; Uses a...</td>\n",
       "      <td>Entertainment; A-RINGS; External pressures; Ro...</td>\n",
       "    </tr>\n",
       "  </tbody>\n",
       "</table>\n",
       "</div>"
      ],
      "text/plain": [
       "                                     Author Keywords  \\\n",
       "0  Environment; Goal(s); Intelligent agents; Prof...   \n",
       "1                                               <NA>   \n",
       "2                                               <NA>   \n",
       "3  Computer-aided engineering; Data-driven engine...   \n",
       "4  Dating; Emerging adults; Mobile phones; Uses a...   \n",
       "\n",
       "                                      Index Keywords  \n",
       "0  Drones; Human engineering; Intelligent systems...  \n",
       "1  Automation; Cascade control systems; Computati...  \n",
       "2  Hydraulics; Editorial board; Sediment manageme...  \n",
       "3  Compressors; Data handling; Structural design;...  \n",
       "4  Entertainment; A-RINGS; External pressures; Ro...  "
      ]
     },
     "execution_count": 20,
     "metadata": {},
     "output_type": "execute_result"
    }
   ],
   "source": [
    "keywords_df.head()"
   ]
  },
  {
   "cell_type": "code",
   "execution_count": 22,
   "id": "26c61756-b7a9-492f-8219-d480429369b9",
   "metadata": {},
   "outputs": [],
   "source": [
    "def split_str_and_concat(df, col_name, sep=\"; \"):\n",
    "    return pd.DataFrame(df[col_name].str.split(sep).tolist(), index=keywords_df.index).stack()"
   ]
  },
  {
   "cell_type": "code",
   "execution_count": 23,
   "id": "40e0a244-7054-4c56-bdbf-3b6e7526059d",
   "metadata": {},
   "outputs": [
    {
     "name": "stderr",
     "output_type": "stream",
     "text": [
      "/var/folders/mm/5vsgc5194kqf1xnmgq439jww0000gn/T/ipykernel_86113/501562341.py:1: SettingWithCopyWarning: \n",
      "A value is trying to be set on a copy of a slice from a DataFrame\n",
      "\n",
      "See the caveats in the documentation: https://pandas.pydata.org/pandas-docs/stable/user_guide/indexing.html#returning-a-view-versus-a-copy\n",
      "  keywords_df.dropna(inplace=True)\n"
     ]
    }
   ],
   "source": [
    "keywords_df.dropna(inplace=True)\n",
    "author_keywords = split_str_and_concat(keywords_df, 'Author Keywords')\n",
    "index_keywords = split_str_and_concat(keywords_df, 'Index Keywords')"
   ]
  },
  {
   "cell_type": "code",
   "execution_count": 24,
   "id": "b40ff903-470f-4641-a2f6-4ec128acee53",
   "metadata": {},
   "outputs": [
    {
     "name": "stderr",
     "output_type": "stream",
     "text": [
      "/var/folders/mm/5vsgc5194kqf1xnmgq439jww0000gn/T/ipykernel_86113/1269822973.py:1: FutureWarning: The series.append method is deprecated and will be removed from pandas in a future version. Use pandas.concat instead.\n",
      "  all_keywords = author_keywords.append(index_keywords)\n"
     ]
    }
   ],
   "source": [
    "all_keywords = author_keywords.append(index_keywords)\n",
    "all_keywords.drop_duplicates(keep='first', inplace=True)"
   ]
  },
  {
   "cell_type": "code",
   "execution_count": 25,
   "id": "b30f487c-4df2-4024-90a3-cdbbdb08c82d",
   "metadata": {},
   "outputs": [],
   "source": [
    "# b = b.reset_index()[[0, 'var2']] # var1 variable is currently labeled 0\n",
    "# b.columns = ['var1', 'var2']\n",
    "# keywords_df"
   ]
  },
  {
   "cell_type": "code",
   "execution_count": 26,
   "id": "37cd298b-8b72-49ee-b8f3-6d1ab7c603c3",
   "metadata": {},
   "outputs": [
    {
     "data": {
      "text/html": [
       "<div>\n",
       "<style scoped>\n",
       "    .dataframe tbody tr th:only-of-type {\n",
       "        vertical-align: middle;\n",
       "    }\n",
       "\n",
       "    .dataframe tbody tr th {\n",
       "        vertical-align: top;\n",
       "    }\n",
       "\n",
       "    .dataframe thead th {\n",
       "        text-align: right;\n",
       "    }\n",
       "</style>\n",
       "<table border=\"1\" class=\"dataframe\">\n",
       "  <thead>\n",
       "    <tr style=\"text-align: right;\">\n",
       "      <th></th>\n",
       "      <th></th>\n",
       "      <th>name</th>\n",
       "    </tr>\n",
       "  </thead>\n",
       "  <tbody>\n",
       "    <tr>\n",
       "      <th rowspan=\"5\" valign=\"top\">0</th>\n",
       "      <th>0</th>\n",
       "      <td>Environment</td>\n",
       "    </tr>\n",
       "    <tr>\n",
       "      <th>1</th>\n",
       "      <td>Goal(s)</td>\n",
       "    </tr>\n",
       "    <tr>\n",
       "      <th>2</th>\n",
       "      <td>Intelligent agents</td>\n",
       "    </tr>\n",
       "    <tr>\n",
       "      <th>3</th>\n",
       "      <td>Proficiency</td>\n",
       "    </tr>\n",
       "    <tr>\n",
       "      <th>4</th>\n",
       "      <td>Self-assessment</td>\n",
       "    </tr>\n",
       "  </tbody>\n",
       "</table>\n",
       "</div>"
      ],
      "text/plain": [
       "                   name\n",
       "0 0         Environment\n",
       "  1             Goal(s)\n",
       "  2  Intelligent agents\n",
       "  3         Proficiency\n",
       "  4     Self-assessment"
      ]
     },
     "execution_count": 26,
     "metadata": {},
     "output_type": "execute_result"
    }
   ],
   "source": [
    "keywords_df = pd.DataFrame({ 'name': all_keywords })\n",
    "keywords_df.head()"
   ]
  },
  {
   "cell_type": "code",
   "execution_count": 27,
   "id": "4b1626ec-312a-48c8-b549-3a5b4a5db57f",
   "metadata": {},
   "outputs": [],
   "source": [
    "# keywords_df.to_csv(join(data_dir, \"keywords.csv\"), index=False)"
   ]
  },
  {
   "cell_type": "markdown",
   "id": "86991ff3-94d5-4806-8481-b04dadefdb93",
   "metadata": {},
   "source": [
    "##### Affiliations"
   ]
  },
  {
   "cell_type": "code",
   "execution_count": 65,
   "id": "63b642d6-10ad-4e9e-8c95-d130e47ee675",
   "metadata": {},
   "outputs": [
    {
     "data": {
      "text/plain": [
       "Affiliations    object\n",
       "dtype: object"
      ]
     },
     "execution_count": 65,
     "metadata": {},
     "output_type": "execute_result"
    }
   ],
   "source": [
    "affiliations_df = df[affiliation_cols]\n",
    "affiliations_df.dtypes"
   ]
  },
  {
   "cell_type": "code",
   "execution_count": 66,
   "id": "6c4dacaa-2256-4cd2-a0e0-cb8c6f064071",
   "metadata": {},
   "outputs": [
    {
     "name": "stderr",
     "output_type": "stream",
     "text": [
      "/var/folders/mm/5vsgc5194kqf1xnmgq439jww0000gn/T/ipykernel_28756/4139907851.py:2: SettingWithCopyWarning: \n",
      "A value is trying to be set on a copy of a slice from a DataFrame.\n",
      "Try using .loc[row_indexer,col_indexer] = value instead\n",
      "\n",
      "See the caveats in the documentation: https://pandas.pydata.org/pandas-docs/stable/user_guide/indexing.html#returning-a-view-versus-a-copy\n",
      "  df[cols] = df[cols].astype(__type)\n"
     ]
    },
    {
     "data": {
      "text/plain": [
       "Affiliations    string\n",
       "dtype: object"
      ]
     },
     "execution_count": 66,
     "metadata": {},
     "output_type": "execute_result"
    }
   ],
   "source": [
    "affiliations_df = cast_columns(affiliations_df, affiliation_cols, pd.StringDtype())\n",
    "affiliations_df.dtypes"
   ]
  },
  {
   "cell_type": "code",
   "execution_count": 67,
   "id": "149fd471-1fc7-427f-9788-12a0f153a4ce",
   "metadata": {},
   "outputs": [
    {
     "data": {
      "text/plain": [
       "['School of Environment and Guangdong Key Laboratory of Environmental Pollution and Health',\n",
       " ' Jinan University',\n",
       " ' Guangzhou',\n",
       " ' 510632',\n",
       " ' China; Department of Civil and Environmental Engineering',\n",
       " ' University of Wisconsin-Madison',\n",
       " ' Madison',\n",
       " ' WI  53706',\n",
       " ' United States; Department of Chemistry and Biochemistry',\n",
       " ' Brigham Young University',\n",
       " ' Provo',\n",
       " ' UT  84602',\n",
       " ' United States']"
      ]
     },
     "execution_count": 67,
     "metadata": {},
     "output_type": "execute_result"
    }
   ],
   "source": [
    "list(affiliations_df.loc[10].str.split(\",\"))[0]"
   ]
  },
  {
   "cell_type": "code",
   "execution_count": 68,
   "id": "fa9051a0-da92-46d2-a143-39c0567d3960",
   "metadata": {},
   "outputs": [],
   "source": [
    "all_affiliations = pd.DataFrame(affiliations_df['Affiliations'].str.split(\"; \").tolist()).stack()\n",
    "all_affiliations.drop_duplicates(keep='first', inplace=True)"
   ]
  },
  {
   "cell_type": "code",
   "execution_count": 69,
   "id": "7f43c5e2-b1c1-486a-98ec-a994d7166df5",
   "metadata": {},
   "outputs": [],
   "source": [
    "affiliations_df = all_affiliations.to_frame(name='affiliations').reset_index(drop=True)"
   ]
  },
  {
   "cell_type": "code",
   "execution_count": 70,
   "id": "d1872041-1879-4c41-b760-c685c8291297",
   "metadata": {},
   "outputs": [],
   "source": [
    "affiliations_df['country'] = affiliations_df['affiliations'].str.rsplit(',', n=2, expand=True)[2]"
   ]
  },
  {
   "cell_type": "code",
   "execution_count": 45,
   "id": "f86cf19f-f2c3-486a-b677-ff85a5ddf7b5",
   "metadata": {},
   "outputs": [],
   "source": [
    "a = \"Utah United States (e-mail: sequoiap4@gmail.com)\"\n",
    "b = \"United States\"\n",
    "regex = re.compile(r\"(\\(|\\))|(\\@)|(\\d+)+\", re.S)"
   ]
  },
  {
   "cell_type": "code",
   "execution_count": 48,
   "id": "8667d99f-12a8-47e5-a23d-40132c02897b",
   "metadata": {},
   "outputs": [
    {
     "data": {
      "text/plain": [
       "False"
      ]
     },
     "execution_count": 48,
     "metadata": {},
     "output_type": "execute_result"
    }
   ],
   "source": [
    "regex.search(a) is None"
   ]
  },
  {
   "cell_type": "code",
   "execution_count": 71,
   "id": "e63ab752-d7f6-46ce-b980-54c30f8ab443",
   "metadata": {},
   "outputs": [],
   "source": [
    "def filter_countries(df):\n",
    "    \"\"\"\n",
    "    Not perfect but filter out almost 99.9% countries for our dataset\n",
    "    \"\"\"\n",
    "    # Find \"(\" or \")\" or any digit\n",
    "    regex = re.compile(r\"(\\(|\\))|(\\@)|(\\d+)+\", re.S)\n",
    "    def _filter(regex, x):\n",
    "        return None if regex.search(x) else x\n",
    "    return pd.Series([_filter(regex, str(x)) for x in df['country']])"
   ]
  },
  {
   "cell_type": "code",
   "execution_count": 72,
   "id": "bbf91838-8fb9-46fb-a844-b49563496d01",
   "metadata": {},
   "outputs": [],
   "source": [
    "affiliations_df['country'] = filter_countries(affiliations_df)"
   ]
  },
  {
   "cell_type": "code",
   "execution_count": 73,
   "id": "d374c390-68d9-4f4b-ba77-60bd09cc458e",
   "metadata": {},
   "outputs": [
    {
     "data": {
      "text/html": [
       "<div>\n",
       "<style scoped>\n",
       "    .dataframe tbody tr th:only-of-type {\n",
       "        vertical-align: middle;\n",
       "    }\n",
       "\n",
       "    .dataframe tbody tr th {\n",
       "        vertical-align: top;\n",
       "    }\n",
       "\n",
       "    .dataframe thead th {\n",
       "        text-align: right;\n",
       "    }\n",
       "</style>\n",
       "<table border=\"1\" class=\"dataframe\">\n",
       "  <thead>\n",
       "    <tr style=\"text-align: right;\">\n",
       "      <th></th>\n",
       "      <th>0</th>\n",
       "      <th>1</th>\n",
       "      <th>2</th>\n",
       "    </tr>\n",
       "  </thead>\n",
       "  <tbody>\n",
       "    <tr>\n",
       "      <th>0</th>\n",
       "      <td>Computer Science Department, Brigham Young Uni...</td>\n",
       "      <td>UT  84604</td>\n",
       "      <td>United States</td>\n",
       "    </tr>\n",
       "    <tr>\n",
       "      <th>1</th>\n",
       "      <td>INESC-TEC Technology and Science, Campus da FEUP</td>\n",
       "      <td>Porto</td>\n",
       "      <td>Portugal</td>\n",
       "    </tr>\n",
       "    <tr>\n",
       "      <th>2</th>\n",
       "      <td>Department of Engineering, University of Trás-...</td>\n",
       "      <td>Vila Real</td>\n",
       "      <td>Portugal</td>\n",
       "    </tr>\n",
       "    <tr>\n",
       "      <th>3</th>\n",
       "      <td>Department of Chemical Engineering, Brigham Yo...</td>\n",
       "      <td>UT</td>\n",
       "      <td>United States</td>\n",
       "    </tr>\n",
       "    <tr>\n",
       "      <th>4</th>\n",
       "      <td>Task Committee Secretary and Lead Engineer, Op...</td>\n",
       "      <td>FL  33406</td>\n",
       "      <td>United States</td>\n",
       "    </tr>\n",
       "    <tr>\n",
       "      <th>...</th>\n",
       "      <td>...</td>\n",
       "      <td>...</td>\n",
       "      <td>...</td>\n",
       "    </tr>\n",
       "    <tr>\n",
       "      <th>1393</th>\n",
       "      <td>United States Department of Agriculture-Agricu...</td>\n",
       "      <td>MT</td>\n",
       "      <td>United States</td>\n",
       "    </tr>\n",
       "    <tr>\n",
       "      <th>1394</th>\n",
       "      <td>United States Department of Agriculture-Agricu...</td>\n",
       "      <td>MS</td>\n",
       "      <td>United States</td>\n",
       "    </tr>\n",
       "    <tr>\n",
       "      <th>1395</th>\n",
       "      <td>Agriculture and Agri-Food Canada, Lethbridge</td>\n",
       "      <td>AB</td>\n",
       "      <td>Canada</td>\n",
       "    </tr>\n",
       "    <tr>\n",
       "      <th>1396</th>\n",
       "      <td>Department of Crop and Soil Sciences, Washingt...</td>\n",
       "      <td>WA</td>\n",
       "      <td>United States</td>\n",
       "    </tr>\n",
       "    <tr>\n",
       "      <th>1397</th>\n",
       "      <td>Columbia Basin Agricultural Research Center, O...</td>\n",
       "      <td>OR</td>\n",
       "      <td>United States</td>\n",
       "    </tr>\n",
       "  </tbody>\n",
       "</table>\n",
       "<p>1398 rows × 3 columns</p>\n",
       "</div>"
      ],
      "text/plain": [
       "                                                      0           1  \\\n",
       "0     Computer Science Department, Brigham Young Uni...   UT  84604   \n",
       "1      INESC-TEC Technology and Science, Campus da FEUP       Porto   \n",
       "2     Department of Engineering, University of Trás-...   Vila Real   \n",
       "3     Department of Chemical Engineering, Brigham Yo...          UT   \n",
       "4     Task Committee Secretary and Lead Engineer, Op...   FL  33406   \n",
       "...                                                 ...         ...   \n",
       "1393  United States Department of Agriculture-Agricu...          MT   \n",
       "1394  United States Department of Agriculture-Agricu...          MS   \n",
       "1395       Agriculture and Agri-Food Canada, Lethbridge          AB   \n",
       "1396  Department of Crop and Soil Sciences, Washingt...          WA   \n",
       "1397  Columbia Basin Agricultural Research Center, O...          OR   \n",
       "\n",
       "                   2  \n",
       "0      United States  \n",
       "1           Portugal  \n",
       "2           Portugal  \n",
       "3      United States  \n",
       "4      United States  \n",
       "...              ...  \n",
       "1393   United States  \n",
       "1394   United States  \n",
       "1395          Canada  \n",
       "1396   United States  \n",
       "1397   United States  \n",
       "\n",
       "[1398 rows x 3 columns]"
      ]
     },
     "execution_count": 73,
     "metadata": {},
     "output_type": "execute_result"
    }
   ],
   "source": [
    "affiliations_df['affiliations'].str.rsplit(',', n=2, expand=True)"
   ]
  },
  {
   "cell_type": "code",
   "execution_count": 74,
   "id": "4ad596f5-02d4-49e1-b7ce-ec871670edd4",
   "metadata": {},
   "outputs": [],
   "source": [
    "def filter_department(df):\n",
    "    \"\"\"\n",
    "    Not perfect solution but good for more than 85%-90% cases. \n",
    "    \"\"\"\n",
    "    def _filter(a):\n",
    "        aa = [x for x in a.split(\",\") if str(x).find(\"Dep\") != -1 or str(x).find(\"School\") != -1]\n",
    "        return aa[0] if len(aa) else None\n",
    "    # return pd.Series([_filter(str(x)) for x in df['affiliations'].str.split(',')])\n",
    "    return pd.Series([_filter(str(x)) for x in df['affiliations']])"
   ]
  },
  {
   "cell_type": "code",
   "execution_count": 75,
   "id": "450d3ee2-2886-4116-a492-0ddcdd9982f2",
   "metadata": {},
   "outputs": [],
   "source": [
    "affiliations_df['dept_name'] = filter_department(affiliations_df)"
   ]
  },
  {
   "cell_type": "code",
   "execution_count": 64,
   "id": "137d2bab-77c0-4c2b-a259-13b63a01d28e",
   "metadata": {},
   "outputs": [],
   "source": [
    "a = 'Computer Science Department, Brigham Young University, Provo, UT  84604, United States'"
   ]
  },
  {
   "cell_type": "code",
   "execution_count": 102,
   "id": "1f31c02d-a123-409e-8a33-ee97a93dce08",
   "metadata": {},
   "outputs": [
    {
     "data": {
      "text/plain": [
       "'Computer Science Department'"
      ]
     },
     "execution_count": 102,
     "metadata": {},
     "output_type": "execute_result"
    }
   ],
   "source": [
    "[x for x in a.split(\",\") if str(x).find(\"Dep\") != -1][0]"
   ]
  },
  {
   "cell_type": "code",
   "execution_count": 76,
   "id": "921bdc35-0f52-47e6-a1da-8e08bbb2b422",
   "metadata": {},
   "outputs": [
    {
     "data": {
      "text/html": [
       "<div>\n",
       "<style scoped>\n",
       "    .dataframe tbody tr th:only-of-type {\n",
       "        vertical-align: middle;\n",
       "    }\n",
       "\n",
       "    .dataframe tbody tr th {\n",
       "        vertical-align: top;\n",
       "    }\n",
       "\n",
       "    .dataframe thead th {\n",
       "        text-align: right;\n",
       "    }\n",
       "</style>\n",
       "<table border=\"1\" class=\"dataframe\">\n",
       "  <thead>\n",
       "    <tr style=\"text-align: right;\">\n",
       "      <th></th>\n",
       "      <th>affiliations</th>\n",
       "      <th>country</th>\n",
       "      <th>dept_name</th>\n",
       "    </tr>\n",
       "  </thead>\n",
       "  <tbody>\n",
       "    <tr>\n",
       "      <th>0</th>\n",
       "      <td>Computer Science Department, Brigham Young Uni...</td>\n",
       "      <td>United States</td>\n",
       "      <td>Computer Science Department</td>\n",
       "    </tr>\n",
       "    <tr>\n",
       "      <th>1</th>\n",
       "      <td>INESC-TEC Technology and Science, Campus da FE...</td>\n",
       "      <td>Portugal</td>\n",
       "      <td>None</td>\n",
       "    </tr>\n",
       "    <tr>\n",
       "      <th>2</th>\n",
       "      <td>Department of Engineering, University of Trás-...</td>\n",
       "      <td>Portugal</td>\n",
       "      <td>Department of Engineering</td>\n",
       "    </tr>\n",
       "    <tr>\n",
       "      <th>3</th>\n",
       "      <td>Department of Chemical Engineering, Brigham Yo...</td>\n",
       "      <td>United States</td>\n",
       "      <td>Department of Chemical Engineering</td>\n",
       "    </tr>\n",
       "    <tr>\n",
       "      <th>4</th>\n",
       "      <td>Task Committee Secretary and Lead Engineer, Op...</td>\n",
       "      <td>United States</td>\n",
       "      <td>None</td>\n",
       "    </tr>\n",
       "  </tbody>\n",
       "</table>\n",
       "</div>"
      ],
      "text/plain": [
       "                                        affiliations         country  \\\n",
       "0  Computer Science Department, Brigham Young Uni...   United States   \n",
       "1  INESC-TEC Technology and Science, Campus da FE...        Portugal   \n",
       "2  Department of Engineering, University of Trás-...        Portugal   \n",
       "3  Department of Chemical Engineering, Brigham Yo...   United States   \n",
       "4  Task Committee Secretary and Lead Engineer, Op...   United States   \n",
       "\n",
       "                            dept_name  \n",
       "0         Computer Science Department  \n",
       "1                                None  \n",
       "2           Department of Engineering  \n",
       "3  Department of Chemical Engineering  \n",
       "4                                None  "
      ]
     },
     "execution_count": 76,
     "metadata": {},
     "output_type": "execute_result"
    }
   ],
   "source": [
    "affiliations_df.head()"
   ]
  },
  {
   "cell_type": "code",
   "execution_count": 77,
   "id": "6cc0a4c9-6b1e-4a80-8d13-91a63c639ed4",
   "metadata": {},
   "outputs": [],
   "source": [
    "affiliations_df.to_csv(join(data_dir, \"affiliations.csv\"), index=False)"
   ]
  },
  {
   "cell_type": "markdown",
   "id": "c8bee8e7-5405-4811-9be8-b8e2d4c30b07",
   "metadata": {},
   "source": [
    "##### Documents"
   ]
  },
  {
   "cell_type": "code",
   "execution_count": 45,
   "id": "462e02e3-a95a-403f-8c8f-4617e0a8aa3b",
   "metadata": {},
   "outputs": [
    {
     "data": {
      "text/plain": [
       "['Author(s) ID',\n",
       " 'Title',\n",
       " 'Source title',\n",
       " 'Art. No.',\n",
       " 'Cited by',\n",
       " 'DOI',\n",
       " 'Abstract',\n",
       " 'Author Keywords',\n",
       " 'Index Keywords',\n",
       " 'Document Type']"
      ]
     },
     "execution_count": 45,
     "metadata": {},
     "output_type": "execute_result"
    }
   ],
   "source": [
    "doc_df = df[document_cols]\n",
    "doc_df.columns.to_list()"
   ]
  },
  {
   "cell_type": "code",
   "execution_count": 46,
   "id": "735d3206-c530-437c-8b41-54f9094167f8",
   "metadata": {},
   "outputs": [
    {
     "name": "stderr",
     "output_type": "stream",
     "text": [
      "/var/folders/mm/5vsgc5194kqf1xnmgq439jww0000gn/T/ipykernel_28756/3789928614.py:1: SettingWithCopyWarning: \n",
      "A value is trying to be set on a copy of a slice from a DataFrame\n",
      "\n",
      "See the caveats in the documentation: https://pandas.pydata.org/pandas-docs/stable/user_guide/indexing.html#returning-a-view-versus-a-copy\n",
      "  doc_df.rename(columns=\n"
     ]
    }
   ],
   "source": [
    "doc_df.rename(columns=\n",
    "              {'DOI':'doi', \n",
    "               'Author(s) ID': 'author_ids', \n",
    "               'Art. No.':'article_no', \n",
    "               'Title':'title',\n",
    "               'Abstract':'abstract',\n",
    "               'Author Keywords':'author_keywords',\n",
    "               'Index Keywords':'index_keywords',\n",
    "               'Document Type':'document_type',\n",
    "               'Cited by':'cited_count',\n",
    "               'Source title':'source_title'}, inplace=True)"
   ]
  },
  {
   "cell_type": "code",
   "execution_count": 47,
   "id": "eebf4079-e61d-4e37-ae94-3942a00cc7ef",
   "metadata": {},
   "outputs": [
    {
     "data": {
      "text/html": [
       "<div>\n",
       "<style scoped>\n",
       "    .dataframe tbody tr th:only-of-type {\n",
       "        vertical-align: middle;\n",
       "    }\n",
       "\n",
       "    .dataframe tbody tr th {\n",
       "        vertical-align: top;\n",
       "    }\n",
       "\n",
       "    .dataframe thead th {\n",
       "        text-align: right;\n",
       "    }\n",
       "</style>\n",
       "<table border=\"1\" class=\"dataframe\">\n",
       "  <thead>\n",
       "    <tr style=\"text-align: right;\">\n",
       "      <th></th>\n",
       "      <th>author_ids</th>\n",
       "      <th>title</th>\n",
       "      <th>source_title</th>\n",
       "      <th>article_no</th>\n",
       "      <th>cited_count</th>\n",
       "      <th>doi</th>\n",
       "      <th>abstract</th>\n",
       "      <th>author_keywords</th>\n",
       "      <th>index_keywords</th>\n",
       "      <th>document_type</th>\n",
       "    </tr>\n",
       "  </thead>\n",
       "  <tbody>\n",
       "    <tr>\n",
       "      <th>0</th>\n",
       "      <td>57218202833;7004904337;7005513246;</td>\n",
       "      <td>Self-assessment of Proficiency of Intelligent ...</td>\n",
       "      <td>Advances in Intelligent Systems and Computing</td>\n",
       "      <td>NaN</td>\n",
       "      <td>NaN</td>\n",
       "      <td>10.1007/978-3-030-51758-8_15</td>\n",
       "      <td>Autonomous systems, although capable of perfor...</td>\n",
       "      <td>Environment; Goal(s); Intelligent agents; Prof...</td>\n",
       "      <td>Drones; Human engineering; Intelligent systems...</td>\n",
       "      <td>Conference Paper</td>\n",
       "    </tr>\n",
       "    <tr>\n",
       "      <th>1</th>\n",
       "      <td>6508306234;9277159100;6507358470;</td>\n",
       "      <td>Bridging theory to practice: Feedforward and c...</td>\n",
       "      <td>Lecture Notes in Electrical Engineering</td>\n",
       "      <td>NaN</td>\n",
       "      <td>NaN</td>\n",
       "      <td>10.1007/978-3-030-58653-9_3</td>\n",
       "      <td>Practice is of the essence in Engineering cour...</td>\n",
       "      <td>NaN</td>\n",
       "      <td>Automation; Cascade control systems; Computati...</td>\n",
       "      <td>Conference Paper</td>\n",
       "    </tr>\n",
       "  </tbody>\n",
       "</table>\n",
       "</div>"
      ],
      "text/plain": [
       "                           author_ids  \\\n",
       "0  57218202833;7004904337;7005513246;   \n",
       "1   6508306234;9277159100;6507358470;   \n",
       "\n",
       "                                               title  \\\n",
       "0  Self-assessment of Proficiency of Intelligent ...   \n",
       "1  Bridging theory to practice: Feedforward and c...   \n",
       "\n",
       "                                    source_title article_no  cited_count  \\\n",
       "0  Advances in Intelligent Systems and Computing        NaN          NaN   \n",
       "1        Lecture Notes in Electrical Engineering        NaN          NaN   \n",
       "\n",
       "                            doi  \\\n",
       "0  10.1007/978-3-030-51758-8_15   \n",
       "1   10.1007/978-3-030-58653-9_3   \n",
       "\n",
       "                                            abstract  \\\n",
       "0  Autonomous systems, although capable of perfor...   \n",
       "1  Practice is of the essence in Engineering cour...   \n",
       "\n",
       "                                     author_keywords  \\\n",
       "0  Environment; Goal(s); Intelligent agents; Prof...   \n",
       "1                                                NaN   \n",
       "\n",
       "                                      index_keywords     document_type  \n",
       "0  Drones; Human engineering; Intelligent systems...  Conference Paper  \n",
       "1  Automation; Cascade control systems; Computati...  Conference Paper  "
      ]
     },
     "execution_count": 47,
     "metadata": {},
     "output_type": "execute_result"
    }
   ],
   "source": [
    "doc_df.head(2)"
   ]
  },
  {
   "cell_type": "code",
   "execution_count": 48,
   "id": "12c02937-0e99-4479-a874-a564ef59db90",
   "metadata": {},
   "outputs": [
    {
     "name": "stderr",
     "output_type": "stream",
     "text": [
      "/var/folders/mm/5vsgc5194kqf1xnmgq439jww0000gn/T/ipykernel_28756/2014763690.py:1: SettingWithCopyWarning: \n",
      "A value is trying to be set on a copy of a slice from a DataFrame.\n",
      "Try using .loc[row_indexer,col_indexer] = value instead\n",
      "\n",
      "See the caveats in the documentation: https://pandas.pydata.org/pandas-docs/stable/user_guide/indexing.html#returning-a-view-versus-a-copy\n",
      "  doc_df['author_ids'] = doc_df['author_ids'].str.split(\";\").apply(lambda x: list(x[0: len(x) - 1]))\n"
     ]
    }
   ],
   "source": [
    "doc_df['author_ids'] = doc_df['author_ids'].str.split(\";\").apply(lambda x: list(x[0: len(x) - 1]))"
   ]
  },
  {
   "cell_type": "code",
   "execution_count": 49,
   "id": "a26ef698-3594-4fe9-9e73-24d46bf94f2e",
   "metadata": {},
   "outputs": [
    {
     "data": {
      "text/plain": [
       "['author_ids',\n",
       " 'title',\n",
       " 'source_title',\n",
       " 'article_no',\n",
       " 'cited_count',\n",
       " 'doi',\n",
       " 'abstract',\n",
       " 'author_keywords',\n",
       " 'index_keywords',\n",
       " 'document_type']"
      ]
     },
     "execution_count": 49,
     "metadata": {},
     "output_type": "execute_result"
    }
   ],
   "source": [
    "doc_df.columns.to_list()"
   ]
  },
  {
   "cell_type": "code",
   "execution_count": 50,
   "id": "b6bd9e4b-9663-42d7-869a-8292a8b9a08b",
   "metadata": {},
   "outputs": [
    {
     "name": "stderr",
     "output_type": "stream",
     "text": [
      "/var/folders/mm/5vsgc5194kqf1xnmgq439jww0000gn/T/ipykernel_28756/1676957382.py:1: SettingWithCopyWarning: \n",
      "A value is trying to be set on a copy of a slice from a DataFrame.\n",
      "Try using .loc[row_indexer,col_indexer] = value instead\n",
      "\n",
      "See the caveats in the documentation: https://pandas.pydata.org/pandas-docs/stable/user_guide/indexing.html#returning-a-view-versus-a-copy\n",
      "  doc_df['keywords'] = doc_df['author_keywords'] + doc_df['index_keywords']\n"
     ]
    }
   ],
   "source": [
    "doc_df['keywords'] = doc_df['author_keywords'] + doc_df['index_keywords']"
   ]
  },
  {
   "cell_type": "code",
   "execution_count": 55,
   "id": "534b63e5-4483-4938-b606-806aea0b9555",
   "metadata": {},
   "outputs": [
    {
     "name": "stderr",
     "output_type": "stream",
     "text": [
      "/var/folders/mm/5vsgc5194kqf1xnmgq439jww0000gn/T/ipykernel_28756/3399888157.py:1: SettingWithCopyWarning: \n",
      "A value is trying to be set on a copy of a slice from a DataFrame.\n",
      "Try using .loc[row_indexer,col_indexer] = value instead\n",
      "\n",
      "See the caveats in the documentation: https://pandas.pydata.org/pandas-docs/stable/user_guide/indexing.html#returning-a-view-versus-a-copy\n",
      "  doc_df['keywords'] = doc_df['keywords'].str.split(\";\")\n"
     ]
    }
   ],
   "source": [
    "doc_df['keywords'] = doc_df['keywords'].str.split(\";\")"
   ]
  },
  {
   "cell_type": "code",
   "execution_count": 57,
   "id": "a37dfb5e-f19e-4ee9-be28-e7cb67578091",
   "metadata": {},
   "outputs": [
    {
     "name": "stderr",
     "output_type": "stream",
     "text": [
      "/var/folders/mm/5vsgc5194kqf1xnmgq439jww0000gn/T/ipykernel_28756/1449506116.py:1: SettingWithCopyWarning: \n",
      "A value is trying to be set on a copy of a slice from a DataFrame\n",
      "\n",
      "See the caveats in the documentation: https://pandas.pydata.org/pandas-docs/stable/user_guide/indexing.html#returning-a-view-versus-a-copy\n",
      "  doc_df.drop(columns=['author_keywords', 'index_keywords'], inplace=True)\n"
     ]
    }
   ],
   "source": [
    "doc_df.drop(columns=['author_keywords', 'index_keywords'], inplace=True)"
   ]
  },
  {
   "cell_type": "code",
   "execution_count": 58,
   "id": "c50eeadf-0f44-4e76-9b7a-927bd4d8d09a",
   "metadata": {},
   "outputs": [
    {
     "data": {
      "text/html": [
       "<div>\n",
       "<style scoped>\n",
       "    .dataframe tbody tr th:only-of-type {\n",
       "        vertical-align: middle;\n",
       "    }\n",
       "\n",
       "    .dataframe tbody tr th {\n",
       "        vertical-align: top;\n",
       "    }\n",
       "\n",
       "    .dataframe thead th {\n",
       "        text-align: right;\n",
       "    }\n",
       "</style>\n",
       "<table border=\"1\" class=\"dataframe\">\n",
       "  <thead>\n",
       "    <tr style=\"text-align: right;\">\n",
       "      <th></th>\n",
       "      <th>author_ids</th>\n",
       "      <th>title</th>\n",
       "      <th>source_title</th>\n",
       "      <th>article_no</th>\n",
       "      <th>cited_count</th>\n",
       "      <th>doi</th>\n",
       "      <th>abstract</th>\n",
       "      <th>document_type</th>\n",
       "      <th>keywords</th>\n",
       "    </tr>\n",
       "  </thead>\n",
       "  <tbody>\n",
       "    <tr>\n",
       "      <th>0</th>\n",
       "      <td>[57218202833, 7004904337, 7005513246]</td>\n",
       "      <td>Self-assessment of Proficiency of Intelligent ...</td>\n",
       "      <td>Advances in Intelligent Systems and Computing</td>\n",
       "      <td>NaN</td>\n",
       "      <td>NaN</td>\n",
       "      <td>10.1007/978-3-030-51758-8_15</td>\n",
       "      <td>Autonomous systems, although capable of perfor...</td>\n",
       "      <td>Conference Paper</td>\n",
       "      <td>[Environment,  Goal(s),  Intelligent agents,  ...</td>\n",
       "    </tr>\n",
       "    <tr>\n",
       "      <th>1</th>\n",
       "      <td>[6508306234, 9277159100, 6507358470]</td>\n",
       "      <td>Bridging theory to practice: Feedforward and c...</td>\n",
       "      <td>Lecture Notes in Electrical Engineering</td>\n",
       "      <td>NaN</td>\n",
       "      <td>NaN</td>\n",
       "      <td>10.1007/978-3-030-58653-9_3</td>\n",
       "      <td>Practice is of the essence in Engineering cour...</td>\n",
       "      <td>Conference Paper</td>\n",
       "      <td>NaN</td>\n",
       "    </tr>\n",
       "  </tbody>\n",
       "</table>\n",
       "</div>"
      ],
      "text/plain": [
       "                              author_ids  \\\n",
       "0  [57218202833, 7004904337, 7005513246]   \n",
       "1   [6508306234, 9277159100, 6507358470]   \n",
       "\n",
       "                                               title  \\\n",
       "0  Self-assessment of Proficiency of Intelligent ...   \n",
       "1  Bridging theory to practice: Feedforward and c...   \n",
       "\n",
       "                                    source_title article_no  cited_count  \\\n",
       "0  Advances in Intelligent Systems and Computing        NaN          NaN   \n",
       "1        Lecture Notes in Electrical Engineering        NaN          NaN   \n",
       "\n",
       "                            doi  \\\n",
       "0  10.1007/978-3-030-51758-8_15   \n",
       "1   10.1007/978-3-030-58653-9_3   \n",
       "\n",
       "                                            abstract     document_type  \\\n",
       "0  Autonomous systems, although capable of perfor...  Conference Paper   \n",
       "1  Practice is of the essence in Engineering cour...  Conference Paper   \n",
       "\n",
       "                                            keywords  \n",
       "0  [Environment,  Goal(s),  Intelligent agents,  ...  \n",
       "1                                                NaN  "
      ]
     },
     "execution_count": 58,
     "metadata": {},
     "output_type": "execute_result"
    }
   ],
   "source": [
    "doc_df.head(2)"
   ]
  },
  {
   "cell_type": "code",
   "execution_count": 63,
   "id": "05a3ad1b-18a9-4fa7-aa92-5132bbccba56",
   "metadata": {},
   "outputs": [],
   "source": [
    "doc_df.to_csv(join(data_dir, \"documents.csv\"), index=False)"
   ]
  },
  {
   "cell_type": "code",
   "execution_count": 61,
   "id": "555c12f1-b5b8-44ee-be0d-84ad6d15413f",
   "metadata": {},
   "outputs": [
    {
     "data": {
      "text/html": [
       "<div>\n",
       "<style scoped>\n",
       "    .dataframe tbody tr th:only-of-type {\n",
       "        vertical-align: middle;\n",
       "    }\n",
       "\n",
       "    .dataframe tbody tr th {\n",
       "        vertical-align: top;\n",
       "    }\n",
       "\n",
       "    .dataframe thead th {\n",
       "        text-align: right;\n",
       "    }\n",
       "</style>\n",
       "<table border=\"1\" class=\"dataframe\">\n",
       "  <thead>\n",
       "    <tr style=\"text-align: right;\">\n",
       "      <th></th>\n",
       "      <th>author_ids</th>\n",
       "      <th>title</th>\n",
       "      <th>source_title</th>\n",
       "      <th>article_no</th>\n",
       "      <th>cited_count</th>\n",
       "      <th>doi</th>\n",
       "      <th>abstract</th>\n",
       "      <th>document_type</th>\n",
       "      <th>keywords</th>\n",
       "    </tr>\n",
       "  </thead>\n",
       "  <tbody>\n",
       "    <tr>\n",
       "      <th>0</th>\n",
       "      <td>[57218202833, 7004904337, 7005513246]</td>\n",
       "      <td>Self-assessment of Proficiency of Intelligent ...</td>\n",
       "      <td>Advances in Intelligent Systems and Computing</td>\n",
       "      <td>NaN</td>\n",
       "      <td>NaN</td>\n",
       "      <td>10.1007/978-3-030-51758-8_15</td>\n",
       "      <td>Autonomous systems, although capable of perfor...</td>\n",
       "      <td>Conference Paper</td>\n",
       "      <td>[Environment,  Goal(s),  Intelligent agents,  ...</td>\n",
       "    </tr>\n",
       "    <tr>\n",
       "      <th>1</th>\n",
       "      <td>[6508306234, 9277159100, 6507358470]</td>\n",
       "      <td>Bridging theory to practice: Feedforward and c...</td>\n",
       "      <td>Lecture Notes in Electrical Engineering</td>\n",
       "      <td>NaN</td>\n",
       "      <td>NaN</td>\n",
       "      <td>10.1007/978-3-030-58653-9_3</td>\n",
       "      <td>Practice is of the essence in Engineering cour...</td>\n",
       "      <td>Conference Paper</td>\n",
       "      <td>NaN</td>\n",
       "    </tr>\n",
       "    <tr>\n",
       "      <th>2</th>\n",
       "      <td>[53879700900, 26642910500]</td>\n",
       "      <td>Development of sediment management guidelines ...</td>\n",
       "      <td>Journal of Hydraulic Engineering</td>\n",
       "      <td>02520004</td>\n",
       "      <td>NaN</td>\n",
       "      <td>10.1061/(ASCE)HY.1943-7900.0001822</td>\n",
       "      <td>Forum papers are thought-provoking opinion pie...</td>\n",
       "      <td>Review</td>\n",
       "      <td>NaN</td>\n",
       "    </tr>\n",
       "    <tr>\n",
       "      <th>3</th>\n",
       "      <td>[57204031131, 6602649851, 56830076500, 5720402...</td>\n",
       "      <td>Structural design space exploration using prin...</td>\n",
       "      <td>Journal of Computing and Information Science i...</td>\n",
       "      <td>061014</td>\n",
       "      <td>NaN</td>\n",
       "      <td>10.1115/1.4047428</td>\n",
       "      <td>Design space exploration (DSE) is the process ...</td>\n",
       "      <td>Article</td>\n",
       "      <td>[Computer-aided engineering,  Data-driven engi...</td>\n",
       "    </tr>\n",
       "    <tr>\n",
       "      <th>4</th>\n",
       "      <td>[57217149830, 57217149403, 57217145377, 572171...</td>\n",
       "      <td>Religion-focused dating apps: A Q methodology ...</td>\n",
       "      <td>Telematics and Informatics</td>\n",
       "      <td>101448</td>\n",
       "      <td>1.0</td>\n",
       "      <td>10.1016/j.tele.2020.101448</td>\n",
       "      <td>Dating apps have become an increasingly viable...</td>\n",
       "      <td>Article</td>\n",
       "      <td>[Dating,  Emerging adults,  Mobile phones,  Us...</td>\n",
       "    </tr>\n",
       "  </tbody>\n",
       "</table>\n",
       "</div>"
      ],
      "text/plain": [
       "                                          author_ids  \\\n",
       "0              [57218202833, 7004904337, 7005513246]   \n",
       "1               [6508306234, 9277159100, 6507358470]   \n",
       "2                         [53879700900, 26642910500]   \n",
       "3  [57204031131, 6602649851, 56830076500, 5720402...   \n",
       "4  [57217149830, 57217149403, 57217145377, 572171...   \n",
       "\n",
       "                                               title  \\\n",
       "0  Self-assessment of Proficiency of Intelligent ...   \n",
       "1  Bridging theory to practice: Feedforward and c...   \n",
       "2  Development of sediment management guidelines ...   \n",
       "3  Structural design space exploration using prin...   \n",
       "4  Religion-focused dating apps: A Q methodology ...   \n",
       "\n",
       "                                        source_title article_no  cited_count  \\\n",
       "0      Advances in Intelligent Systems and Computing        NaN          NaN   \n",
       "1            Lecture Notes in Electrical Engineering        NaN          NaN   \n",
       "2                   Journal of Hydraulic Engineering   02520004          NaN   \n",
       "3  Journal of Computing and Information Science i...     061014          NaN   \n",
       "4                         Telematics and Informatics     101448          1.0   \n",
       "\n",
       "                                  doi  \\\n",
       "0        10.1007/978-3-030-51758-8_15   \n",
       "1         10.1007/978-3-030-58653-9_3   \n",
       "2  10.1061/(ASCE)HY.1943-7900.0001822   \n",
       "3                   10.1115/1.4047428   \n",
       "4          10.1016/j.tele.2020.101448   \n",
       "\n",
       "                                            abstract     document_type  \\\n",
       "0  Autonomous systems, although capable of perfor...  Conference Paper   \n",
       "1  Practice is of the essence in Engineering cour...  Conference Paper   \n",
       "2  Forum papers are thought-provoking opinion pie...            Review   \n",
       "3  Design space exploration (DSE) is the process ...           Article   \n",
       "4  Dating apps have become an increasingly viable...           Article   \n",
       "\n",
       "                                            keywords  \n",
       "0  [Environment,  Goal(s),  Intelligent agents,  ...  \n",
       "1                                                NaN  \n",
       "2                                                NaN  \n",
       "3  [Computer-aided engineering,  Data-driven engi...  \n",
       "4  [Dating,  Emerging adults,  Mobile phones,  Us...  "
      ]
     },
     "execution_count": 61,
     "metadata": {},
     "output_type": "execute_result"
    }
   ],
   "source": [
    "doc_df.head()"
   ]
  },
  {
   "cell_type": "markdown",
   "id": "dcb7da76-2c9c-4879-9853-857a9cd5b474",
   "metadata": {},
   "source": [
    "##### Authors"
   ]
  },
  {
   "cell_type": "code",
   "execution_count": 78,
   "id": "4223e3cc-65e9-458e-9805-37690c8ba7c2",
   "metadata": {},
   "outputs": [],
   "source": [
    "authors_df = df[authors_cols]"
   ]
  },
  {
   "cell_type": "code",
   "execution_count": 79,
   "id": "c4f60ce9-a216-4616-9c59-53e52376aeb6",
   "metadata": {},
   "outputs": [
    {
     "data": {
      "text/html": [
       "<div>\n",
       "<style scoped>\n",
       "    .dataframe tbody tr th:only-of-type {\n",
       "        vertical-align: middle;\n",
       "    }\n",
       "\n",
       "    .dataframe tbody tr th {\n",
       "        vertical-align: top;\n",
       "    }\n",
       "\n",
       "    .dataframe thead th {\n",
       "        text-align: right;\n",
       "    }\n",
       "</style>\n",
       "<table border=\"1\" class=\"dataframe\">\n",
       "  <thead>\n",
       "    <tr style=\"text-align: right;\">\n",
       "      <th></th>\n",
       "      <th>Authors</th>\n",
       "      <th>Author(s) ID</th>\n",
       "      <th>Affiliations</th>\n",
       "      <th>Authors with affiliations</th>\n",
       "      <th>Author Keywords</th>\n",
       "    </tr>\n",
       "  </thead>\n",
       "  <tbody>\n",
       "    <tr>\n",
       "      <th>0</th>\n",
       "      <td>Gautam A., Crandall J.W., Goodrich M.A.</td>\n",
       "      <td>57218202833;7004904337;7005513246;</td>\n",
       "      <td>Computer Science Department, Brigham Young Uni...</td>\n",
       "      <td>Gautam, A., Computer Science Department, Brigh...</td>\n",
       "      <td>Environment; Goal(s); Intelligent agents; Prof...</td>\n",
       "    </tr>\n",
       "    <tr>\n",
       "      <th>1</th>\n",
       "      <td>de Moura Oliveira P.B., Hedengren J.D., Boaven...</td>\n",
       "      <td>6508306234;9277159100;6507358470;</td>\n",
       "      <td>INESC-TEC Technology and Science, Campus da FE...</td>\n",
       "      <td>de Moura Oliveira, P.B., INESC-TEC Technology ...</td>\n",
       "      <td>NaN</td>\n",
       "    </tr>\n",
       "    <tr>\n",
       "      <th>2</th>\n",
       "      <td>Hajimirzaie S.M., Hotchkiss R.H.</td>\n",
       "      <td>53879700900;26642910500;</td>\n",
       "      <td>Task Committee Secretary and Lead Engineer, Op...</td>\n",
       "      <td>Hajimirzaie, S.M., Task Committee Secretary an...</td>\n",
       "      <td>NaN</td>\n",
       "    </tr>\n",
       "    <tr>\n",
       "      <th>3</th>\n",
       "      <td>Bunnell S., Gorrell S., Salmon J., Thelin C., ...</td>\n",
       "      <td>57204031131;6602649851;56830076500;57204029674...</td>\n",
       "      <td>Department of Mechanical Engineering, Brigham ...</td>\n",
       "      <td>Bunnell, S., Department of Mechanical Engineer...</td>\n",
       "      <td>Computer-aided engineering; Data-driven engine...</td>\n",
       "    </tr>\n",
       "    <tr>\n",
       "      <th>4</th>\n",
       "      <td>Richardson M., Cannon S., Teichert L., Vance A...</td>\n",
       "      <td>57217149830;57217149403;57217145377;5721714653...</td>\n",
       "      <td>School of Communications, Brigham Young Univer...</td>\n",
       "      <td>Richardson, M., School of Communications, Brig...</td>\n",
       "      <td>Dating; Emerging adults; Mobile phones; Uses a...</td>\n",
       "    </tr>\n",
       "  </tbody>\n",
       "</table>\n",
       "</div>"
      ],
      "text/plain": [
       "                                             Authors  \\\n",
       "0            Gautam A., Crandall J.W., Goodrich M.A.   \n",
       "1  de Moura Oliveira P.B., Hedengren J.D., Boaven...   \n",
       "2                   Hajimirzaie S.M., Hotchkiss R.H.   \n",
       "3  Bunnell S., Gorrell S., Salmon J., Thelin C., ...   \n",
       "4  Richardson M., Cannon S., Teichert L., Vance A...   \n",
       "\n",
       "                                        Author(s) ID  \\\n",
       "0                 57218202833;7004904337;7005513246;   \n",
       "1                  6508306234;9277159100;6507358470;   \n",
       "2                           53879700900;26642910500;   \n",
       "3  57204031131;6602649851;56830076500;57204029674...   \n",
       "4  57217149830;57217149403;57217145377;5721714653...   \n",
       "\n",
       "                                        Affiliations  \\\n",
       "0  Computer Science Department, Brigham Young Uni...   \n",
       "1  INESC-TEC Technology and Science, Campus da FE...   \n",
       "2  Task Committee Secretary and Lead Engineer, Op...   \n",
       "3  Department of Mechanical Engineering, Brigham ...   \n",
       "4  School of Communications, Brigham Young Univer...   \n",
       "\n",
       "                           Authors with affiliations  \\\n",
       "0  Gautam, A., Computer Science Department, Brigh...   \n",
       "1  de Moura Oliveira, P.B., INESC-TEC Technology ...   \n",
       "2  Hajimirzaie, S.M., Task Committee Secretary an...   \n",
       "3  Bunnell, S., Department of Mechanical Engineer...   \n",
       "4  Richardson, M., School of Communications, Brig...   \n",
       "\n",
       "                                     Author Keywords  \n",
       "0  Environment; Goal(s); Intelligent agents; Prof...  \n",
       "1                                                NaN  \n",
       "2                                                NaN  \n",
       "3  Computer-aided engineering; Data-driven engine...  \n",
       "4  Dating; Emerging adults; Mobile phones; Uses a...  "
      ]
     },
     "execution_count": 79,
     "metadata": {},
     "output_type": "execute_result"
    }
   ],
   "source": [
    "authors_df.head()"
   ]
  },
  {
   "cell_type": "code",
   "execution_count": 80,
   "id": "957b09b5-5be0-470f-8a3f-caf0e1f0cdd4",
   "metadata": {},
   "outputs": [
    {
     "data": {
      "text/plain": [
       "['Authors',\n",
       " 'Author(s) ID',\n",
       " 'Affiliations',\n",
       " 'Authors with affiliations',\n",
       " 'Author Keywords']"
      ]
     },
     "execution_count": 80,
     "metadata": {},
     "output_type": "execute_result"
    }
   ],
   "source": [
    "authors_df.columns.to_list()"
   ]
  },
  {
   "cell_type": "code",
   "execution_count": 81,
   "id": "7448a2d8-7ae6-4703-b743-bfcce642b26c",
   "metadata": {},
   "outputs": [
    {
     "name": "stderr",
     "output_type": "stream",
     "text": [
      "/var/folders/mm/5vsgc5194kqf1xnmgq439jww0000gn/T/ipykernel_28756/4027343951.py:1: SettingWithCopyWarning: \n",
      "A value is trying to be set on a copy of a slice from a DataFrame\n",
      "\n",
      "See the caveats in the documentation: https://pandas.pydata.org/pandas-docs/stable/user_guide/indexing.html#returning-a-view-versus-a-copy\n",
      "  authors_df.rename(columns=\n"
     ]
    }
   ],
   "source": [
    "authors_df.rename(columns=\n",
    "              {'Authors':'name', \n",
    "               'Author(s) ID': 'author_ids',\n",
    "               'Affiliations':'affiliation',\n",
    "               'Author Keywords':'author_keywords'}, inplace=True)"
   ]
  },
  {
   "cell_type": "code",
   "execution_count": 82,
   "id": "231f63de-05ef-4326-8dde-643c4cfb8fde",
   "metadata": {},
   "outputs": [
    {
     "data": {
      "text/html": [
       "<div>\n",
       "<style scoped>\n",
       "    .dataframe tbody tr th:only-of-type {\n",
       "        vertical-align: middle;\n",
       "    }\n",
       "\n",
       "    .dataframe tbody tr th {\n",
       "        vertical-align: top;\n",
       "    }\n",
       "\n",
       "    .dataframe thead th {\n",
       "        text-align: right;\n",
       "    }\n",
       "</style>\n",
       "<table border=\"1\" class=\"dataframe\">\n",
       "  <thead>\n",
       "    <tr style=\"text-align: right;\">\n",
       "      <th></th>\n",
       "      <th>name</th>\n",
       "      <th>author_ids</th>\n",
       "      <th>affiliation</th>\n",
       "      <th>Authors with affiliations</th>\n",
       "      <th>author_keywords</th>\n",
       "    </tr>\n",
       "  </thead>\n",
       "  <tbody>\n",
       "    <tr>\n",
       "      <th>0</th>\n",
       "      <td>Gautam A., Crandall J.W., Goodrich M.A.</td>\n",
       "      <td>57218202833;7004904337;7005513246;</td>\n",
       "      <td>Computer Science Department, Brigham Young Uni...</td>\n",
       "      <td>Gautam, A., Computer Science Department, Brigh...</td>\n",
       "      <td>Environment; Goal(s); Intelligent agents; Prof...</td>\n",
       "    </tr>\n",
       "    <tr>\n",
       "      <th>1</th>\n",
       "      <td>de Moura Oliveira P.B., Hedengren J.D., Boaven...</td>\n",
       "      <td>6508306234;9277159100;6507358470;</td>\n",
       "      <td>INESC-TEC Technology and Science, Campus da FE...</td>\n",
       "      <td>de Moura Oliveira, P.B., INESC-TEC Technology ...</td>\n",
       "      <td>NaN</td>\n",
       "    </tr>\n",
       "    <tr>\n",
       "      <th>2</th>\n",
       "      <td>Hajimirzaie S.M., Hotchkiss R.H.</td>\n",
       "      <td>53879700900;26642910500;</td>\n",
       "      <td>Task Committee Secretary and Lead Engineer, Op...</td>\n",
       "      <td>Hajimirzaie, S.M., Task Committee Secretary an...</td>\n",
       "      <td>NaN</td>\n",
       "    </tr>\n",
       "    <tr>\n",
       "      <th>3</th>\n",
       "      <td>Bunnell S., Gorrell S., Salmon J., Thelin C., ...</td>\n",
       "      <td>57204031131;6602649851;56830076500;57204029674...</td>\n",
       "      <td>Department of Mechanical Engineering, Brigham ...</td>\n",
       "      <td>Bunnell, S., Department of Mechanical Engineer...</td>\n",
       "      <td>Computer-aided engineering; Data-driven engine...</td>\n",
       "    </tr>\n",
       "    <tr>\n",
       "      <th>4</th>\n",
       "      <td>Richardson M., Cannon S., Teichert L., Vance A...</td>\n",
       "      <td>57217149830;57217149403;57217145377;5721714653...</td>\n",
       "      <td>School of Communications, Brigham Young Univer...</td>\n",
       "      <td>Richardson, M., School of Communications, Brig...</td>\n",
       "      <td>Dating; Emerging adults; Mobile phones; Uses a...</td>\n",
       "    </tr>\n",
       "  </tbody>\n",
       "</table>\n",
       "</div>"
      ],
      "text/plain": [
       "                                                name  \\\n",
       "0            Gautam A., Crandall J.W., Goodrich M.A.   \n",
       "1  de Moura Oliveira P.B., Hedengren J.D., Boaven...   \n",
       "2                   Hajimirzaie S.M., Hotchkiss R.H.   \n",
       "3  Bunnell S., Gorrell S., Salmon J., Thelin C., ...   \n",
       "4  Richardson M., Cannon S., Teichert L., Vance A...   \n",
       "\n",
       "                                          author_ids  \\\n",
       "0                 57218202833;7004904337;7005513246;   \n",
       "1                  6508306234;9277159100;6507358470;   \n",
       "2                           53879700900;26642910500;   \n",
       "3  57204031131;6602649851;56830076500;57204029674...   \n",
       "4  57217149830;57217149403;57217145377;5721714653...   \n",
       "\n",
       "                                         affiliation  \\\n",
       "0  Computer Science Department, Brigham Young Uni...   \n",
       "1  INESC-TEC Technology and Science, Campus da FE...   \n",
       "2  Task Committee Secretary and Lead Engineer, Op...   \n",
       "3  Department of Mechanical Engineering, Brigham ...   \n",
       "4  School of Communications, Brigham Young Univer...   \n",
       "\n",
       "                           Authors with affiliations  \\\n",
       "0  Gautam, A., Computer Science Department, Brigh...   \n",
       "1  de Moura Oliveira, P.B., INESC-TEC Technology ...   \n",
       "2  Hajimirzaie, S.M., Task Committee Secretary an...   \n",
       "3  Bunnell, S., Department of Mechanical Engineer...   \n",
       "4  Richardson, M., School of Communications, Brig...   \n",
       "\n",
       "                                     author_keywords  \n",
       "0  Environment; Goal(s); Intelligent agents; Prof...  \n",
       "1                                                NaN  \n",
       "2                                                NaN  \n",
       "3  Computer-aided engineering; Data-driven engine...  \n",
       "4  Dating; Emerging adults; Mobile phones; Uses a...  "
      ]
     },
     "execution_count": 82,
     "metadata": {},
     "output_type": "execute_result"
    }
   ],
   "source": [
    "authors_df.head()"
   ]
  },
  {
   "cell_type": "code",
   "execution_count": 105,
   "id": "5516f2d8-452c-4510-b061-571e109f6cd4",
   "metadata": {},
   "outputs": [
    {
     "data": {
      "text/html": [
       "<div>\n",
       "<style scoped>\n",
       "    .dataframe tbody tr th:only-of-type {\n",
       "        vertical-align: middle;\n",
       "    }\n",
       "\n",
       "    .dataframe tbody tr th {\n",
       "        vertical-align: top;\n",
       "    }\n",
       "\n",
       "    .dataframe thead th {\n",
       "        text-align: right;\n",
       "    }\n",
       "</style>\n",
       "<table border=\"1\" class=\"dataframe\">\n",
       "  <thead>\n",
       "    <tr style=\"text-align: right;\">\n",
       "      <th></th>\n",
       "      <th>name</th>\n",
       "      <th>author_ids</th>\n",
       "      <th>affiliation</th>\n",
       "      <th>Authors with affiliations</th>\n",
       "      <th>author_keywords</th>\n",
       "    </tr>\n",
       "  </thead>\n",
       "  <tbody>\n",
       "    <tr>\n",
       "      <th>0</th>\n",
       "      <td>Gautam A., Crandall J.W., Goodrich M.A.</td>\n",
       "      <td>57218202833;7004904337;7005513246;</td>\n",
       "      <td>Computer Science Department, Brigham Young Uni...</td>\n",
       "      <td>Gautam, A., Computer Science Department, Brigh...</td>\n",
       "      <td>Environment; Goal(s); Intelligent agents; Prof...</td>\n",
       "    </tr>\n",
       "  </tbody>\n",
       "</table>\n",
       "</div>"
      ],
      "text/plain": [
       "                                      name  \\\n",
       "0  Gautam A., Crandall J.W., Goodrich M.A.   \n",
       "\n",
       "                           author_ids  \\\n",
       "0  57218202833;7004904337;7005513246;   \n",
       "\n",
       "                                         affiliation  \\\n",
       "0  Computer Science Department, Brigham Young Uni...   \n",
       "\n",
       "                           Authors with affiliations  \\\n",
       "0  Gautam, A., Computer Science Department, Brigh...   \n",
       "\n",
       "                                     author_keywords  \n",
       "0  Environment; Goal(s); Intelligent agents; Prof...  "
      ]
     },
     "execution_count": 105,
     "metadata": {},
     "output_type": "execute_result"
    }
   ],
   "source": [
    "authors_df.head(1)"
   ]
  },
  {
   "cell_type": "code",
   "execution_count": 161,
   "id": "c6fdab85-637d-421f-bae4-c1a630d4c30d",
   "metadata": {},
   "outputs": [],
   "source": [
    "authors = list()"
   ]
  },
  {
   "cell_type": "code",
   "execution_count": 162,
   "id": "ae4c2d17-eab9-45ff-8988-0f6017de4f51",
   "metadata": {},
   "outputs": [],
   "source": [
    "def filter_authors(x):\n",
    "    def filter_affiliations(y):\n",
    "        try:            \n",
    "            aff = y.split(\"., \")\n",
    "            return \"\".join(aff[1:])\n",
    "        except ValueError as e:\n",
    "            print(y)\n",
    "            raise e\n",
    "    names = x['name'].split(\",\") if x['name'] else None\n",
    "    author_ids = x['author_ids'].split(\";\") if x['author_ids'] else None\n",
    "    author_keywords = x['author_keywords'].split(\";\") if x['author_keywords'] and isinstance(x['author_keywords'], str) else None\n",
    "    auth_affiliations = x['Authors with affiliations'].split(\";\") if x['Authors with affiliations'] else None\n",
    "    if not len(author_ids[len(author_ids) - 1]): del author_ids[len(author_ids) - 1]\n",
    "    \n",
    "    if len(names) == len(author_ids) == len(auth_affiliations):\n",
    "        for index, name in enumerate(names):\n",
    "            author = dict() \n",
    "            author['author_id'] = author_ids[index]\n",
    "            author['name'] = name\n",
    "            author['affiliations'] = filter_affiliations(auth_affiliations[index])\n",
    "            author['keywords'] = author_keywords\n",
    "            authors.append(author)"
   ]
  },
  {
   "cell_type": "code",
   "execution_count": 163,
   "id": "98b76d31-1545-4e8c-80e9-28c519a803f4",
   "metadata": {},
   "outputs": [
    {
     "data": {
      "text/plain": [
       "[]"
      ]
     },
     "execution_count": 163,
     "metadata": {},
     "output_type": "execute_result"
    }
   ],
   "source": [
    "authors"
   ]
  },
  {
   "cell_type": "code",
   "execution_count": 164,
   "id": "0946024c-0357-416d-9534-bcc22ddc28fe",
   "metadata": {},
   "outputs": [
    {
     "data": {
      "text/plain": [
       "0      None\n",
       "1      None\n",
       "2      None\n",
       "3      None\n",
       "4      None\n",
       "       ... \n",
       "885    None\n",
       "886    None\n",
       "887    None\n",
       "888    None\n",
       "889    None\n",
       "Length: 890, dtype: object"
      ]
     },
     "execution_count": 164,
     "metadata": {},
     "output_type": "execute_result"
    }
   ],
   "source": [
    "authors_df.apply(lambda x: filter_authors(x), axis=1)"
   ]
  },
  {
   "cell_type": "code",
   "execution_count": 166,
   "id": "fe42f155-d8aa-42ac-980e-5e063b6edc08",
   "metadata": {},
   "outputs": [
    {
     "data": {
      "text/plain": [
       "3974"
      ]
     },
     "execution_count": 166,
     "metadata": {},
     "output_type": "execute_result"
    }
   ],
   "source": [
    "len(authors)"
   ]
  },
  {
   "cell_type": "code",
   "execution_count": 167,
   "id": "e0b51c9e-6e1c-496e-8dfb-e486d6a41be4",
   "metadata": {},
   "outputs": [],
   "source": [
    "d = pd.DataFrame(authors)"
   ]
  },
  {
   "cell_type": "code",
   "execution_count": 174,
   "id": "62fee965-c379-4eeb-a531-f22ed985cb52",
   "metadata": {},
   "outputs": [],
   "source": [
    "d.to_csv(join(data_dir, \"authors.csv\"), index=False)"
   ]
  },
  {
   "cell_type": "code",
   "execution_count": null,
   "id": "8831215c-f458-4565-8505-264c4f42c871",
   "metadata": {},
   "outputs": [],
   "source": []
  }
 ],
 "metadata": {
  "kernelspec": {
   "display_name": "Py SDM",
   "language": "python",
   "name": "sdm"
  },
  "language_info": {
   "codemirror_mode": {
    "name": "ipython",
    "version": 3
   },
   "file_extension": ".py",
   "mimetype": "text/x-python",
   "name": "python",
   "nbconvert_exporter": "python",
   "pygments_lexer": "ipython3",
   "version": "3.8.12"
  }
 },
 "nbformat": 4,
 "nbformat_minor": 5
}
