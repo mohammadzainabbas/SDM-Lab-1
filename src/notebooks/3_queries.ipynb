{
 "cells": [
  {
   "cell_type": "code",
   "execution_count": 1,
   "id": "d0e99e77-826c-4873-b43b-8fa69c3e6260",
   "metadata": {},
   "outputs": [],
   "source": [
    "import pandas as pd\n",
    "from os import getcwd, listdir\n",
    "from os.path import join, isfile, exists, abspath, pardir\n",
    "from sys import path\n",
    "import re"
   ]
  },
  {
   "cell_type": "markdown",
   "id": "a7c5ca11-32f2-48d0-b380-4aed44a49a3b",
   "metadata": {},
   "source": [
    "##### Configs"
   ]
  },
  {
   "cell_type": "code",
   "execution_count": 2,
   "id": "9a8b9c1b-f8d8-4410-97bc-e5ac80844721",
   "metadata": {},
   "outputs": [],
   "source": [
    "database = \"sdm\"\n",
    "parent_dir = abspath(join(join(getcwd(), pardir), pardir))\n",
    "data_dir = join(parent_dir, \"data\")\n",
    "scripts_dir = join(parent_dir, \"src\", \"scripts\")"
   ]
  },
  {
   "cell_type": "code",
   "execution_count": 3,
   "id": "9ab4dbb3-0092-40ac-a86b-fb9577c1023c",
   "metadata": {},
   "outputs": [],
   "source": [
    "path.append(scripts_dir)\n",
    "from connect import Neo4jConnection"
   ]
  },
  {
   "cell_type": "code",
   "execution_count": 4,
   "id": "83bf2854-fbc6-4842-8a2f-27b9fcb76746",
   "metadata": {},
   "outputs": [],
   "source": [
    "driver = Neo4jConnection(uri=\"bolt://localhost:7687\", user=None, pwd=None, database=database)"
   ]
  },
  {
   "cell_type": "markdown",
   "id": "811f6f1a-665c-46f8-ae21-b2ff5cd50dee",
   "metadata": {},
   "source": [
    "##### Helper methods"
   ]
  },
  {
   "cell_type": "code",
   "execution_count": 5,
   "id": "14e4f9b6-2e06-41f5-9409-29d2d304788e",
   "metadata": {},
   "outputs": [],
   "source": [
    "def run_query(query):\n",
    "    \"\"\"\n",
    "    Basic wrapper around 'driver' object\n",
    "    \"\"\"\n",
    "    return driver.query(query)"
   ]
  },
  {
   "cell_type": "markdown",
   "id": "d4bfa1a3-0ce5-400c-8ac6-a1e3245cdfbc",
   "metadata": {},
   "source": [
    "#### Queries"
   ]
  },
  {
   "cell_type": "code",
   "execution_count": 6,
   "id": "e0ab03ed-ea59-46a1-a7f4-62ff1f4d8131",
   "metadata": {},
   "outputs": [],
   "source": [
    "def most_cited_papers():\n",
    "    query = \"\"\"\n",
    "        Match (d:Document)-[r:published_in]->(j:Journal)\n",
    "        Where d.document_type='Conference Paper' and toInteger(d.cited_count) > 0\n",
    "        With j.name as conference, d.title as paper, sum(toInteger(d.cited_count)) as cited_count\n",
    "        order by cited_count desc\n",
    "        return conference, collect(paper)[..3] as papers, collect(cited_count)[..3] as total_cited_count\n",
    "    \"\"\"\n",
    "    run_query(query=query)"
   ]
  },
  {
   "cell_type": "code",
   "execution_count": 7,
   "id": "d1756251-ce3e-4c22-9e3f-86849ede8f99",
   "metadata": {},
   "outputs": [],
   "source": [
    "most_cited_papers()"
   ]
  },
  {
   "cell_type": "code",
   "execution_count": 6,
   "id": "ba25f210-8039-45f5-8111-cdce8a58d316",
   "metadata": {},
   "outputs": [],
   "source": [
    "def community():\n",
    "    query = \"\"\"\n",
    "        MATCH (a:Author)<-[p:written_by]-(d:Document)-[r:published_in]->(j:Journal)\n",
    "        Where d.document_type='Conference Paper'\n",
    "        with j.name as conference, a.author_id as author_id, a.name as author_name, count(p) as count_paper\n",
    "        order by author_name\n",
    "        where count_paper > 3\n",
    "        return conference, collect(author_name) as authors, sum(count_paper) as total_count\n",
    "    \"\"\"\n",
    "    run_query(query=query)"
   ]
  },
  {
   "cell_type": "code",
   "execution_count": 7,
   "id": "1f56bc07-ccb6-470a-a17e-7114a7f7f3fd",
   "metadata": {},
   "outputs": [],
   "source": [
    "community()"
   ]
  },
  {
   "cell_type": "code",
   "execution_count": null,
   "id": "a712c836-a233-4d0f-9904-3fc88bc8154b",
   "metadata": {},
   "outputs": [],
   "source": []
  }
 ],
 "metadata": {
  "kernelspec": {
   "display_name": "Py SDM",
   "language": "python",
   "name": "sdm"
  },
  "language_info": {
   "codemirror_mode": {
    "name": "ipython",
    "version": 3
   },
   "file_extension": ".py",
   "mimetype": "text/x-python",
   "name": "python",
   "nbconvert_exporter": "python",
   "pygments_lexer": "ipython3",
   "version": "3.8.12"
  }
 },
 "nbformat": 4,
 "nbformat_minor": 5
}
