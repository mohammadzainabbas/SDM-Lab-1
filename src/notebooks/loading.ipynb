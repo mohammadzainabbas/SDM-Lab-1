{
 "cells": [
  {
   "cell_type": "code",
   "execution_count": 1,
   "id": "d0e99e77-826c-4873-b43b-8fa69c3e6260",
   "metadata": {},
   "outputs": [],
   "source": [
    "import pandas as pd\n",
    "from os import getcwd, listdir, makedirs\n",
    "from os.path import join, isfile, exists, abspath, pardir\n",
    "from sys import path\n",
    "import re"
   ]
  },
  {
   "cell_type": "markdown",
   "id": "a7c5ca11-32f2-48d0-b380-4aed44a49a3b",
   "metadata": {},
   "source": [
    "##### Configs"
   ]
  },
  {
   "cell_type": "code",
   "execution_count": 2,
   "id": "9a8b9c1b-f8d8-4410-97bc-e5ac80844721",
   "metadata": {},
   "outputs": [],
   "source": [
    "database = \"test\"\n",
    "parent_dir = abspath(join(join(getcwd(), pardir), pardir))\n",
    "data_dir = join(parent_dir, \"data\")\n",
    "scripts_dir = join(parent_dir, \"src\", \"scripts\")"
   ]
  },
  {
   "cell_type": "code",
   "execution_count": 3,
   "id": "9ab4dbb3-0092-40ac-a86b-fb9577c1023c",
   "metadata": {},
   "outputs": [],
   "source": [
    "path.append(scripts_dir)\n",
    "from connect import Neo4jConnection"
   ]
  },
  {
   "cell_type": "code",
   "execution_count": 4,
   "id": "83bf2854-fbc6-4842-8a2f-27b9fcb76746",
   "metadata": {},
   "outputs": [],
   "source": [
    "driver = Neo4jConnection(uri=\"bolt://localhost:7687\", user=None, pwd=None, database=database)"
   ]
  },
  {
   "cell_type": "code",
   "execution_count": 5,
   "id": "f60b0326-dda5-4ff5-b96d-abd95f859534",
   "metadata": {},
   "outputs": [],
   "source": [
    "r = driver.query(\"\"\"\n",
    "Match(n) return n\n",
    "\"\"\")"
   ]
  },
  {
   "cell_type": "code",
   "execution_count": 7,
   "id": "14e4f9b6-2e06-41f5-9409-29d2d304788e",
   "metadata": {},
   "outputs": [],
   "source": [
    "def run_query(query):\n",
    "    \"\"\"\n",
    "    Basic wrapper around 'driver' object\n",
    "    \"\"\"\n",
    "    return driver.query(query)"
   ]
  },
  {
   "cell_type": "code",
   "execution_count": 8,
   "id": "5af03943-4ea4-4d66-ac2a-f33e03d46dfa",
   "metadata": {},
   "outputs": [
    {
     "data": {
      "text/plain": [
       "<neo4j.work.result.Result at 0x7fcaa0033040>"
      ]
     },
     "execution_count": 8,
     "metadata": {},
     "output_type": "execute_result"
    }
   ],
   "source": [
    "run_query(\"\"\"\n",
    "    Match(n) return n\n",
    "\"\"\")"
   ]
  },
  {
   "cell_type": "code",
   "execution_count": null,
   "id": "c39f0f4e-760f-405b-92fd-73fe58ad039d",
   "metadata": {},
   "outputs": [],
   "source": []
  }
 ],
 "metadata": {
  "kernelspec": {
   "display_name": "Py SDM",
   "language": "python",
   "name": "sdm"
  },
  "language_info": {
   "codemirror_mode": {
    "name": "ipython",
    "version": 3
   },
   "file_extension": ".py",
   "mimetype": "text/x-python",
   "name": "python",
   "nbconvert_exporter": "python",
   "pygments_lexer": "ipython3",
   "version": "3.8.12"
  }
 },
 "nbformat": 4,
 "nbformat_minor": 5
}
