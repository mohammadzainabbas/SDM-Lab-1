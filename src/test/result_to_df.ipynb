{
 "cells": [
  {
   "cell_type": "code",
   "execution_count": 1,
   "id": "fd476ff8-a9db-48b4-a713-2a3517cb3533",
   "metadata": {
    "tags": []
   },
   "outputs": [],
   "source": [
    "import pandas as pd\n",
    "from os import getcwd, listdir\n",
    "from os.path import join, isfile, exists, abspath, pardir\n",
    "from sys import path\n",
    "import re"
   ]
  },
  {
   "cell_type": "markdown",
   "id": "16487111-62c8-4869-9552-d8b22c6801ef",
   "metadata": {},
   "source": [
    "##### Configs"
   ]
  },
  {
   "cell_type": "code",
   "execution_count": 2,
   "id": "5976b7bb-dcc2-4043-8d2f-3647f26d7825",
   "metadata": {},
   "outputs": [],
   "source": [
    "database = \"sdm\"\n",
    "parent_dir = abspath(join(join(getcwd(), pardir), pardir))\n",
    "data_dir = join(parent_dir, \"data\")\n",
    "scripts_dir = join(parent_dir, \"src\", \"scripts\")"
   ]
  },
  {
   "cell_type": "code",
   "execution_count": 3,
   "id": "d27b411d-b1f3-4e7d-a154-ab751656cb47",
   "metadata": {},
   "outputs": [],
   "source": [
    "path.append(scripts_dir)\n",
    "from connect import Neo4jConnection"
   ]
  },
  {
   "cell_type": "code",
   "execution_count": 4,
   "id": "fda47ef5-e145-4f46-be67-4f294ddf027f",
   "metadata": {},
   "outputs": [],
   "source": [
    "driver = Neo4jConnection(uri=\"bolt://localhost:7687\", user=None, pwd=None, database=database)"
   ]
  },
  {
   "cell_type": "markdown",
   "id": "b6b53642-09a6-4cc5-8f60-2480a4ed5f86",
   "metadata": {},
   "source": [
    "##### Helper methods"
   ]
  },
  {
   "cell_type": "code",
   "execution_count": 5,
   "id": "6c46aeca-7bad-4180-a2de-5f1082f9cc92",
   "metadata": {},
   "outputs": [],
   "source": [
    "def run_query(query):\n",
    "    \"\"\"\n",
    "    Basic wrapper around 'driver' object\n",
    "    \"\"\"\n",
    "    return driver.query(query)"
   ]
  },
  {
   "cell_type": "code",
   "execution_count": 19,
   "id": "c585aae7-2a68-40d4-b17b-99f49d9f0295",
   "metadata": {},
   "outputs": [],
   "source": [
    "def run_query_with_result(query, **kwargs):\n",
    "    \"\"\"\n",
    "    Basic wrapper around 'driver' object\n",
    "    \"\"\"\n",
    "    return driver.query_with_result(query, **kwargs)"
   ]
  },
  {
   "cell_type": "code",
   "execution_count": 20,
   "id": "5fe84a14-836f-4f7a-bdc8-6c1ea4f7f8c7",
   "metadata": {},
   "outputs": [],
   "source": [
    "q = \"\"\"\n",
    "MATCH c=(a:Author)<-[p:written_by]-(d:Document)-[r:published_in]->(j:Journal)\n",
    "RETURN c limit 10\n",
    "\"\"\""
   ]
  },
  {
   "cell_type": "code",
   "execution_count": 21,
   "id": "ffe7ae58-5727-4b34-8139-94b644f87964",
   "metadata": {},
   "outputs": [
    {
     "data": {
      "text/plain": [
       "[[<Path start=<Node id=8152 labels=frozenset({'Author'}) properties={'keywords': \"['Computer-aided engineering', ' Data-driven engineering', 'Collaboration', ' Cybersickness', ' Immersive', ' Spatial awareness', ' Viewpoint', ' Viewpoint sharing', ' Virtual Reality', 'Envelope Methods', ' Multi-Resolution', ' Multi-User CAD', ' Partitioning Methods', ' Planar Decomposition', 'Computer vision', ' Image processing', ' Machine learning', ' Mode shape identification', ' PCA', 'Assembly simplification', ' Computer-aided design', ' External geometry', ' Ray casting', 'Assembly simplification', ' Computer-aided design', ' External geometry', ' Ray casting', 'mapping', ' multi-robot systems', ' SLAM', 'Design intent', ' Neutral format', ' Parametric design', ' XML', 'Assembly simplification', ' Computer-aided design', ' External geometry', ' Ray casting', 'mapping', ' multi-robot systems', ' SLAM', 'mapping', ' multi-robot systems', ' SLAM', '3D printing. rapid prototyping', ' modeling', ' proof of concept', ' user testing', ' Virtual reality', 'Criteria pollutants', ' Electric vehicles', ' Environmental impact', ' Inversion', ' Modeling and simulation', 'CAD', ' Computer-aided engineering model interaction', ' Data translation', ' Virtual reality', 'Collaborative design', ' Group dynamics', ' Multi-user CAD', 'CAD Database', ' Interoperability', ' Multi-User', ' PLM', 'collaborative design', ' concurrent engineering', ' Multi-user CAD', 'collaboration', ' design intent', ' heterogeneous CAD', ' Interoperability', 'high-density', ' modeling and simulation', ' Multi-agent modeling', ' UAV systems', ' unmanned aerial vehicles', '3D printing. rapid prototyping', ' modeling', ' proof of concept', ' user testing', ' Virtual reality', '3D printing. rapid prototyping', ' modeling', ' proof of concept', ' user testing', ' Virtual reality']\", 'name': ' Salmon J.L.', 'affiliations': \"['Department of Mechanical Engineering, Brigham Young University, Provo, UT  8460, United States', 'Brigham Young University, Provo, UT  84602, United States', 'Brigham Young University, United States', 'Brigham Young University, Department of Mechanical Engineering, Provo, UT  84602, United States', 'Department of Mechanical Engineering, 360D EB, Brigham Young University, Provo, UT  84602, United States', 'Brigham Young University, Department of Mechanical Engineering, Provo, UT, United States', 'Brigham Young University, United States', 'Brigham Young University, United States', 'Brigham Young University, United States', 'Department of Mechanical Engineering, Brigham Young University, Provo, UT  84602, United States', 'Department of Mechanical Engineering, Brigham Young University, Provo, UT  84602, United States', 'Department of Mechanical Engineering, Brigham Young University, Provo, UT  84602, United States', 'Brigham Young University, United States', 'Brigham Young University, United States', 'Department of Mechanical Engineering, Brigham Young University, Provo, Utah, 84602, United States', 'Department of Mechanical Engineering, Brigham Young University, Provo, UT  84602, United States', 'Dept. of Mechanical Engineering, Brigham Young University, Provo, UT  84602, United States', 'Department of Mechanical Engineering, Brigham Young University, Provo, UT  84602, United States', 'Department of Mechanical Engineering, Brigham Young University, Provo, UT  84602, United States', 'Brigham Young University, United States', 'Department of Mechanical Engineering, Brigham Young University, Provo, UT  84602, United States', 'Brigham Young University, United States', 'Department of Mechanical Engineering, Brigham Young University, Provo, UT  84602, United States']\", 'author_id': 56830076500}> end=<Node id=0 labels=frozenset({'Journal'}) properties={'volume': '16', 'year': 2019, 'name': 'Computer-Aided Design and Applications'}> size=2>],\n",
       " [<Path start=<Node id=9201 labels=frozenset({'Author'}) properties={'keywords': \"['Assembly simplification', ' Computer-aided design', ' External geometry', ' Ray casting', 'mapping', ' multi-robot systems', ' SLAM', 'mapping', ' multi-robot systems', ' SLAM', '3D printing. rapid prototyping', ' modeling', ' proof of concept', ' user testing', ' Virtual reality']\", 'name': ' Wright L.', 'affiliations': \"['Brigham Young University, United States', 'Brigham Young University, United States', 'Department of Mechanical Engineering, Brigham Young University, Provo, UT  84602, United States']\", 'author_id': 57193360481}> end=<Node id=0 labels=frozenset({'Journal'}) properties={'volume': '16', 'year': 2019, 'name': 'Computer-Aided Design and Applications'}> size=2>],\n",
       " [<Path start=<Node id=9368 labels=frozenset({'Author'}) properties={'keywords': \"['3D printing. rapid prototyping', ' modeling', ' proof of concept', ' user testing', ' Virtual reality']\", 'name': 'Feeman S.M.', 'affiliations': \"['Brigham Young University, United States']\", 'author_id': 57201742316}> end=<Node id=0 labels=frozenset({'Journal'}) properties={'volume': '16', 'year': 2019, 'name': 'Computer-Aided Design and Applications'}> size=2>],\n",
       " [<Path start=<Node id=9132 labels=frozenset({'Author'}) properties={'keywords': \"['Design intent', ' Neutral format', ' Parametric design', ' XML', 'CAD Database', ' Interoperability', ' Multi-User', ' PLM']\", 'name': ' Sadler J.', 'affiliations': \"['Brigham Young University, United States', 'Brigham Young University, United States']\", 'author_id': 57197737083}> end=<Node id=0 labels=frozenset({'Journal'}) properties={'volume': '16', 'year': 2019, 'name': 'Computer-Aided Design and Applications'}> size=2>],\n",
       " [<Path start=<Node id=9134 labels=frozenset({'Author'}) properties={'keywords': \"['Design intent', ' Neutral format', ' Parametric design', ' XML']\", 'name': ' Bronson P.G.', 'affiliations': \"['Brigham Young University, United States']\", 'author_id': 57205766759}> end=<Node id=0 labels=frozenset({'Journal'}) properties={'volume': '16', 'year': 2019, 'name': 'Computer-Aided Design and Applications'}> size=2>],\n",
       " [<Path start=<Node id=9135 labels=frozenset({'Author'}) properties={'keywords': \"['Design intent', ' Neutral format', ' Parametric design', ' XML']\", 'name': ' Tovar J.L.', 'affiliations': \"['Brigham Young University, United States']\", 'author_id': 57205762398}> end=<Node id=0 labels=frozenset({'Journal'}) properties={'volume': '16', 'year': 2019, 'name': 'Computer-Aided Design and Applications'}> size=2>],\n",
       " [<Path start=<Node id=8152 labels=frozenset({'Author'}) properties={'keywords': \"['Computer-aided engineering', ' Data-driven engineering', 'Collaboration', ' Cybersickness', ' Immersive', ' Spatial awareness', ' Viewpoint', ' Viewpoint sharing', ' Virtual Reality', 'Envelope Methods', ' Multi-Resolution', ' Multi-User CAD', ' Partitioning Methods', ' Planar Decomposition', 'Computer vision', ' Image processing', ' Machine learning', ' Mode shape identification', ' PCA', 'Assembly simplification', ' Computer-aided design', ' External geometry', ' Ray casting', 'Assembly simplification', ' Computer-aided design', ' External geometry', ' Ray casting', 'mapping', ' multi-robot systems', ' SLAM', 'Design intent', ' Neutral format', ' Parametric design', ' XML', 'Assembly simplification', ' Computer-aided design', ' External geometry', ' Ray casting', 'mapping', ' multi-robot systems', ' SLAM', 'mapping', ' multi-robot systems', ' SLAM', '3D printing. rapid prototyping', ' modeling', ' proof of concept', ' user testing', ' Virtual reality', 'Criteria pollutants', ' Electric vehicles', ' Environmental impact', ' Inversion', ' Modeling and simulation', 'CAD', ' Computer-aided engineering model interaction', ' Data translation', ' Virtual reality', 'Collaborative design', ' Group dynamics', ' Multi-user CAD', 'CAD Database', ' Interoperability', ' Multi-User', ' PLM', 'collaborative design', ' concurrent engineering', ' Multi-user CAD', 'collaboration', ' design intent', ' heterogeneous CAD', ' Interoperability', 'high-density', ' modeling and simulation', ' Multi-agent modeling', ' UAV systems', ' unmanned aerial vehicles', '3D printing. rapid prototyping', ' modeling', ' proof of concept', ' user testing', ' Virtual reality', '3D printing. rapid prototyping', ' modeling', ' proof of concept', ' user testing', ' Virtual reality']\", 'name': ' Salmon J.L.', 'affiliations': \"['Department of Mechanical Engineering, Brigham Young University, Provo, UT  8460, United States', 'Brigham Young University, Provo, UT  84602, United States', 'Brigham Young University, United States', 'Brigham Young University, Department of Mechanical Engineering, Provo, UT  84602, United States', 'Department of Mechanical Engineering, 360D EB, Brigham Young University, Provo, UT  84602, United States', 'Brigham Young University, Department of Mechanical Engineering, Provo, UT, United States', 'Brigham Young University, United States', 'Brigham Young University, United States', 'Brigham Young University, United States', 'Department of Mechanical Engineering, Brigham Young University, Provo, UT  84602, United States', 'Department of Mechanical Engineering, Brigham Young University, Provo, UT  84602, United States', 'Department of Mechanical Engineering, Brigham Young University, Provo, UT  84602, United States', 'Brigham Young University, United States', 'Brigham Young University, United States', 'Department of Mechanical Engineering, Brigham Young University, Provo, Utah, 84602, United States', 'Department of Mechanical Engineering, Brigham Young University, Provo, UT  84602, United States', 'Dept. of Mechanical Engineering, Brigham Young University, Provo, UT  84602, United States', 'Department of Mechanical Engineering, Brigham Young University, Provo, UT  84602, United States', 'Department of Mechanical Engineering, Brigham Young University, Provo, UT  84602, United States', 'Brigham Young University, United States', 'Department of Mechanical Engineering, Brigham Young University, Provo, UT  84602, United States', 'Brigham Young University, United States', 'Department of Mechanical Engineering, Brigham Young University, Provo, UT  84602, United States']\", 'author_id': 56830076500}> end=<Node id=0 labels=frozenset({'Journal'}) properties={'volume': '16', 'year': 2019, 'name': 'Computer-Aided Design and Applications'}> size=2>],\n",
       " [<Path start=<Node id=9133 labels=frozenset({'Author'}) properties={'keywords': \"['Design intent', ' Neutral format', ' Parametric design', ' XML']\", 'name': ' Day R.D.', 'affiliations': \"['Brigham Young University, United States']\", 'author_id': 57205761514}> end=<Node id=0 labels=frozenset({'Journal'}) properties={'volume': '16', 'year': 2019, 'name': 'Computer-Aided Design and Applications'}> size=2>],\n",
       " [<Path start=<Node id=9714 labels=frozenset({'Author'}) properties={'keywords': \"['Collaborative learning', ' Computer-mediated-communication', ' Systems engineering', ' Virtual teams', 'Distance learning', ' Multi-university capstone', ' Team performance', ' Virtual teams', 'collaborative design', ' concurrent engineering', ' Multi-user CAD']\", 'name': 'Stone B.', 'affiliations': \"['Brigham Young University, 435 CTB, Provo, UT  84602, United States', '435P CTB, Brigham Young University, Provo, UT  84602, United States', 'Department of Mechanical Engineering, Brigham Young University, Provo, UT  84602, United States', 'Brigham Young University, United States']\", 'author_id': 56300864300}> end=<Node id=0 labels=frozenset({'Journal'}) properties={'volume': '16', 'year': 2019, 'name': 'Computer-Aided Design and Applications'}> size=2>],\n",
       " [<Path start=<Node id=9085 labels=frozenset({'Author'}) properties={'keywords': \"['Computer vision', ' Image processing', ' Machine learning', ' Mode shape identification', ' PCA', 'Assembly simplification', ' Computer-aided design', ' External geometry', ' Ray casting', 'Assembly simplification', ' Computer-aided design', ' External geometry', ' Ray casting', 'mapping', ' multi-robot systems', ' SLAM', 'collaborative design', ' concurrent engineering', ' Multi-user CAD']\", 'name': ' La A.', 'affiliations': \"['Brigham Young University, Department of Mechanical Engineering, Provo, UT, United States', 'Brigham Young University, United States']\", 'author_id': 57192955909}> end=<Node id=0 labels=frozenset({'Journal'}) properties={'volume': '16', 'year': 2019, 'name': 'Computer-Aided Design and Applications'}> size=2>]]"
      ]
     },
     "execution_count": 21,
     "metadata": {},
     "output_type": "execute_result"
    }
   ],
   "source": [
    "run_query_with_result(q, raw=True)"
   ]
  },
  {
   "cell_type": "code",
   "execution_count": 8,
   "id": "0e4677ef-c840-4734-96f4-97e967eb2129",
   "metadata": {},
   "outputs": [],
   "source": [
    "from neo4j import GraphDatabase"
   ]
  },
  {
   "cell_type": "code",
   "execution_count": 9,
   "id": "e5c3e11a-79a2-4ed3-b9f7-afaabdf8e426",
   "metadata": {},
   "outputs": [],
   "source": [
    "driver = GraphDatabase.driver(\"bolt://localhost:7687\")"
   ]
  },
  {
   "cell_type": "code",
   "execution_count": 59,
   "id": "49aa312e-d43f-4f58-904c-af5472e65955",
   "metadata": {},
   "outputs": [],
   "source": [
    "def get_two_tx(tx):\n",
    "    result = tx.run(\"\"\"\n",
    "        Match (d:Document)-[r:published_in]->(j:Journal)\n",
    "        Where d.document_type='Conference Paper' and toInteger(d.cited_count) > 0\n",
    "        With j.name as conference, d.title as paper, sum(toInteger(d.cited_count)) as cited_count\n",
    "        order by cited_count desc\n",
    "        return conference, collect(paper)[..3] as papers, collect(cited_count)[..3] as total_cited_count\n",
    "    \"\"\")\n",
    "    values = list()\n",
    "    for ix, record in enumerate(result):\n",
    "        # if ix > 1:\n",
    "        #     break\n",
    "        value = record.values()\n",
    "        if value:\n",
    "            # if isinstance(value, list) and len(value):\n",
    "            #     value = value[0]\n",
    "            values.append(value)\n",
    "    info = result.consume()  # discard the remaining records if there are any\n",
    "    # use the info for logging etc.\n",
    "    return values, info"
   ]
  },
  {
   "cell_type": "code",
   "execution_count": 60,
   "id": "9b4a47db-616a-4ad3-b139-1ea88b6d8498",
   "metadata": {},
   "outputs": [],
   "source": [
    "with driver.session(database=database) as session:\n",
    "    values, info = session.read_transaction(get_two_tx)"
   ]
  },
  {
   "cell_type": "code",
   "execution_count": null,
   "id": "c9952e02-b72c-4fd6-b9d8-e47f4e01c52d",
   "metadata": {},
   "outputs": [],
   "source": [
    "pd.DataFrame(values)"
   ]
  },
  {
   "cell_type": "code",
   "execution_count": 85,
   "id": "cc59b6a8-c8fa-4dca-b907-08b018c0b0a6",
   "metadata": {},
   "outputs": [],
   "source": [
    "values = list()\n",
    "for ix, record in enumerate(run_query(q)):\n",
    "    # if ix > 1:\n",
    "    #     break\n",
    "    value = record.values()\n",
    "    if value:\n",
    "        # if isinstance(value, list) and len(value):\n",
    "        #     value = value[0]\n",
    "        values.append(value)\n",
    "# info = r.consume()"
   ]
  },
  {
   "cell_type": "code",
   "execution_count": 86,
   "id": "4266df11-49d5-4676-9831-39f77bbe2fea",
   "metadata": {},
   "outputs": [
    {
     "data": {
      "text/plain": [
       "[]"
      ]
     },
     "execution_count": 86,
     "metadata": {},
     "output_type": "execute_result"
    }
   ],
   "source": [
    "values"
   ]
  },
  {
   "cell_type": "code",
   "execution_count": null,
   "id": "d7f9d7e6-2a77-44af-a065-e5fa9246d20b",
   "metadata": {},
   "outputs": [],
   "source": []
  }
 ],
 "metadata": {
  "kernelspec": {
   "display_name": "Py SDM",
   "language": "python",
   "name": "sdm"
  },
  "language_info": {
   "codemirror_mode": {
    "name": "ipython",
    "version": 3
   },
   "file_extension": ".py",
   "mimetype": "text/x-python",
   "name": "python",
   "nbconvert_exporter": "python",
   "pygments_lexer": "ipython3",
   "version": "3.8.12"
  }
 },
 "nbformat": 4,
 "nbformat_minor": 5
}
