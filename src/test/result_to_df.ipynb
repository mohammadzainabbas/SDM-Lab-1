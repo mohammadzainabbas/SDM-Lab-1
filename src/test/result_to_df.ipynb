{
 "cells": [
  {
   "cell_type": "code",
   "execution_count": 1,
   "id": "fd476ff8-a9db-48b4-a713-2a3517cb3533",
   "metadata": {
    "tags": []
   },
   "outputs": [],
   "source": [
    "import pandas as pd\n",
    "from os import getcwd, listdir\n",
    "from os.path import join, isfile, exists, abspath, pardir\n",
    "from sys import path\n",
    "import re"
   ]
  },
  {
   "cell_type": "markdown",
   "id": "16487111-62c8-4869-9552-d8b22c6801ef",
   "metadata": {},
   "source": [
    "##### Configs"
   ]
  },
  {
   "cell_type": "code",
   "execution_count": 2,
   "id": "5976b7bb-dcc2-4043-8d2f-3647f26d7825",
   "metadata": {},
   "outputs": [],
   "source": [
    "database = \"sdm\"\n",
    "parent_dir = abspath(join(join(getcwd(), pardir), pardir))\n",
    "data_dir = join(parent_dir, \"data\")\n",
    "scripts_dir = join(parent_dir, \"src\", \"scripts\")"
   ]
  },
  {
   "cell_type": "code",
   "execution_count": 3,
   "id": "19f2b2f4-215f-4b2b-90a7-c84bad23c1d8",
   "metadata": {},
   "outputs": [],
   "source": [
    "path.append(scripts_dir)"
   ]
  },
  {
   "cell_type": "code",
   "execution_count": 4,
   "id": "18254119-736e-4305-af79-a6ecf6137033",
   "metadata": {},
   "outputs": [],
   "source": [
    "from connect import Neo4jConnection\n",
    "import utils "
   ]
  },
  {
   "cell_type": "code",
   "execution_count": 5,
   "id": "fda47ef5-e145-4f46-be67-4f294ddf027f",
   "metadata": {},
   "outputs": [],
   "source": [
    "driver = Neo4jConnection(uri=\"bolt://localhost:7687\", user=None, pwd=None, database=database)"
   ]
  },
  {
   "cell_type": "code",
   "execution_count": 6,
   "id": "5fe84a14-836f-4f7a-bdc8-6c1ea4f7f8c7",
   "metadata": {},
   "outputs": [],
   "source": [
    "q = \"\"\"\n",
    "MATCH c=(a:Author)<-[p:written_by]-(d:Document)-[r:published_in]->(j:Journal)\n",
    "RETURN c limit 10\n",
    "\"\"\""
   ]
  },
  {
   "cell_type": "code",
   "execution_count": 8,
   "id": "ffe7ae58-5727-4b34-8139-94b644f87964",
   "metadata": {},
   "outputs": [
    {
     "ename": "TypeError",
     "evalue": "run_query_with_result() takes 1 positional argument but 2 were given",
     "output_type": "error",
     "traceback": [
      "\u001b[0;31m---------------------------------------------------------------------------\u001b[0m",
      "\u001b[0;31mTypeError\u001b[0m                                 Traceback (most recent call last)",
      "Input \u001b[0;32mIn [8]\u001b[0m, in \u001b[0;36m<cell line: 1>\u001b[0;34m()\u001b[0m\n\u001b[0;32m----> 1\u001b[0m \u001b[43mutils\u001b[49m\u001b[38;5;241;43m.\u001b[39;49m\u001b[43mrun_query_with_result\u001b[49m\u001b[43m(\u001b[49m\u001b[43mdriver\u001b[49m\u001b[43m,\u001b[49m\u001b[43m \u001b[49m\u001b[43mq\u001b[49m\u001b[43m,\u001b[49m\u001b[43m \u001b[49m\u001b[43mraw\u001b[49m\u001b[38;5;241;43m=\u001b[39;49m\u001b[38;5;28;43;01mTrue\u001b[39;49;00m\u001b[43m)\u001b[49m\n",
      "\u001b[0;31mTypeError\u001b[0m: run_query_with_result() takes 1 positional argument but 2 were given"
     ]
    }
   ],
   "source": [
    "utils.run_query_with_result(driver, q, raw=True)"
   ]
  },
  {
   "cell_type": "code",
   "execution_count": 8,
   "id": "0e4677ef-c840-4734-96f4-97e967eb2129",
   "metadata": {},
   "outputs": [],
   "source": [
    "from neo4j import GraphDatabase"
   ]
  },
  {
   "cell_type": "code",
   "execution_count": 9,
   "id": "e5c3e11a-79a2-4ed3-b9f7-afaabdf8e426",
   "metadata": {},
   "outputs": [],
   "source": [
    "driver = GraphDatabase.driver(\"bolt://localhost:7687\")"
   ]
  },
  {
   "cell_type": "code",
   "execution_count": 59,
   "id": "49aa312e-d43f-4f58-904c-af5472e65955",
   "metadata": {},
   "outputs": [],
   "source": [
    "def get_two_tx(tx):\n",
    "    result = tx.run(\"\"\"\n",
    "        Match (d:Document)-[r:published_in]->(j:Journal)\n",
    "        Where d.document_type='Conference Paper' and toInteger(d.cited_count) > 0\n",
    "        With j.name as conference, d.title as paper, sum(toInteger(d.cited_count)) as cited_count\n",
    "        order by cited_count desc\n",
    "        return conference, collect(paper)[..3] as papers, collect(cited_count)[..3] as total_cited_count\n",
    "    \"\"\")\n",
    "    values = list()\n",
    "    for ix, record in enumerate(result):\n",
    "        # if ix > 1:\n",
    "        #     break\n",
    "        value = record.values()\n",
    "        if value:\n",
    "            # if isinstance(value, list) and len(value):\n",
    "            #     value = value[0]\n",
    "            values.append(value)\n",
    "    info = result.consume()  # discard the remaining records if there are any\n",
    "    # use the info for logging etc.\n",
    "    return values, info"
   ]
  },
  {
   "cell_type": "code",
   "execution_count": 60,
   "id": "9b4a47db-616a-4ad3-b139-1ea88b6d8498",
   "metadata": {},
   "outputs": [],
   "source": [
    "with driver.session(database=database) as session:\n",
    "    values, info = session.read_transaction(get_two_tx)"
   ]
  },
  {
   "cell_type": "code",
   "execution_count": null,
   "id": "c9952e02-b72c-4fd6-b9d8-e47f4e01c52d",
   "metadata": {},
   "outputs": [],
   "source": [
    "pd.DataFrame(values)"
   ]
  },
  {
   "cell_type": "code",
   "execution_count": 85,
   "id": "cc59b6a8-c8fa-4dca-b907-08b018c0b0a6",
   "metadata": {},
   "outputs": [],
   "source": [
    "values = list()\n",
    "for ix, record in enumerate(run_query(q)):\n",
    "    # if ix > 1:\n",
    "    #     break\n",
    "    value = record.values()\n",
    "    if value:\n",
    "        # if isinstance(value, list) and len(value):\n",
    "        #     value = value[0]\n",
    "        values.append(value)\n",
    "# info = r.consume()"
   ]
  },
  {
   "cell_type": "code",
   "execution_count": 86,
   "id": "4266df11-49d5-4676-9831-39f77bbe2fea",
   "metadata": {},
   "outputs": [
    {
     "data": {
      "text/plain": [
       "[]"
      ]
     },
     "execution_count": 86,
     "metadata": {},
     "output_type": "execute_result"
    }
   ],
   "source": [
    "values"
   ]
  },
  {
   "cell_type": "code",
   "execution_count": null,
   "id": "d7f9d7e6-2a77-44af-a065-e5fa9246d20b",
   "metadata": {},
   "outputs": [],
   "source": []
  }
 ],
 "metadata": {
  "kernelspec": {
   "display_name": "Py SDM",
   "language": "python",
   "name": "sdm"
  },
  "language_info": {
   "codemirror_mode": {
    "name": "ipython",
    "version": 3
   },
   "file_extension": ".py",
   "mimetype": "text/x-python",
   "name": "python",
   "nbconvert_exporter": "python",
   "pygments_lexer": "ipython3",
   "version": "3.8.12"
  }
 },
 "nbformat": 4,
 "nbformat_minor": 5
}
