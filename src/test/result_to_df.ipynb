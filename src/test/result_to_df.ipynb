{
 "cells": [
  {
   "cell_type": "code",
   "execution_count": 1,
   "id": "fd476ff8-a9db-48b4-a713-2a3517cb3533",
   "metadata": {
    "tags": []
   },
   "outputs": [],
   "source": [
    "import pandas as pd\n",
    "from os import getcwd, listdir\n",
    "from os.path import join, isfile, exists, abspath, pardir\n",
    "from sys import path\n",
    "import re"
   ]
  },
  {
   "cell_type": "markdown",
   "id": "16487111-62c8-4869-9552-d8b22c6801ef",
   "metadata": {},
   "source": [
    "##### Configs"
   ]
  },
  {
   "cell_type": "code",
   "execution_count": 2,
   "id": "5976b7bb-dcc2-4043-8d2f-3647f26d7825",
   "metadata": {},
   "outputs": [],
   "source": [
    "database = \"sdm\"\n",
    "parent_dir = abspath(join(join(getcwd(), pardir), pardir))\n",
    "data_dir = join(parent_dir, \"data\")\n",
    "scripts_dir = join(parent_dir, \"src\", \"scripts\")"
   ]
  },
  {
   "cell_type": "code",
   "execution_count": 3,
   "id": "d27b411d-b1f3-4e7d-a154-ab751656cb47",
   "metadata": {},
   "outputs": [],
   "source": [
    "path.append(scripts_dir)\n",
    "from connect import Neo4jConnection"
   ]
  },
  {
   "cell_type": "code",
   "execution_count": 4,
   "id": "fda47ef5-e145-4f46-be67-4f294ddf027f",
   "metadata": {},
   "outputs": [],
   "source": [
    "driver = Neo4jConnection(uri=\"bolt://localhost:7687\", user=None, pwd=None, database=database)"
   ]
  },
  {
   "cell_type": "markdown",
   "id": "b6b53642-09a6-4cc5-8f60-2480a4ed5f86",
   "metadata": {},
   "source": [
    "##### Helper methods"
   ]
  },
  {
   "cell_type": "code",
   "execution_count": 5,
   "id": "6c46aeca-7bad-4180-a2de-5f1082f9cc92",
   "metadata": {},
   "outputs": [],
   "source": [
    "def run_query(query):\n",
    "    \"\"\"\n",
    "    Basic wrapper around 'driver' object\n",
    "    \"\"\"\n",
    "    return driver.query(query)"
   ]
  },
  {
   "cell_type": "code",
   "execution_count": 6,
   "id": "c585aae7-2a68-40d4-b17b-99f49d9f0295",
   "metadata": {},
   "outputs": [],
   "source": [
    "def run_query_with_result(query):\n",
    "    \"\"\"\n",
    "    Basic wrapper around 'driver' object\n",
    "    \"\"\"\n",
    "    return driver.query_with_result(query)"
   ]
  },
  {
   "cell_type": "code",
   "execution_count": 7,
   "id": "5fe84a14-836f-4f7a-bdc8-6c1ea4f7f8c7",
   "metadata": {},
   "outputs": [],
   "source": [
    "q = \"\"\"\n",
    "        Match (d:Document)-[r:published_in]->(j:Journal)\n",
    "        Where d.document_type='Conference Paper' and toInteger(d.cited_count) > 0\n",
    "        With j.name as conference, d.title as paper, sum(toInteger(d.cited_count)) as cited_count\n",
    "        order by cited_count desc\n",
    "        return conference, collect(paper)[..3] as papers, collect(cited_count)[..3] as total_cited_count\n",
    "    \"\"\""
   ]
  },
  {
   "cell_type": "code",
   "execution_count": 8,
   "id": "ffe7ae58-5727-4b34-8139-94b644f87964",
   "metadata": {},
   "outputs": [
    {
     "name": "stdout",
     "output_type": "stream",
     "text": [
      "type(result): <class 'neo4j.work.result.Result'>\n",
      "list(result.keys()): ['conference', 'papers', 'total_cited_count']\n"
     ]
    }
   ],
   "source": [
    "d, c = run_query_with_result(q)"
   ]
  },
  {
   "cell_type": "code",
   "execution_count": 13,
   "id": "ab929449-1386-4147-abb1-fa43876ee3aa",
   "metadata": {},
   "outputs": [
    {
     "data": {
      "text/html": [
       "<div>\n",
       "<style scoped>\n",
       "    .dataframe tbody tr th:only-of-type {\n",
       "        vertical-align: middle;\n",
       "    }\n",
       "\n",
       "    .dataframe tbody tr th {\n",
       "        vertical-align: top;\n",
       "    }\n",
       "\n",
       "    .dataframe thead th {\n",
       "        text-align: right;\n",
       "    }\n",
       "</style>\n",
       "<table border=\"1\" class=\"dataframe\">\n",
       "  <thead>\n",
       "    <tr style=\"text-align: right;\">\n",
       "      <th></th>\n",
       "      <th>0</th>\n",
       "      <th>1</th>\n",
       "      <th>2</th>\n",
       "    </tr>\n",
       "  </thead>\n",
       "  <tbody>\n",
       "    <tr>\n",
       "      <th>0</th>\n",
       "      <td>Proceedings of SPIE - The International Societ...</td>\n",
       "      <td>[Near-to-eye electroholography via guided-wave...</td>\n",
       "      <td>[165, 45, 30]</td>\n",
       "    </tr>\n",
       "    <tr>\n",
       "      <th>1</th>\n",
       "      <td>Proceedings of the ASME Design Engineering Tec...</td>\n",
       "      <td>[Kinematics and discretization of curved-fold ...</td>\n",
       "      <td>[65, 52, 39]</td>\n",
       "    </tr>\n",
       "    <tr>\n",
       "      <th>2</th>\n",
       "      <td>Proceedings of the ASME Turbo Expo</td>\n",
       "      <td>[Predicting efficiency of a turbine driven by ...</td>\n",
       "      <td>[54, 24, 18]</td>\n",
       "    </tr>\n",
       "    <tr>\n",
       "      <th>3</th>\n",
       "      <td>Proceedings of the American Control Conference</td>\n",
       "      <td>[A Class of Logistic Functions for Approximati...</td>\n",
       "      <td>[24, 12, 8]</td>\n",
       "    </tr>\n",
       "    <tr>\n",
       "      <th>4</th>\n",
       "      <td>Optics InfoBase Conference Papers</td>\n",
       "      <td>[3D hydrodynamic focusing for optofluidics usi...</td>\n",
       "      <td>[18, 9]</td>\n",
       "    </tr>\n",
       "    <tr>\n",
       "      <th>...</th>\n",
       "      <td>...</td>\n",
       "      <td>...</td>\n",
       "      <td>...</td>\n",
       "    </tr>\n",
       "    <tr>\n",
       "      <th>89</th>\n",
       "      <td>Proceedings of the 20th International Conferen...</td>\n",
       "      <td>[Using instagram to increase student engagemen...</td>\n",
       "      <td>[1, 1]</td>\n",
       "    </tr>\n",
       "    <tr>\n",
       "      <th>90</th>\n",
       "      <td>2018 Aviation Technology, Integration, and Ope...</td>\n",
       "      <td>[Exploration of three dimensional, hierarchica...</td>\n",
       "      <td>[1]</td>\n",
       "    </tr>\n",
       "    <tr>\n",
       "      <th>91</th>\n",
       "      <td>Proceedings of the International Masonry Socie...</td>\n",
       "      <td>[Strut-and-tie models for masonry walls with o...</td>\n",
       "      <td>[1]</td>\n",
       "    </tr>\n",
       "    <tr>\n",
       "      <th>92</th>\n",
       "      <td>Wind Energy Symposium, 2018</td>\n",
       "      <td>[Benefits of two turbine rotor diameters and h...</td>\n",
       "      <td>[1]</td>\n",
       "    </tr>\n",
       "    <tr>\n",
       "      <th>93</th>\n",
       "      <td>AIAA Spacecraft Structures Conference, 2018</td>\n",
       "      <td>[Folding approaches for tensioned precision pl...</td>\n",
       "      <td>[1]</td>\n",
       "    </tr>\n",
       "  </tbody>\n",
       "</table>\n",
       "<p>94 rows × 3 columns</p>\n",
       "</div>"
      ],
      "text/plain": [
       "                                                    0  \\\n",
       "0   Proceedings of SPIE - The International Societ...   \n",
       "1   Proceedings of the ASME Design Engineering Tec...   \n",
       "2                  Proceedings of the ASME Turbo Expo   \n",
       "3      Proceedings of the American Control Conference   \n",
       "4                   Optics InfoBase Conference Papers   \n",
       "..                                                ...   \n",
       "89  Proceedings of the 20th International Conferen...   \n",
       "90  2018 Aviation Technology, Integration, and Ope...   \n",
       "91  Proceedings of the International Masonry Socie...   \n",
       "92                        Wind Energy Symposium, 2018   \n",
       "93        AIAA Spacecraft Structures Conference, 2018   \n",
       "\n",
       "                                                    1              2  \n",
       "0   [Near-to-eye electroholography via guided-wave...  [165, 45, 30]  \n",
       "1   [Kinematics and discretization of curved-fold ...   [65, 52, 39]  \n",
       "2   [Predicting efficiency of a turbine driven by ...   [54, 24, 18]  \n",
       "3   [A Class of Logistic Functions for Approximati...    [24, 12, 8]  \n",
       "4   [3D hydrodynamic focusing for optofluidics usi...        [18, 9]  \n",
       "..                                                ...            ...  \n",
       "89  [Using instagram to increase student engagemen...         [1, 1]  \n",
       "90  [Exploration of three dimensional, hierarchica...            [1]  \n",
       "91  [Strut-and-tie models for masonry walls with o...            [1]  \n",
       "92  [Benefits of two turbine rotor diameters and h...            [1]  \n",
       "93  [Folding approaches for tensioned precision pl...            [1]  \n",
       "\n",
       "[94 rows x 3 columns]"
      ]
     },
     "execution_count": 13,
     "metadata": {},
     "output_type": "execute_result"
    }
   ],
   "source": [
    "d"
   ]
  },
  {
   "cell_type": "code",
   "execution_count": 8,
   "id": "0e4677ef-c840-4734-96f4-97e967eb2129",
   "metadata": {},
   "outputs": [],
   "source": [
    "from neo4j import GraphDatabase"
   ]
  },
  {
   "cell_type": "code",
   "execution_count": 9,
   "id": "e5c3e11a-79a2-4ed3-b9f7-afaabdf8e426",
   "metadata": {},
   "outputs": [],
   "source": [
    "driver = GraphDatabase.driver(\"bolt://localhost:7687\")"
   ]
  },
  {
   "cell_type": "code",
   "execution_count": 59,
   "id": "49aa312e-d43f-4f58-904c-af5472e65955",
   "metadata": {},
   "outputs": [],
   "source": [
    "def get_two_tx(tx):\n",
    "    result = tx.run(\"\"\"\n",
    "        Match (d:Document)-[r:published_in]->(j:Journal)\n",
    "        Where d.document_type='Conference Paper' and toInteger(d.cited_count) > 0\n",
    "        With j.name as conference, d.title as paper, sum(toInteger(d.cited_count)) as cited_count\n",
    "        order by cited_count desc\n",
    "        return conference, collect(paper)[..3] as papers, collect(cited_count)[..3] as total_cited_count\n",
    "    \"\"\")\n",
    "    values = list()\n",
    "    for ix, record in enumerate(result):\n",
    "        # if ix > 1:\n",
    "        #     break\n",
    "        value = record.values()\n",
    "        if value:\n",
    "            # if isinstance(value, list) and len(value):\n",
    "            #     value = value[0]\n",
    "            values.append(value)\n",
    "    info = result.consume()  # discard the remaining records if there are any\n",
    "    # use the info for logging etc.\n",
    "    return values, info"
   ]
  },
  {
   "cell_type": "code",
   "execution_count": 60,
   "id": "9b4a47db-616a-4ad3-b139-1ea88b6d8498",
   "metadata": {},
   "outputs": [],
   "source": [
    "with driver.session(database=database) as session:\n",
    "    values, info = session.read_transaction(get_two_tx)"
   ]
  },
  {
   "cell_type": "code",
   "execution_count": null,
   "id": "c9952e02-b72c-4fd6-b9d8-e47f4e01c52d",
   "metadata": {},
   "outputs": [],
   "source": [
    "pd.DataFrame(values)"
   ]
  },
  {
   "cell_type": "code",
   "execution_count": 85,
   "id": "cc59b6a8-c8fa-4dca-b907-08b018c0b0a6",
   "metadata": {},
   "outputs": [],
   "source": [
    "values = list()\n",
    "for ix, record in enumerate(run_query(q)):\n",
    "    # if ix > 1:\n",
    "    #     break\n",
    "    value = record.values()\n",
    "    if value:\n",
    "        # if isinstance(value, list) and len(value):\n",
    "        #     value = value[0]\n",
    "        values.append(value)\n",
    "# info = r.consume()"
   ]
  },
  {
   "cell_type": "code",
   "execution_count": 86,
   "id": "4266df11-49d5-4676-9831-39f77bbe2fea",
   "metadata": {},
   "outputs": [
    {
     "data": {
      "text/plain": [
       "[]"
      ]
     },
     "execution_count": 86,
     "metadata": {},
     "output_type": "execute_result"
    }
   ],
   "source": [
    "values"
   ]
  },
  {
   "cell_type": "code",
   "execution_count": null,
   "id": "d7f9d7e6-2a77-44af-a065-e5fa9246d20b",
   "metadata": {},
   "outputs": [],
   "source": []
  }
 ],
 "metadata": {
  "kernelspec": {
   "display_name": "Py SDM",
   "language": "python",
   "name": "sdm"
  },
  "language_info": {
   "codemirror_mode": {
    "name": "ipython",
    "version": 3
   },
   "file_extension": ".py",
   "mimetype": "text/x-python",
   "name": "python",
   "nbconvert_exporter": "python",
   "pygments_lexer": "ipython3",
   "version": "3.8.12"
  }
 },
 "nbformat": 4,
 "nbformat_minor": 5
}
