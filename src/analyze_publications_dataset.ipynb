{
 "cells": [
  {
   "cell_type": "code",
   "execution_count": null,
   "id": "77aa5f9e-ca15-44e1-85c7-5159a0b420e9",
   "metadata": {},
   "outputs": [],
   "source": [
    "import pandas as pd\n",
    "from neo4j import GraphDatabase\n",
    "from os import getcwd, listdir, makedirs\n",
    "from os.path import join, isfile, exists, abspath, pardir\n",
    "from pandas_profiling import ProfileReport"
   ]
  },
  {
   "cell_type": "markdown",
   "id": "58fc2470-e684-4ff9-a9db-3c7dea9b4c4e",
   "metadata": {},
   "source": [
    "##### Configs"
   ]
  },
  {
   "cell_type": "code",
   "execution_count": null,
   "id": "e46af0da-5643-4d66-ba88-c2322f8130a3",
   "metadata": {},
   "outputs": [],
   "source": [
    "parent_dir = abspath(join(getcwd(), pardir))\n",
    "data_dir = join(parent_dir, \"data\")\n",
    "data_file = join(data_dir, \"publications.csv\")"
   ]
  },
  {
   "cell_type": "markdown",
   "id": "3d220047-dfec-4517-8994-3725e441c515",
   "metadata": {},
   "source": [
    "##### Load data"
   ]
  },
  {
   "cell_type": "code",
   "execution_count": null,
   "id": "4c303e80-ad7d-46a2-b7a5-3f4514d0774f",
   "metadata": {},
   "outputs": [],
   "source": [
    "df = pd.read_csv(data_file)\n",
    "df.head(3)"
   ]
  },
  {
   "cell_type": "code",
   "execution_count": null,
   "id": "093ad04f-874b-4e43-bdd0-6e94b2304311",
   "metadata": {},
   "outputs": [],
   "source": [
    "profile = ProfileReport(df, title=\"Publications\")"
   ]
  },
  {
   "cell_type": "code",
   "execution_count": null,
   "id": "a2c24f31-8db3-444e-85a1-3ecaebefe401",
   "metadata": {},
   "outputs": [],
   "source": []
  }
 ],
 "metadata": {
  "kernelspec": {
   "display_name": "Py SDM",
   "language": "python",
   "name": "sdm"
  },
  "language_info": {
   "codemirror_mode": {
    "name": "ipython",
    "version": 3
   },
   "file_extension": ".py",
   "mimetype": "text/x-python",
   "name": "python",
   "nbconvert_exporter": "python",
   "pygments_lexer": "ipython3",
   "version": "3.8.12"
  }
 },
 "nbformat": 4,
 "nbformat_minor": 5
}
